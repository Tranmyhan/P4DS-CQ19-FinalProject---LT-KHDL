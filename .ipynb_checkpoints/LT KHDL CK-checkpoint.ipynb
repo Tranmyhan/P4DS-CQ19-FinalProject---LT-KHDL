{
 "cells": [
  {
   "cell_type": "markdown",
   "id": "b7b241b8",
   "metadata": {},
   "source": [
    "# Lập trình KHDL - Đồ án cuối kì"
   ]
  },
  {
   "cell_type": "markdown",
   "id": "4f8c8e22",
   "metadata": {},
   "source": [
    "**Sinh viên thực hiện**\n",
    "\n",
    "|Họ Tên|MSSV|\n",
    "|---|---|\n",
    "|Hoàng Dược Lam|19120267|\n",
    "|Trần Mỹ Hân|19120217|"
   ]
  },
  {
   "cell_type": "markdown",
   "id": "8f105865",
   "metadata": {},
   "source": [
    "# Môi trường sử dụng"
   ]
  },
  {
   "cell_type": "code",
   "execution_count": 1,
   "id": "a3fee81c",
   "metadata": {},
   "outputs": [
    {
     "data": {
      "text/plain": [
       "'/home/han/miniconda3/envs/min_ds-env/bin/python'"
      ]
     },
     "execution_count": 1,
     "metadata": {},
     "output_type": "execute_result"
    }
   ],
   "source": [
    "import sys\n",
    "sys.executable"
   ]
  },
  {
   "cell_type": "markdown",
   "id": "f7d03b26",
   "metadata": {},
   "source": [
    "---"
   ]
  },
  {
   "cell_type": "markdown",
   "id": "e71bda6a",
   "metadata": {},
   "source": [
    "# Import thư viện"
   ]
  },
  {
   "cell_type": "code",
   "execution_count": 2,
   "id": "b54211eb",
   "metadata": {},
   "outputs": [],
   "source": [
    "import numpy as np\n",
    "import pandas as pd\n",
    "import matplotlib.pyplot as plt"
   ]
  },
  {
   "cell_type": "markdown",
   "id": "da2d011a",
   "metadata": {},
   "source": [
    "---"
   ]
  },
  {
   "cell_type": "markdown",
   "id": "70f52ba1",
   "metadata": {},
   "source": [
    "# Thông tin về dữ liệu"
   ]
  },
  {
   "cell_type": "markdown",
   "id": "0255fed3",
   "metadata": {},
   "source": [
    "- Dữ liệu được sử dụng là thống kê về ứng dụng của Google Playstore, bao gồm các thông tin về đánh giá của người dùng về ứng dụng. Nguồn của dữ liệu được lấy từ [kaggle](https://www.kaggle.com/gauthamp10/google-playstore-apps)\n",
    "- Về quyền sử dụng dữ liệu, tác giả cho phép sử dụng dữ liệu dựa trên MIT license, được tải lên repo trên githu. License được cung cấp [ở đây](https://github.com/gauthamp10/Google-Playstore-Dataset/blob/main/LICENSE)\n",
    "- Dữ liệu được thu thập từ Google PlayStore Android App vào tháng 6/2021 bằng Python (Scrapy) chạy trên (instance) VMCloud bởi [Gautham Prakash](https://github.com/gauthamp10)\n"
   ]
  },
  {
   "cell_type": "markdown",
   "id": "11f5748b",
   "metadata": {},
   "source": [
    "---"
   ]
  },
  {
   "cell_type": "markdown",
   "id": "1bbef17d",
   "metadata": {},
   "source": [
    "# Khám phá dữ liệu"
   ]
  },
  {
   "cell_type": "markdown",
   "id": "32aea434",
   "metadata": {},
   "source": [
    "## Đọc dữ liệu từ file csv vào dataframe"
   ]
  },
  {
   "cell_type": "code",
   "execution_count": 3,
   "id": "d340bacc",
   "metadata": {},
   "outputs": [
    {
     "data": {
      "text/html": [
       "<div>\n",
       "<style scoped>\n",
       "    .dataframe tbody tr th:only-of-type {\n",
       "        vertical-align: middle;\n",
       "    }\n",
       "\n",
       "    .dataframe tbody tr th {\n",
       "        vertical-align: top;\n",
       "    }\n",
       "\n",
       "    .dataframe thead th {\n",
       "        text-align: right;\n",
       "    }\n",
       "</style>\n",
       "<table border=\"1\" class=\"dataframe\">\n",
       "  <thead>\n",
       "    <tr style=\"text-align: right;\">\n",
       "      <th></th>\n",
       "      <th>App Name</th>\n",
       "      <th>App Id</th>\n",
       "      <th>Category</th>\n",
       "      <th>Rating</th>\n",
       "      <th>Rating Count</th>\n",
       "      <th>Installs</th>\n",
       "      <th>Minimum Installs</th>\n",
       "      <th>Maximum Installs</th>\n",
       "      <th>Free</th>\n",
       "      <th>Price</th>\n",
       "      <th>...</th>\n",
       "      <th>Developer Website</th>\n",
       "      <th>Developer Email</th>\n",
       "      <th>Released</th>\n",
       "      <th>Last Updated</th>\n",
       "      <th>Content Rating</th>\n",
       "      <th>Privacy Policy</th>\n",
       "      <th>Ad Supported</th>\n",
       "      <th>In App Purchases</th>\n",
       "      <th>Editors Choice</th>\n",
       "      <th>Scraped Time</th>\n",
       "    </tr>\n",
       "  </thead>\n",
       "  <tbody>\n",
       "    <tr>\n",
       "      <th>0</th>\n",
       "      <td>Gakondo</td>\n",
       "      <td>com.ishakwe.gakondo</td>\n",
       "      <td>Adventure</td>\n",
       "      <td>0.0</td>\n",
       "      <td>0.0</td>\n",
       "      <td>10+</td>\n",
       "      <td>10.0</td>\n",
       "      <td>15</td>\n",
       "      <td>True</td>\n",
       "      <td>0.0</td>\n",
       "      <td>...</td>\n",
       "      <td>https://beniyizibyose.tk/#/</td>\n",
       "      <td>jean21101999@gmail.com</td>\n",
       "      <td>Feb 26, 2020</td>\n",
       "      <td>Feb 26, 2020</td>\n",
       "      <td>Everyone</td>\n",
       "      <td>https://beniyizibyose.tk/projects/</td>\n",
       "      <td>False</td>\n",
       "      <td>False</td>\n",
       "      <td>False</td>\n",
       "      <td>2021-06-15 20:19:35</td>\n",
       "    </tr>\n",
       "    <tr>\n",
       "      <th>1</th>\n",
       "      <td>Ampere Battery Info</td>\n",
       "      <td>com.webserveis.batteryinfo</td>\n",
       "      <td>Tools</td>\n",
       "      <td>4.4</td>\n",
       "      <td>64.0</td>\n",
       "      <td>5,000+</td>\n",
       "      <td>5000.0</td>\n",
       "      <td>7662</td>\n",
       "      <td>True</td>\n",
       "      <td>0.0</td>\n",
       "      <td>...</td>\n",
       "      <td>https://webserveis.netlify.app/</td>\n",
       "      <td>webserveis@gmail.com</td>\n",
       "      <td>May 21, 2020</td>\n",
       "      <td>May 06, 2021</td>\n",
       "      <td>Everyone</td>\n",
       "      <td>https://dev4phones.wordpress.com/licencia-de-uso/</td>\n",
       "      <td>True</td>\n",
       "      <td>False</td>\n",
       "      <td>False</td>\n",
       "      <td>2021-06-15 20:19:35</td>\n",
       "    </tr>\n",
       "    <tr>\n",
       "      <th>2</th>\n",
       "      <td>Vibook</td>\n",
       "      <td>com.doantiepvien.crm</td>\n",
       "      <td>Productivity</td>\n",
       "      <td>0.0</td>\n",
       "      <td>0.0</td>\n",
       "      <td>50+</td>\n",
       "      <td>50.0</td>\n",
       "      <td>58</td>\n",
       "      <td>True</td>\n",
       "      <td>0.0</td>\n",
       "      <td>...</td>\n",
       "      <td>NaN</td>\n",
       "      <td>vnacrewit@gmail.com</td>\n",
       "      <td>Aug 9, 2019</td>\n",
       "      <td>Aug 19, 2019</td>\n",
       "      <td>Everyone</td>\n",
       "      <td>https://www.vietnamairlines.com/vn/en/terms-an...</td>\n",
       "      <td>False</td>\n",
       "      <td>False</td>\n",
       "      <td>False</td>\n",
       "      <td>2021-06-15 20:19:35</td>\n",
       "    </tr>\n",
       "    <tr>\n",
       "      <th>3</th>\n",
       "      <td>Smart City Trichy Public Service Vehicles 17UC...</td>\n",
       "      <td>cst.stJoseph.ug17ucs548</td>\n",
       "      <td>Communication</td>\n",
       "      <td>5.0</td>\n",
       "      <td>5.0</td>\n",
       "      <td>10+</td>\n",
       "      <td>10.0</td>\n",
       "      <td>19</td>\n",
       "      <td>True</td>\n",
       "      <td>0.0</td>\n",
       "      <td>...</td>\n",
       "      <td>http://www.climatesmarttech.com/</td>\n",
       "      <td>climatesmarttech2@gmail.com</td>\n",
       "      <td>Sep 10, 2018</td>\n",
       "      <td>Oct 13, 2018</td>\n",
       "      <td>Everyone</td>\n",
       "      <td>NaN</td>\n",
       "      <td>True</td>\n",
       "      <td>False</td>\n",
       "      <td>False</td>\n",
       "      <td>2021-06-15 20:19:35</td>\n",
       "    </tr>\n",
       "    <tr>\n",
       "      <th>4</th>\n",
       "      <td>GROW.me</td>\n",
       "      <td>com.horodyski.grower</td>\n",
       "      <td>Tools</td>\n",
       "      <td>0.0</td>\n",
       "      <td>0.0</td>\n",
       "      <td>100+</td>\n",
       "      <td>100.0</td>\n",
       "      <td>478</td>\n",
       "      <td>True</td>\n",
       "      <td>0.0</td>\n",
       "      <td>...</td>\n",
       "      <td>http://www.horodyski.com.pl</td>\n",
       "      <td>rmilekhorodyski@gmail.com</td>\n",
       "      <td>Feb 21, 2020</td>\n",
       "      <td>Nov 12, 2018</td>\n",
       "      <td>Everyone</td>\n",
       "      <td>http://www.horodyski.com.pl</td>\n",
       "      <td>False</td>\n",
       "      <td>False</td>\n",
       "      <td>False</td>\n",
       "      <td>2021-06-15 20:19:35</td>\n",
       "    </tr>\n",
       "  </tbody>\n",
       "</table>\n",
       "<p>5 rows × 24 columns</p>\n",
       "</div>"
      ],
      "text/plain": [
       "                                            App Name  \\\n",
       "0                                            Gakondo   \n",
       "1                                Ampere Battery Info   \n",
       "2                                             Vibook   \n",
       "3  Smart City Trichy Public Service Vehicles 17UC...   \n",
       "4                                            GROW.me   \n",
       "\n",
       "                       App Id       Category  Rating  Rating Count Installs  \\\n",
       "0         com.ishakwe.gakondo      Adventure     0.0           0.0      10+   \n",
       "1  com.webserveis.batteryinfo          Tools     4.4          64.0   5,000+   \n",
       "2        com.doantiepvien.crm   Productivity     0.0           0.0      50+   \n",
       "3     cst.stJoseph.ug17ucs548  Communication     5.0           5.0      10+   \n",
       "4        com.horodyski.grower          Tools     0.0           0.0     100+   \n",
       "\n",
       "   Minimum Installs  Maximum Installs  Free  Price  ...  \\\n",
       "0              10.0                15  True    0.0  ...   \n",
       "1            5000.0              7662  True    0.0  ...   \n",
       "2              50.0                58  True    0.0  ...   \n",
       "3              10.0                19  True    0.0  ...   \n",
       "4             100.0               478  True    0.0  ...   \n",
       "\n",
       "                  Developer Website              Developer Email  \\\n",
       "0       https://beniyizibyose.tk/#/       jean21101999@gmail.com   \n",
       "1   https://webserveis.netlify.app/         webserveis@gmail.com   \n",
       "2                               NaN          vnacrewit@gmail.com   \n",
       "3  http://www.climatesmarttech.com/  climatesmarttech2@gmail.com   \n",
       "4       http://www.horodyski.com.pl    rmilekhorodyski@gmail.com   \n",
       "\n",
       "       Released  Last Updated Content Rating  \\\n",
       "0  Feb 26, 2020  Feb 26, 2020       Everyone   \n",
       "1  May 21, 2020  May 06, 2021       Everyone   \n",
       "2   Aug 9, 2019  Aug 19, 2019       Everyone   \n",
       "3  Sep 10, 2018  Oct 13, 2018       Everyone   \n",
       "4  Feb 21, 2020  Nov 12, 2018       Everyone   \n",
       "\n",
       "                                      Privacy Policy Ad Supported  \\\n",
       "0                 https://beniyizibyose.tk/projects/        False   \n",
       "1  https://dev4phones.wordpress.com/licencia-de-uso/         True   \n",
       "2  https://www.vietnamairlines.com/vn/en/terms-an...        False   \n",
       "3                                                NaN         True   \n",
       "4                        http://www.horodyski.com.pl        False   \n",
       "\n",
       "  In App Purchases Editors Choice         Scraped Time  \n",
       "0            False          False  2021-06-15 20:19:35  \n",
       "1            False          False  2021-06-15 20:19:35  \n",
       "2            False          False  2021-06-15 20:19:35  \n",
       "3            False          False  2021-06-15 20:19:35  \n",
       "4            False          False  2021-06-15 20:19:35  \n",
       "\n",
       "[5 rows x 24 columns]"
      ]
     },
     "execution_count": 3,
     "metadata": {},
     "output_type": "execute_result"
    }
   ],
   "source": [
    "df = pd.read_csv('Google-Playstore.csv')\n",
    "df.head()"
   ]
  },
  {
   "cell_type": "markdown",
   "id": "ef68208a",
   "metadata": {},
   "source": [
    "## Dữ liệu gồm có bao nhiêu dòng và bao nhiêu cột?"
   ]
  },
  {
   "cell_type": "code",
   "execution_count": 4,
   "id": "d0eb5199",
   "metadata": {},
   "outputs": [
    {
     "name": "stdout",
     "output_type": "stream",
     "text": [
      "Có 2312944 dòng và 24 cột\n"
     ]
    }
   ],
   "source": [
    "num_rows = len(df)\n",
    "num_cols = len(df.columns)\n",
    "print(f'Có {num_rows} dòng và {num_cols} cột')"
   ]
  },
  {
   "cell_type": "markdown",
   "id": "1f09117a",
   "metadata": {},
   "source": [
    "## Dữ liệu có các dòng bị lặp không?"
   ]
  },
  {
   "cell_type": "code",
   "execution_count": 5,
   "id": "506f7edd",
   "metadata": {},
   "outputs": [
    {
     "name": "stdout",
     "output_type": "stream",
     "text": [
      "Có 0 dòng bị lặp\n"
     ]
    }
   ],
   "source": [
    "num_duplicated_rows = num_rows - len(df.duplicated(keep='first'))\n",
    "print(f'Có {num_duplicated_rows} dòng bị lặp')"
   ]
  },
  {
   "cell_type": "markdown",
   "id": "3970bf13",
   "metadata": {},
   "source": [
    "## Mỗi dòng và mỗi cột có ý nghĩa gì?"
   ]
  },
  {
   "cell_type": "markdown",
   "id": "2165e88c",
   "metadata": {},
   "source": [
    "Trích và dịch lại theo mô tả trên kaggle:\n",
    "\n",
    "Mỗi dòng chữa dữ liệu của ứng dụng với tổng số trên 600 ngàn gồm 24 thuộc tính sau: \n",
    "- **App Name**: Tên ứng dụng\n",
    "- **App Id**: ID \n",
    "- **Category**: Thể loại\n",
    "- **Rating**: Xếp hạng\n",
    "- **Rating Count**: Số lượt xếp hạng\n",
    "- **Installs**: Số lượt cài đặt (xấp xỉ)\n",
    "- **Minimum Installs**: Số lượt cài đặt thấp nhất\n",
    "- **Maximum Installs**: Số lượt cài đặt cao nhất\n",
    "- **Free**: Ứng dụng có miễn phí hay không\n",
    "- **Price**: Giá tiền\n",
    "- **Currency**: Đơn vị tiền tệ\n",
    "- **Size**: Kích thước\n",
    "- **Minimum Android**: Phiên bản Android hỗ trợ tối thiểu\n",
    "- **Developer Id**: ID của nhà phát triển trong Google Playstore\n",
    "- **Developer Website**: Website của nhà phát triển \n",
    "- **Developer Email**: Email của nhà phát triển\n",
    "- **Released**: Ngày phát hành ứng dụng\n",
    "- **Last Updated**: Ngày cập nhật gần nhất\n",
    "- **Content Rating**: Xếp hạng nội dung\n",
    "- **Privacy Policy**: Chính sách quyền riêng tư từ nhà phát triển\n",
    "- **Ad Supported**: Hỗ trợ quảng cáo trong ứng dụng hay không\n",
    "- **In app purchases**: Hỗ trợ mua hàng trong ứng dụng\n",
    "- **Editor Choice**: Có nằm trong hạng mục \"Editors' choice\" hay không\n",
    "- **Scraped Time**: Thời gian thu thập thông tin ứng dụng"
   ]
  },
  {
   "cell_type": "markdown",
   "id": "a15ed70d",
   "metadata": {},
   "source": [
    "## Mỗi cột hiện đang có kiểu dữ liệu gì? Có cột nào có kiểu dữ liệu chưa phù hợp để có thể xử lý tiếp không?"
   ]
  },
  {
   "cell_type": "code",
   "execution_count": 6,
   "id": "c355a1bc",
   "metadata": {},
   "outputs": [
    {
     "data": {
      "text/plain": [
       "App Name              object\n",
       "App Id                object\n",
       "Category              object\n",
       "Rating               float64\n",
       "Rating Count         float64\n",
       "Installs              object\n",
       "Minimum Installs     float64\n",
       "Maximum Installs       int64\n",
       "Free                    bool\n",
       "Price                float64\n",
       "Currency              object\n",
       "Size                  object\n",
       "Minimum Android       object\n",
       "Developer Id          object\n",
       "Developer Website     object\n",
       "Developer Email       object\n",
       "Released              object\n",
       "Last Updated          object\n",
       "Content Rating        object\n",
       "Privacy Policy        object\n",
       "Ad Supported            bool\n",
       "In App Purchases        bool\n",
       "Editors Choice          bool\n",
       "Scraped Time          object\n",
       "dtype: object"
      ]
     },
     "execution_count": 6,
     "metadata": {},
     "output_type": "execute_result"
    }
   ],
   "source": [
    "df.dtypes"
   ]
  },
  {
   "cell_type": "markdown",
   "id": "8fddad81",
   "metadata": {},
   "source": [
    "**Các vấn đề nhận thấy**:\n",
    "- Thay giá trị `NaN` trong các cột \"Rating\", \"Rating Count\", \"Minimum Installs\" thành giá trị nào đó hợp lý.\n",
    "- 'Minimum Installs' và 'Rating Count' có dạng `float64`. Ta cần chuyển cột về dạng `int64`\n",
    "- 'Install' được giải thích là lượt tải xấp xỉ, là một số kèm dấu '+' (VD: 500+) nên được để dạng object. Vì đã có 'Minimum Installs' chính là phần số trong 'Install', nên ta có thể bỏ cột 'Install'\n",
    "- 'Size' là kích thước của ứng dụng, nhưng có kèm đơn vị đằng sau (k - Kb, M - Mb, G - Gb), nên về sau nếu có phần đặt câu hỏi liên quan đến cột này, có thể ta sẽ cần phải chuyển đổi về 1 đơn vị chuẩn, và bỏ đi 1 số giá trị chưa phù hợp\n",
    "- Các cột 'Released', 'Last Updated', 'Scraped Time' đang có dạng `object`. Ta cần chuyển về`datetime`"
   ]
  },
  {
   "cell_type": "markdown",
   "id": "129d727d",
   "metadata": {},
   "source": [
    "## Tỷ lệ các giá trị thiếu"
   ]
  },
  {
   "cell_type": "code",
   "execution_count": 7,
   "id": "cfe885a2",
   "metadata": {},
   "outputs": [],
   "source": [
    "def missing_ratio(s):\n",
    "    return s.isnull().mean() * 100"
   ]
  },
  {
   "cell_type": "code",
   "execution_count": 8,
   "id": "81b8238b",
   "metadata": {},
   "outputs": [
    {
     "data": {
      "text/plain": [
       "App Name              0.000086\n",
       "App Id                0.000000\n",
       "Category              0.000000\n",
       "Rating                0.989345\n",
       "Rating Count          0.989345\n",
       "Installs              0.004626\n",
       "Minimum Installs      0.004626\n",
       "Maximum Installs      0.000000\n",
       "Free                  0.000000\n",
       "Price                 0.000000\n",
       "Currency              0.005837\n",
       "Size                  0.008474\n",
       "Minimum Android       0.282324\n",
       "Developer Id          0.001427\n",
       "Developer Website    32.894657\n",
       "Developer Email       0.001340\n",
       "Released              3.071972\n",
       "Last Updated          0.000000\n",
       "Content Rating        0.000000\n",
       "Privacy Policy       18.199879\n",
       "Ad Supported          0.000000\n",
       "In App Purchases      0.000000\n",
       "Editors Choice        0.000000\n",
       "Scraped Time          0.000000\n",
       "dtype: float64"
      ]
     },
     "execution_count": 8,
     "metadata": {},
     "output_type": "execute_result"
    }
   ],
   "source": [
    "df.agg(missing_ratio)"
   ]
  },
  {
   "cell_type": "markdown",
   "id": "479ee6f5",
   "metadata": {},
   "source": [
    "Nhìn chung, các giá trị thiếu không nhiều, nên không cần phải bỏ đi cột nào có chứa quá nhiều giá trị thiếu"
   ]
  },
  {
   "cell_type": "markdown",
   "id": "fb448519",
   "metadata": {},
   "source": [
    "---"
   ]
  },
  {
   "cell_type": "markdown",
   "id": "4e371646",
   "metadata": {},
   "source": [
    "# Tiền xử lý"
   ]
  },
  {
   "cell_type": "markdown",
   "id": "17ed16cb",
   "metadata": {},
   "source": [
    "## Bỏ cột Installs"
   ]
  },
  {
   "cell_type": "code",
   "execution_count": 9,
   "id": "534fc234",
   "metadata": {},
   "outputs": [],
   "source": [
    "df.drop(columns = 'Installs', inplace = True)"
   ]
  },
  {
   "cell_type": "markdown",
   "id": "5a27bcda",
   "metadata": {},
   "source": [
    "## Thay các giá trị NaN thành giá trị hợp lý"
   ]
  },
  {
   "cell_type": "markdown",
   "id": "3afacc3c",
   "metadata": {},
   "source": [
    "Ta nhận thấy, ở 3 cột trên, giá trị nhỏ nhất có thể có là 0 (Không có lượt tải / đánh giá nào cả). Vì vậy, ta sẽ thay các giá trị NaN thành 0"
   ]
  },
  {
   "cell_type": "code",
   "execution_count": 10,
   "id": "65bf3c30",
   "metadata": {},
   "outputs": [],
   "source": [
    "df['Rating'] = df['Rating'].replace(np.nan, 0)\n",
    "df['Rating Count'] = df['Rating Count'].replace(np.nan, 0)\n",
    "df['Minimum Installs'] = df['Minimum Installs'].replace(np.nan, 0)"
   ]
  },
  {
   "cell_type": "markdown",
   "id": "60f91296",
   "metadata": {},
   "source": [
    "## Chuyển dtype của các cột 'Minimum Installs' và 'Rating Count' thành int64"
   ]
  },
  {
   "cell_type": "markdown",
   "id": "749f92b8",
   "metadata": {},
   "source": [
    "Sau khi đã điều chỉnh các giá trị NaN thành 0, ta có thể chuyển dữ liệu 2 cột này thành int64"
   ]
  },
  {
   "cell_type": "code",
   "execution_count": 11,
   "id": "74a0b79b",
   "metadata": {},
   "outputs": [],
   "source": [
    "df['Minimum Installs'] = df['Minimum Installs'].astype(np.int64)\n",
    "df['Rating Count'] = df['Rating Count'].astype(np.int64)"
   ]
  },
  {
   "cell_type": "markdown",
   "id": "47935533",
   "metadata": {},
   "source": [
    "## Chuyển dtype của các cột 'Released', 'Last Updated', 'Scraped Time' thành datetime"
   ]
  },
  {
   "cell_type": "code",
   "execution_count": 12,
   "id": "8c001031",
   "metadata": {},
   "outputs": [],
   "source": [
    "df['Released'] = pd.to_datetime(df['Released'], format = '%b %d, %Y')\n",
    "df['Last Updated'] = pd.to_datetime(df['Last Updated'], format = '%b %d, %Y')\n",
    "df['Scraped Time'] = pd.to_datetime(df['Scraped Time'], format = '%Y-%m-%d %X')"
   ]
  },
  {
   "cell_type": "markdown",
   "id": "d9f948b3",
   "metadata": {},
   "source": [
    "Kiểm tra lại dtypes"
   ]
  },
  {
   "cell_type": "code",
   "execution_count": 13,
   "id": "43469173",
   "metadata": {},
   "outputs": [
    {
     "data": {
      "text/plain": [
       "App Name                     object\n",
       "App Id                       object\n",
       "Category                     object\n",
       "Rating                      float64\n",
       "Rating Count                  int64\n",
       "Minimum Installs              int64\n",
       "Maximum Installs              int64\n",
       "Free                           bool\n",
       "Price                       float64\n",
       "Currency                     object\n",
       "Size                         object\n",
       "Minimum Android              object\n",
       "Developer Id                 object\n",
       "Developer Website            object\n",
       "Developer Email              object\n",
       "Released             datetime64[ns]\n",
       "Last Updated         datetime64[ns]\n",
       "Content Rating               object\n",
       "Privacy Policy               object\n",
       "Ad Supported                   bool\n",
       "In App Purchases               bool\n",
       "Editors Choice                 bool\n",
       "Scraped Time         datetime64[ns]\n",
       "dtype: object"
      ]
     },
     "execution_count": 13,
     "metadata": {},
     "output_type": "execute_result"
    }
   ],
   "source": [
    "df.dtypes"
   ]
  },
  {
   "cell_type": "markdown",
   "id": "6a1b4047",
   "metadata": {},
   "source": [
    "# Quay lại bước khám phá dữ liệu"
   ]
  },
  {
   "cell_type": "markdown",
   "id": "4330804e",
   "metadata": {},
   "source": [
    "## Với các cột có kiểu numeric và datetime ,các giá trị được phân bố như thế nào?"
   ]
  },
  {
   "cell_type": "code",
   "execution_count": 14,
   "id": "d6f39246",
   "metadata": {},
   "outputs": [
    {
     "data": {
      "text/html": [
       "<div>\n",
       "<style scoped>\n",
       "    .dataframe tbody tr th:only-of-type {\n",
       "        vertical-align: middle;\n",
       "    }\n",
       "\n",
       "    .dataframe tbody tr th {\n",
       "        vertical-align: top;\n",
       "    }\n",
       "\n",
       "    .dataframe thead th {\n",
       "        text-align: right;\n",
       "    }\n",
       "</style>\n",
       "<table border=\"1\" class=\"dataframe\">\n",
       "  <thead>\n",
       "    <tr style=\"text-align: right;\">\n",
       "      <th></th>\n",
       "      <th>Rating</th>\n",
       "      <th>Rating Count</th>\n",
       "      <th>Minimum Installs</th>\n",
       "      <th>Maximum Installs</th>\n",
       "      <th>Price</th>\n",
       "      <th>Released</th>\n",
       "      <th>Last Updated</th>\n",
       "      <th>Scraped Time</th>\n",
       "    </tr>\n",
       "  </thead>\n",
       "  <tbody>\n",
       "    <tr>\n",
       "      <th>min</th>\n",
       "      <td>0.0</td>\n",
       "      <td>0</td>\n",
       "      <td>0</td>\n",
       "      <td>0</td>\n",
       "      <td>0.0</td>\n",
       "      <td>2010-01-28</td>\n",
       "      <td>2009-02-09</td>\n",
       "      <td>2021-06-15 20:19:35</td>\n",
       "    </tr>\n",
       "    <tr>\n",
       "      <th>max</th>\n",
       "      <td>5.0</td>\n",
       "      <td>138557570</td>\n",
       "      <td>10000000000</td>\n",
       "      <td>12057627016</td>\n",
       "      <td>400.0</td>\n",
       "      <td>2021-06-16</td>\n",
       "      <td>2021-06-16</td>\n",
       "      <td>2021-06-16 15:10:42</td>\n",
       "    </tr>\n",
       "  </tbody>\n",
       "</table>\n",
       "</div>"
      ],
      "text/plain": [
       "     Rating  Rating Count  Minimum Installs  Maximum Installs  Price  \\\n",
       "min     0.0             0                 0                 0    0.0   \n",
       "max     5.0     138557570       10000000000       12057627016  400.0   \n",
       "\n",
       "      Released Last Updated        Scraped Time  \n",
       "min 2010-01-28   2009-02-09 2021-06-15 20:19:35  \n",
       "max 2021-06-16   2021-06-16 2021-06-16 15:10:42  "
      ]
     },
     "execution_count": 14,
     "metadata": {},
     "output_type": "execute_result"
    }
   ],
   "source": [
    "num_cols = df.agg(lambda x: x.dtypes != object and x.dtypes != bool)\n",
    "num_cols = num_cols[num_cols].index.to_list()\n",
    "df[num_cols].agg([min, max])"
   ]
  },
  {
   "cell_type": "markdown",
   "id": "583f60a5",
   "metadata": {},
   "source": [
    "Dựa trên phân bố trên:\n",
    "- Theo cột \"Rating\", \"Rating Count\" thì có vẻ như có tận 25% các app không có đánh giá.\n",
    "\n",
    "- Có vẻ như đa phần các app đều free nên phân vị thứ 25, 50, 75 của \"Price\" là 0 (hoặc gần bằng 0)"
   ]
  },
  {
   "cell_type": "markdown",
   "id": "330959c7",
   "metadata": {},
   "source": [
    "## Với mỗi cột có kiểu dữ liệu dạng categorical, các giá trị được phân bố như thế nào?"
   ]
  },
  {
   "cell_type": "code",
   "execution_count": 15,
   "id": "2d4fa48f",
   "metadata": {},
   "outputs": [],
   "source": [
    "def num_diff_vals(s):\n",
    "    return s.nunique()\n",
    "def diff_vals(s):\n",
    "    return s.unique()"
   ]
  },
  {
   "cell_type": "code",
   "execution_count": 16,
   "id": "810433ce",
   "metadata": {},
   "outputs": [
    {
     "data": {
      "text/html": [
       "<div>\n",
       "<style scoped>\n",
       "    .dataframe tbody tr th:only-of-type {\n",
       "        vertical-align: middle;\n",
       "    }\n",
       "\n",
       "    .dataframe tbody tr th {\n",
       "        vertical-align: top;\n",
       "    }\n",
       "\n",
       "    .dataframe thead th {\n",
       "        text-align: right;\n",
       "    }\n",
       "</style>\n",
       "<table border=\"1\" class=\"dataframe\">\n",
       "  <thead>\n",
       "    <tr style=\"text-align: right;\">\n",
       "      <th></th>\n",
       "      <th>App Name</th>\n",
       "      <th>App Id</th>\n",
       "      <th>Category</th>\n",
       "      <th>Currency</th>\n",
       "      <th>Size</th>\n",
       "      <th>Minimum Android</th>\n",
       "      <th>Developer Id</th>\n",
       "      <th>Developer Website</th>\n",
       "      <th>Developer Email</th>\n",
       "      <th>Content Rating</th>\n",
       "      <th>Privacy Policy</th>\n",
       "    </tr>\n",
       "  </thead>\n",
       "  <tbody>\n",
       "    <tr>\n",
       "      <th>num_diff_vals</th>\n",
       "      <td>2177944</td>\n",
       "      <td>2312944</td>\n",
       "      <td>48</td>\n",
       "      <td>15</td>\n",
       "      <td>1657</td>\n",
       "      <td>154</td>\n",
       "      <td>758371</td>\n",
       "      <td>810440</td>\n",
       "      <td>950456</td>\n",
       "      <td>6</td>\n",
       "      <td>977743</td>\n",
       "    </tr>\n",
       "    <tr>\n",
       "      <th>diff_vals</th>\n",
       "      <td>[Gakondo, Ampere Battery Info, Vibook, Smart C...</td>\n",
       "      <td>[com.ishakwe.gakondo, com.webserveis.batteryin...</td>\n",
       "      <td>[Adventure, Tools, Productivity, Communication...</td>\n",
       "      <td>[USD, XXX, CAD, EUR, INR, nan, VND, GBP, BRL, ...</td>\n",
       "      <td>[10M, 2.9M, 3.7M, 1.8M, 6.2M, 46M, 2.5M, 16M, ...</td>\n",
       "      <td>[7.1 and up, 5.0 and up, 4.0.3 and up, 4.1 and...</td>\n",
       "      <td>[Jean Confident Irénée NIYIZIBYOSE, Webserveis...</td>\n",
       "      <td>[https://beniyizibyose.tk/#/, https://webserve...</td>\n",
       "      <td>[jean21101999@gmail.com, webserveis@gmail.com,...</td>\n",
       "      <td>[Everyone, Teen, Mature 17+, Everyone 10+, Adu...</td>\n",
       "      <td>[https://beniyizibyose.tk/projects/, https://d...</td>\n",
       "    </tr>\n",
       "  </tbody>\n",
       "</table>\n",
       "</div>"
      ],
      "text/plain": [
       "                                                        App Name  \\\n",
       "num_diff_vals                                            2177944   \n",
       "diff_vals      [Gakondo, Ampere Battery Info, Vibook, Smart C...   \n",
       "\n",
       "                                                          App Id  \\\n",
       "num_diff_vals                                            2312944   \n",
       "diff_vals      [com.ishakwe.gakondo, com.webserveis.batteryin...   \n",
       "\n",
       "                                                        Category  \\\n",
       "num_diff_vals                                                 48   \n",
       "diff_vals      [Adventure, Tools, Productivity, Communication...   \n",
       "\n",
       "                                                        Currency  \\\n",
       "num_diff_vals                                                 15   \n",
       "diff_vals      [USD, XXX, CAD, EUR, INR, nan, VND, GBP, BRL, ...   \n",
       "\n",
       "                                                            Size  \\\n",
       "num_diff_vals                                               1657   \n",
       "diff_vals      [10M, 2.9M, 3.7M, 1.8M, 6.2M, 46M, 2.5M, 16M, ...   \n",
       "\n",
       "                                                 Minimum Android  \\\n",
       "num_diff_vals                                                154   \n",
       "diff_vals      [7.1 and up, 5.0 and up, 4.0.3 and up, 4.1 and...   \n",
       "\n",
       "                                                    Developer Id  \\\n",
       "num_diff_vals                                             758371   \n",
       "diff_vals      [Jean Confident Irénée NIYIZIBYOSE, Webserveis...   \n",
       "\n",
       "                                               Developer Website  \\\n",
       "num_diff_vals                                             810440   \n",
       "diff_vals      [https://beniyizibyose.tk/#/, https://webserve...   \n",
       "\n",
       "                                                 Developer Email  \\\n",
       "num_diff_vals                                             950456   \n",
       "diff_vals      [jean21101999@gmail.com, webserveis@gmail.com,...   \n",
       "\n",
       "                                                  Content Rating  \\\n",
       "num_diff_vals                                                  6   \n",
       "diff_vals      [Everyone, Teen, Mature 17+, Everyone 10+, Adu...   \n",
       "\n",
       "                                                  Privacy Policy  \n",
       "num_diff_vals                                             977743  \n",
       "diff_vals      [https://beniyizibyose.tk/projects/, https://d...  "
      ]
     },
     "execution_count": 16,
     "metadata": {},
     "output_type": "execute_result"
    }
   ],
   "source": [
    "cate_cols = df.agg(lambda x: x.dtypes == object)\n",
    "cate_cols = cate_cols[cate_cols].index.to_list()\n",
    "df[cate_cols].agg([num_diff_vals, diff_vals])"
   ]
  },
  {
   "cell_type": "markdown",
   "id": "72f7374c",
   "metadata": {},
   "source": [
    "## Với mỗi cột có kiểu dữ liệu dạng bool, các giá trị được phân bố như thế nào?"
   ]
  },
  {
   "cell_type": "code",
   "execution_count": 17,
   "id": "52183fed",
   "metadata": {},
   "outputs": [],
   "source": [
    "def num_true_vals(s):\n",
    "    return s.value_counts()[True]\n",
    "def num_false_vals(s):\n",
    "    return s.value_counts()[False]"
   ]
  },
  {
   "cell_type": "code",
   "execution_count": 18,
   "id": "b0ccb2da",
   "metadata": {},
   "outputs": [
    {
     "data": {
      "text/html": [
       "<div>\n",
       "<style scoped>\n",
       "    .dataframe tbody tr th:only-of-type {\n",
       "        vertical-align: middle;\n",
       "    }\n",
       "\n",
       "    .dataframe tbody tr th {\n",
       "        vertical-align: top;\n",
       "    }\n",
       "\n",
       "    .dataframe thead th {\n",
       "        text-align: right;\n",
       "    }\n",
       "</style>\n",
       "<table border=\"1\" class=\"dataframe\">\n",
       "  <thead>\n",
       "    <tr style=\"text-align: right;\">\n",
       "      <th></th>\n",
       "      <th>Free</th>\n",
       "      <th>Ad Supported</th>\n",
       "      <th>In App Purchases</th>\n",
       "      <th>Editors Choice</th>\n",
       "    </tr>\n",
       "  </thead>\n",
       "  <tbody>\n",
       "    <tr>\n",
       "      <th>num_true_vals</th>\n",
       "      <td>2267876</td>\n",
       "      <td>1150774</td>\n",
       "      <td>195309</td>\n",
       "      <td>853</td>\n",
       "    </tr>\n",
       "    <tr>\n",
       "      <th>num_false_vals</th>\n",
       "      <td>45068</td>\n",
       "      <td>1162170</td>\n",
       "      <td>2117635</td>\n",
       "      <td>2312091</td>\n",
       "    </tr>\n",
       "  </tbody>\n",
       "</table>\n",
       "</div>"
      ],
      "text/plain": [
       "                   Free  Ad Supported  In App Purchases  Editors Choice\n",
       "num_true_vals   2267876       1150774            195309             853\n",
       "num_false_vals    45068       1162170           2117635         2312091"
      ]
     },
     "execution_count": 18,
     "metadata": {},
     "output_type": "execute_result"
    }
   ],
   "source": [
    "bool_cols = df.agg(lambda x: x.dtypes == bool)\n",
    "bool_cols = bool_cols[bool_cols].index.to_list()\n",
    "df[bool_cols].agg([num_true_vals,num_false_vals])"
   ]
  },
  {
   "cell_type": "markdown",
   "id": "471b2416",
   "metadata": {},
   "source": [
    "---"
   ]
  },
  {
   "cell_type": "markdown",
   "id": "e63c6f51",
   "metadata": {},
   "source": [
    "# Quay lại bước tiền xử lý"
   ]
  },
  {
   "cell_type": "markdown",
   "id": "1809298e",
   "metadata": {},
   "source": [
    "## Thêm cột \"Year_released\" vào dataframe "
   ]
  },
  {
   "cell_type": "markdown",
   "id": "0795140f",
   "metadata": {},
   "source": [
    "Cột \"Year_released\" lưu năm phát hành của ứng dụng, phục vụ cho đặt câu hỏi."
   ]
  },
  {
   "cell_type": "code",
   "execution_count": 19,
   "id": "57087166",
   "metadata": {},
   "outputs": [
    {
     "data": {
      "text/html": [
       "<div>\n",
       "<style scoped>\n",
       "    .dataframe tbody tr th:only-of-type {\n",
       "        vertical-align: middle;\n",
       "    }\n",
       "\n",
       "    .dataframe tbody tr th {\n",
       "        vertical-align: top;\n",
       "    }\n",
       "\n",
       "    .dataframe thead th {\n",
       "        text-align: right;\n",
       "    }\n",
       "</style>\n",
       "<table border=\"1\" class=\"dataframe\">\n",
       "  <thead>\n",
       "    <tr style=\"text-align: right;\">\n",
       "      <th></th>\n",
       "      <th>App Name</th>\n",
       "      <th>App Id</th>\n",
       "      <th>Category</th>\n",
       "      <th>Rating</th>\n",
       "      <th>Rating Count</th>\n",
       "      <th>Minimum Installs</th>\n",
       "      <th>Maximum Installs</th>\n",
       "      <th>Free</th>\n",
       "      <th>Price</th>\n",
       "      <th>Currency</th>\n",
       "      <th>...</th>\n",
       "      <th>Developer Email</th>\n",
       "      <th>Released</th>\n",
       "      <th>Last Updated</th>\n",
       "      <th>Content Rating</th>\n",
       "      <th>Privacy Policy</th>\n",
       "      <th>Ad Supported</th>\n",
       "      <th>In App Purchases</th>\n",
       "      <th>Editors Choice</th>\n",
       "      <th>Scraped Time</th>\n",
       "      <th>Year_released</th>\n",
       "    </tr>\n",
       "  </thead>\n",
       "  <tbody>\n",
       "    <tr>\n",
       "      <th>0</th>\n",
       "      <td>Gakondo</td>\n",
       "      <td>com.ishakwe.gakondo</td>\n",
       "      <td>Adventure</td>\n",
       "      <td>0.0</td>\n",
       "      <td>0</td>\n",
       "      <td>10</td>\n",
       "      <td>15</td>\n",
       "      <td>True</td>\n",
       "      <td>0.0</td>\n",
       "      <td>USD</td>\n",
       "      <td>...</td>\n",
       "      <td>jean21101999@gmail.com</td>\n",
       "      <td>2020-02-26</td>\n",
       "      <td>2020-02-26</td>\n",
       "      <td>Everyone</td>\n",
       "      <td>https://beniyizibyose.tk/projects/</td>\n",
       "      <td>False</td>\n",
       "      <td>False</td>\n",
       "      <td>False</td>\n",
       "      <td>2021-06-15 20:19:35</td>\n",
       "      <td>2020.0</td>\n",
       "    </tr>\n",
       "    <tr>\n",
       "      <th>1</th>\n",
       "      <td>Ampere Battery Info</td>\n",
       "      <td>com.webserveis.batteryinfo</td>\n",
       "      <td>Tools</td>\n",
       "      <td>4.4</td>\n",
       "      <td>64</td>\n",
       "      <td>5000</td>\n",
       "      <td>7662</td>\n",
       "      <td>True</td>\n",
       "      <td>0.0</td>\n",
       "      <td>USD</td>\n",
       "      <td>...</td>\n",
       "      <td>webserveis@gmail.com</td>\n",
       "      <td>2020-05-21</td>\n",
       "      <td>2021-05-06</td>\n",
       "      <td>Everyone</td>\n",
       "      <td>https://dev4phones.wordpress.com/licencia-de-uso/</td>\n",
       "      <td>True</td>\n",
       "      <td>False</td>\n",
       "      <td>False</td>\n",
       "      <td>2021-06-15 20:19:35</td>\n",
       "      <td>2020.0</td>\n",
       "    </tr>\n",
       "    <tr>\n",
       "      <th>2</th>\n",
       "      <td>Vibook</td>\n",
       "      <td>com.doantiepvien.crm</td>\n",
       "      <td>Productivity</td>\n",
       "      <td>0.0</td>\n",
       "      <td>0</td>\n",
       "      <td>50</td>\n",
       "      <td>58</td>\n",
       "      <td>True</td>\n",
       "      <td>0.0</td>\n",
       "      <td>USD</td>\n",
       "      <td>...</td>\n",
       "      <td>vnacrewit@gmail.com</td>\n",
       "      <td>2019-08-09</td>\n",
       "      <td>2019-08-19</td>\n",
       "      <td>Everyone</td>\n",
       "      <td>https://www.vietnamairlines.com/vn/en/terms-an...</td>\n",
       "      <td>False</td>\n",
       "      <td>False</td>\n",
       "      <td>False</td>\n",
       "      <td>2021-06-15 20:19:35</td>\n",
       "      <td>2019.0</td>\n",
       "    </tr>\n",
       "    <tr>\n",
       "      <th>3</th>\n",
       "      <td>Smart City Trichy Public Service Vehicles 17UC...</td>\n",
       "      <td>cst.stJoseph.ug17ucs548</td>\n",
       "      <td>Communication</td>\n",
       "      <td>5.0</td>\n",
       "      <td>5</td>\n",
       "      <td>10</td>\n",
       "      <td>19</td>\n",
       "      <td>True</td>\n",
       "      <td>0.0</td>\n",
       "      <td>USD</td>\n",
       "      <td>...</td>\n",
       "      <td>climatesmarttech2@gmail.com</td>\n",
       "      <td>2018-09-10</td>\n",
       "      <td>2018-10-13</td>\n",
       "      <td>Everyone</td>\n",
       "      <td>NaN</td>\n",
       "      <td>True</td>\n",
       "      <td>False</td>\n",
       "      <td>False</td>\n",
       "      <td>2021-06-15 20:19:35</td>\n",
       "      <td>2018.0</td>\n",
       "    </tr>\n",
       "    <tr>\n",
       "      <th>4</th>\n",
       "      <td>GROW.me</td>\n",
       "      <td>com.horodyski.grower</td>\n",
       "      <td>Tools</td>\n",
       "      <td>0.0</td>\n",
       "      <td>0</td>\n",
       "      <td>100</td>\n",
       "      <td>478</td>\n",
       "      <td>True</td>\n",
       "      <td>0.0</td>\n",
       "      <td>USD</td>\n",
       "      <td>...</td>\n",
       "      <td>rmilekhorodyski@gmail.com</td>\n",
       "      <td>2020-02-21</td>\n",
       "      <td>2018-11-12</td>\n",
       "      <td>Everyone</td>\n",
       "      <td>http://www.horodyski.com.pl</td>\n",
       "      <td>False</td>\n",
       "      <td>False</td>\n",
       "      <td>False</td>\n",
       "      <td>2021-06-15 20:19:35</td>\n",
       "      <td>2020.0</td>\n",
       "    </tr>\n",
       "  </tbody>\n",
       "</table>\n",
       "<p>5 rows × 24 columns</p>\n",
       "</div>"
      ],
      "text/plain": [
       "                                            App Name  \\\n",
       "0                                            Gakondo   \n",
       "1                                Ampere Battery Info   \n",
       "2                                             Vibook   \n",
       "3  Smart City Trichy Public Service Vehicles 17UC...   \n",
       "4                                            GROW.me   \n",
       "\n",
       "                       App Id       Category  Rating  Rating Count  \\\n",
       "0         com.ishakwe.gakondo      Adventure     0.0             0   \n",
       "1  com.webserveis.batteryinfo          Tools     4.4            64   \n",
       "2        com.doantiepvien.crm   Productivity     0.0             0   \n",
       "3     cst.stJoseph.ug17ucs548  Communication     5.0             5   \n",
       "4        com.horodyski.grower          Tools     0.0             0   \n",
       "\n",
       "   Minimum Installs  Maximum Installs  Free  Price Currency  ...  \\\n",
       "0                10                15  True    0.0      USD  ...   \n",
       "1              5000              7662  True    0.0      USD  ...   \n",
       "2                50                58  True    0.0      USD  ...   \n",
       "3                10                19  True    0.0      USD  ...   \n",
       "4               100               478  True    0.0      USD  ...   \n",
       "\n",
       "               Developer Email   Released Last Updated Content Rating  \\\n",
       "0       jean21101999@gmail.com 2020-02-26   2020-02-26       Everyone   \n",
       "1         webserveis@gmail.com 2020-05-21   2021-05-06       Everyone   \n",
       "2          vnacrewit@gmail.com 2019-08-09   2019-08-19       Everyone   \n",
       "3  climatesmarttech2@gmail.com 2018-09-10   2018-10-13       Everyone   \n",
       "4    rmilekhorodyski@gmail.com 2020-02-21   2018-11-12       Everyone   \n",
       "\n",
       "                                      Privacy Policy Ad Supported  \\\n",
       "0                 https://beniyizibyose.tk/projects/        False   \n",
       "1  https://dev4phones.wordpress.com/licencia-de-uso/         True   \n",
       "2  https://www.vietnamairlines.com/vn/en/terms-an...        False   \n",
       "3                                                NaN         True   \n",
       "4                        http://www.horodyski.com.pl        False   \n",
       "\n",
       "  In App Purchases Editors Choice        Scraped Time  Year_released  \n",
       "0            False          False 2021-06-15 20:19:35         2020.0  \n",
       "1            False          False 2021-06-15 20:19:35         2020.0  \n",
       "2            False          False 2021-06-15 20:19:35         2019.0  \n",
       "3            False          False 2021-06-15 20:19:35         2018.0  \n",
       "4            False          False 2021-06-15 20:19:35         2020.0  \n",
       "\n",
       "[5 rows x 24 columns]"
      ]
     },
     "execution_count": 19,
     "metadata": {},
     "output_type": "execute_result"
    }
   ],
   "source": [
    "df[\"Year_released\"] = pd.DatetimeIndex(df['Released']).year\n",
    "df.head()"
   ]
  },
  {
   "cell_type": "markdown",
   "id": "21924c22",
   "metadata": {},
   "source": [
    "## Thêm cột \"Year_last_updated\" vào dataframe"
   ]
  },
  {
   "cell_type": "markdown",
   "id": "c0d75fc7",
   "metadata": {},
   "source": [
    "Cột \"Year_last_updated\" lưu năm cập nhật gần nhất của ứng dụng, phục vụ cho đặt câu hỏi."
   ]
  },
  {
   "cell_type": "code",
   "execution_count": 20,
   "id": "e8531010",
   "metadata": {},
   "outputs": [
    {
     "data": {
      "text/html": [
       "<div>\n",
       "<style scoped>\n",
       "    .dataframe tbody tr th:only-of-type {\n",
       "        vertical-align: middle;\n",
       "    }\n",
       "\n",
       "    .dataframe tbody tr th {\n",
       "        vertical-align: top;\n",
       "    }\n",
       "\n",
       "    .dataframe thead th {\n",
       "        text-align: right;\n",
       "    }\n",
       "</style>\n",
       "<table border=\"1\" class=\"dataframe\">\n",
       "  <thead>\n",
       "    <tr style=\"text-align: right;\">\n",
       "      <th></th>\n",
       "      <th>App Name</th>\n",
       "      <th>App Id</th>\n",
       "      <th>Category</th>\n",
       "      <th>Rating</th>\n",
       "      <th>Rating Count</th>\n",
       "      <th>Minimum Installs</th>\n",
       "      <th>Maximum Installs</th>\n",
       "      <th>Free</th>\n",
       "      <th>Price</th>\n",
       "      <th>Currency</th>\n",
       "      <th>...</th>\n",
       "      <th>Released</th>\n",
       "      <th>Last Updated</th>\n",
       "      <th>Content Rating</th>\n",
       "      <th>Privacy Policy</th>\n",
       "      <th>Ad Supported</th>\n",
       "      <th>In App Purchases</th>\n",
       "      <th>Editors Choice</th>\n",
       "      <th>Scraped Time</th>\n",
       "      <th>Year_released</th>\n",
       "      <th>Year_last_updated</th>\n",
       "    </tr>\n",
       "  </thead>\n",
       "  <tbody>\n",
       "    <tr>\n",
       "      <th>0</th>\n",
       "      <td>Gakondo</td>\n",
       "      <td>com.ishakwe.gakondo</td>\n",
       "      <td>Adventure</td>\n",
       "      <td>0.0</td>\n",
       "      <td>0</td>\n",
       "      <td>10</td>\n",
       "      <td>15</td>\n",
       "      <td>True</td>\n",
       "      <td>0.0</td>\n",
       "      <td>USD</td>\n",
       "      <td>...</td>\n",
       "      <td>2020-02-26</td>\n",
       "      <td>2020-02-26</td>\n",
       "      <td>Everyone</td>\n",
       "      <td>https://beniyizibyose.tk/projects/</td>\n",
       "      <td>False</td>\n",
       "      <td>False</td>\n",
       "      <td>False</td>\n",
       "      <td>2021-06-15 20:19:35</td>\n",
       "      <td>2020.0</td>\n",
       "      <td>2020</td>\n",
       "    </tr>\n",
       "    <tr>\n",
       "      <th>1</th>\n",
       "      <td>Ampere Battery Info</td>\n",
       "      <td>com.webserveis.batteryinfo</td>\n",
       "      <td>Tools</td>\n",
       "      <td>4.4</td>\n",
       "      <td>64</td>\n",
       "      <td>5000</td>\n",
       "      <td>7662</td>\n",
       "      <td>True</td>\n",
       "      <td>0.0</td>\n",
       "      <td>USD</td>\n",
       "      <td>...</td>\n",
       "      <td>2020-05-21</td>\n",
       "      <td>2021-05-06</td>\n",
       "      <td>Everyone</td>\n",
       "      <td>https://dev4phones.wordpress.com/licencia-de-uso/</td>\n",
       "      <td>True</td>\n",
       "      <td>False</td>\n",
       "      <td>False</td>\n",
       "      <td>2021-06-15 20:19:35</td>\n",
       "      <td>2020.0</td>\n",
       "      <td>2021</td>\n",
       "    </tr>\n",
       "    <tr>\n",
       "      <th>2</th>\n",
       "      <td>Vibook</td>\n",
       "      <td>com.doantiepvien.crm</td>\n",
       "      <td>Productivity</td>\n",
       "      <td>0.0</td>\n",
       "      <td>0</td>\n",
       "      <td>50</td>\n",
       "      <td>58</td>\n",
       "      <td>True</td>\n",
       "      <td>0.0</td>\n",
       "      <td>USD</td>\n",
       "      <td>...</td>\n",
       "      <td>2019-08-09</td>\n",
       "      <td>2019-08-19</td>\n",
       "      <td>Everyone</td>\n",
       "      <td>https://www.vietnamairlines.com/vn/en/terms-an...</td>\n",
       "      <td>False</td>\n",
       "      <td>False</td>\n",
       "      <td>False</td>\n",
       "      <td>2021-06-15 20:19:35</td>\n",
       "      <td>2019.0</td>\n",
       "      <td>2019</td>\n",
       "    </tr>\n",
       "    <tr>\n",
       "      <th>3</th>\n",
       "      <td>Smart City Trichy Public Service Vehicles 17UC...</td>\n",
       "      <td>cst.stJoseph.ug17ucs548</td>\n",
       "      <td>Communication</td>\n",
       "      <td>5.0</td>\n",
       "      <td>5</td>\n",
       "      <td>10</td>\n",
       "      <td>19</td>\n",
       "      <td>True</td>\n",
       "      <td>0.0</td>\n",
       "      <td>USD</td>\n",
       "      <td>...</td>\n",
       "      <td>2018-09-10</td>\n",
       "      <td>2018-10-13</td>\n",
       "      <td>Everyone</td>\n",
       "      <td>NaN</td>\n",
       "      <td>True</td>\n",
       "      <td>False</td>\n",
       "      <td>False</td>\n",
       "      <td>2021-06-15 20:19:35</td>\n",
       "      <td>2018.0</td>\n",
       "      <td>2018</td>\n",
       "    </tr>\n",
       "    <tr>\n",
       "      <th>4</th>\n",
       "      <td>GROW.me</td>\n",
       "      <td>com.horodyski.grower</td>\n",
       "      <td>Tools</td>\n",
       "      <td>0.0</td>\n",
       "      <td>0</td>\n",
       "      <td>100</td>\n",
       "      <td>478</td>\n",
       "      <td>True</td>\n",
       "      <td>0.0</td>\n",
       "      <td>USD</td>\n",
       "      <td>...</td>\n",
       "      <td>2020-02-21</td>\n",
       "      <td>2018-11-12</td>\n",
       "      <td>Everyone</td>\n",
       "      <td>http://www.horodyski.com.pl</td>\n",
       "      <td>False</td>\n",
       "      <td>False</td>\n",
       "      <td>False</td>\n",
       "      <td>2021-06-15 20:19:35</td>\n",
       "      <td>2020.0</td>\n",
       "      <td>2018</td>\n",
       "    </tr>\n",
       "  </tbody>\n",
       "</table>\n",
       "<p>5 rows × 25 columns</p>\n",
       "</div>"
      ],
      "text/plain": [
       "                                            App Name  \\\n",
       "0                                            Gakondo   \n",
       "1                                Ampere Battery Info   \n",
       "2                                             Vibook   \n",
       "3  Smart City Trichy Public Service Vehicles 17UC...   \n",
       "4                                            GROW.me   \n",
       "\n",
       "                       App Id       Category  Rating  Rating Count  \\\n",
       "0         com.ishakwe.gakondo      Adventure     0.0             0   \n",
       "1  com.webserveis.batteryinfo          Tools     4.4            64   \n",
       "2        com.doantiepvien.crm   Productivity     0.0             0   \n",
       "3     cst.stJoseph.ug17ucs548  Communication     5.0             5   \n",
       "4        com.horodyski.grower          Tools     0.0             0   \n",
       "\n",
       "   Minimum Installs  Maximum Installs  Free  Price Currency  ...   Released  \\\n",
       "0                10                15  True    0.0      USD  ... 2020-02-26   \n",
       "1              5000              7662  True    0.0      USD  ... 2020-05-21   \n",
       "2                50                58  True    0.0      USD  ... 2019-08-09   \n",
       "3                10                19  True    0.0      USD  ... 2018-09-10   \n",
       "4               100               478  True    0.0      USD  ... 2020-02-21   \n",
       "\n",
       "  Last Updated Content Rating  \\\n",
       "0   2020-02-26       Everyone   \n",
       "1   2021-05-06       Everyone   \n",
       "2   2019-08-19       Everyone   \n",
       "3   2018-10-13       Everyone   \n",
       "4   2018-11-12       Everyone   \n",
       "\n",
       "                                      Privacy Policy Ad Supported  \\\n",
       "0                 https://beniyizibyose.tk/projects/        False   \n",
       "1  https://dev4phones.wordpress.com/licencia-de-uso/         True   \n",
       "2  https://www.vietnamairlines.com/vn/en/terms-an...        False   \n",
       "3                                                NaN         True   \n",
       "4                        http://www.horodyski.com.pl        False   \n",
       "\n",
       "  In App Purchases Editors Choice        Scraped Time Year_released  \\\n",
       "0            False          False 2021-06-15 20:19:35        2020.0   \n",
       "1            False          False 2021-06-15 20:19:35        2020.0   \n",
       "2            False          False 2021-06-15 20:19:35        2019.0   \n",
       "3            False          False 2021-06-15 20:19:35        2018.0   \n",
       "4            False          False 2021-06-15 20:19:35        2020.0   \n",
       "\n",
       "   Year_last_updated  \n",
       "0               2020  \n",
       "1               2021  \n",
       "2               2019  \n",
       "3               2018  \n",
       "4               2018  \n",
       "\n",
       "[5 rows x 25 columns]"
      ]
     },
     "execution_count": 20,
     "metadata": {},
     "output_type": "execute_result"
    }
   ],
   "source": [
    "df[\"Year_last_updated\"] = pd.DatetimeIndex(df['Last Updated']).year\n",
    "df.head()"
   ]
  },
  {
   "cell_type": "markdown",
   "id": "56692701",
   "metadata": {},
   "source": [
    "# Đặt câu hỏi"
   ]
  },
  {
   "cell_type": "markdown",
   "id": "86b07ffd",
   "metadata": {},
   "source": [
    "- **Câu hỏi 1**: Số lượng app được phát hành qua các năm như thế nào?\n",
    "- Trả lời được câu này sẽ giúp ta biết được xu hướng phát hành app qua các năm, biết được có nên đi theo hướng phát triển app không."
   ]
  },
  {
   "cell_type": "markdown",
   "id": "1685348c",
   "metadata": {},
   "source": [
    "- **Câu hỏi 2**: Đâu là thể loại được nhiều người quan tâm nhất (nhiều người tải nhất)?\n",
    "- Trả lời được câu này sẽ giúp ta biết được xu hướng sử dụng app của người tiêu dùng từ đó chọn được thể loại app nên phát triên khi phát triển app."
   ]
  },
  {
   "cell_type": "markdown",
   "id": "149a7987",
   "metadata": {},
   "source": [
    "- **Câu hỏi 3**: Hệ điều hành Android tối thiểu được hỗ trợ phổ biến tính trên các ứng dụng được cập nhật trong năm 2021?\n",
    "- Trả lời được câu này sẽ giúp ta biết được hệ điều hành Android nên chọn khi mua smartphone, vì mua smartphone có hệ điều hành cũ quá có thể sẽ không sử dụng được."
   ]
  },
  {
   "cell_type": "markdown",
   "id": "3a5e1efd",
   "metadata": {},
   "source": [
    "- **Câu hỏi 4**: Liệu các ứng dụng có phí và có quảng cáo thì khoảng phí bao nhiêu là hợp lí (dựa trên đánh giá của người dùng, từ 4.0 trở lên là hợp lí)?\n",
    "- Ứng dụng trả phí và quảng cáo trong ứng dụng là một khoảng thu nhập thêm khá ổn ngoài lượt tải, trả lời được câu hỏi này ta có thể biết được ứng dụng với khoảng phí nào vẫn có thể thêm quảng cáo để kiếm thêm thu nhập mà không gây khó chịu cho người dùng."
   ]
  },
  {
   "cell_type": "markdown",
   "id": "caef7d82",
   "metadata": {},
   "source": [
    "---"
   ]
  },
  {
   "cell_type": "markdown",
   "id": "bc90f1f4",
   "metadata": {},
   "source": [
    "# Trả lời câu hỏi"
   ]
  },
  {
   "cell_type": "markdown",
   "id": "4c347df0",
   "metadata": {},
   "source": [
    "## Câu hỏi 1"
   ]
  },
  {
   "cell_type": "code",
   "execution_count": 21,
   "id": "438ddfee",
   "metadata": {},
   "outputs": [],
   "source": [
    "released_count = df[\"Year_released\"].value_counts().sort_index()"
   ]
  },
  {
   "cell_type": "code",
   "execution_count": 22,
   "id": "f9964a7f",
   "metadata": {},
   "outputs": [
    {
     "data": {
      "image/png": "[encoded data removed]",
      "text/plain": [
       "<Figure size 432x288 with 1 Axes>"
      ]
     },
     "metadata": {
      "needs_background": "light"
     },
     "output_type": "display_data"
    }
   ],
   "source": [
    "released_count.plot.line(xlabel = \"Năm\", ylabel = \"Số lượng app được phát hành\", marker = \".\")\n",
    "plt.show()"
   ]
  },
  {
   "cell_type": "markdown",
   "id": "27280a10",
   "metadata": {},
   "source": [
    "Đánh giá biểu đồ:\n",
    "- Nhìn chung thì số lượng app được phát hành tăng dần qua các năm, ngoại trừ năm 2021, nhưng do dữ liệu này được lấy vào tháng 6 năm 2021 nên ta có thể bỏ qua năm 2021.\n",
    "- Chỉ trong vòng 10 năm, từ 2010 chưa có bao nhiêu app đến năm 2020 lại có hơn 500000 app được phát hành thì ta có thể thấy app phát triển rất mạnh mẽ. Điều này có thể là do sự phát triển mạnh mẽ của smartphone, hầu như ai cũng có smartphone dù họ không có máy tính.\n",
    "- Như vậy đây là một lĩnh vực có triển vọng, nếu có thể cũng có thể thử phát triển app."
   ]
  },
  {
   "cell_type": "markdown",
   "id": "c80f92ec",
   "metadata": {},
   "source": [
    "## Câu hỏi 2"
   ]
  },
  {
   "cell_type": "code",
   "execution_count": 23,
   "id": "a204658f",
   "metadata": {},
   "outputs": [],
   "source": [
    "category_count_by_install = df.groupby(by=['Category'])['Minimum Installs'].sum()"
   ]
  },
  {
   "cell_type": "code",
   "execution_count": 24,
   "id": "899e3365",
   "metadata": {},
   "outputs": [
    {
     "data": {
      "image/png": "[encoded data removed]",
      "text/plain": [
       "<Figure size 720x720 with 1 Axes>"
      ]
     },
     "metadata": {
      "needs_background": "light"
     },
     "output_type": "display_data"
    }
   ],
   "source": [
    "f = plt.figure()\n",
    "f.set_figwidth(10)\n",
    "f.set_figheight(10)\n",
    "category_count_by_install.plot.bar(xlabel = \"Thể loại\", ylabel = \"Số lượng app\")\n",
    "plt.show()"
   ]
  },
  {
   "cell_type": "markdown",
   "id": "60a5b497",
   "metadata": {},
   "source": [
    "Đánh giá biểu đồ:\n",
    "- Thể loại Tools có nhiều người tải nhất, kế đến là Communication.\n",
    "- Thể loại Events có ít người tải nhất.\n",
    "- Như vậy, với người dùng, người ta quan tâm tới các ứng dụng dạng Tools nhiều nhất, kế đến là các ứng dụng Communication. Trên thực tế, các ứng dụng Communication phổ biến không nhiều lắm nên không khuyến khích phát triển ứng dụng Communication, nếu phát triển ứng dụng thì nên thử thể loại Tools."
   ]
  },
  {
   "cell_type": "markdown",
   "id": "5d6554f0",
   "metadata": {},
   "source": [
    "## Câu hỏi 3"
   ]
  },
  {
   "cell_type": "code",
   "execution_count": 25,
   "id": "82ad92c1",
   "metadata": {},
   "outputs": [],
   "source": [
    "app_updated_2021 = df[df[\"Year_last_updated\"] == 2021]\n",
    "min_hdh_count = app_updated_2021[\"Minimum Android\"].value_counts().sort_index()"
   ]
  },
  {
   "cell_type": "code",
   "execution_count": 26,
   "id": "17176719",
   "metadata": {},
   "outputs": [
    {
     "data": {
      "image/png": "[encoded data removed]",
      "text/plain": [
       "<Figure size 432x288 with 1 Axes>"
      ]
     },
     "metadata": {
      "needs_background": "light"
     },
     "output_type": "display_data"
    }
   ],
   "source": [
    "min_hdh_count.plot.bar(xlabel = \"Hệ điều hành tối thiểu\", ylabel = \"Số lượng app\")\n",
    "plt.show()"
   ]
  },
  {
   "cell_type": "markdown",
   "id": "aaa43c84",
   "metadata": {},
   "source": [
    "Đánh giá biểu đồ:\n",
    "- Đa phần hệ điều hành tối thiểu đều từ 4.0 trở lên.\n",
    "- Hệ điều hành tối thiểu là 5.0 có số lượng cao nhất.\n",
    "- Hệ điều hành tối thiểu cao nhất là 8.0.\n",
    "- Như vậy khi mua smartphone, ta nên chọn máy có hệ điều hành từ 5.0 trở lên để có thể sử dụng được phần lớn các ứng dụng, và nên mua 8.0 để có thể sử dụng được hầu hết các ứng dụng."
   ]
  },
  {
   "cell_type": "markdown",
   "id": "1d4a824d",
   "metadata": {},
   "source": [
    "## Câu hỏi 4"
   ]
  },
  {
   "cell_type": "code",
   "execution_count": 27,
   "id": "f5171656",
   "metadata": {},
   "outputs": [],
   "source": [
    "non_free = df[df[\"Free\"] == False]\n",
    "non_free_have_ad = non_free[non_free[\"Ad Supported\"] == True]\n",
    "non_free_have_ad_rating_4 = non_free_have_ad[non_free_have_ad[\"Rating\"] >= 4.0]\n",
    "price_ = dict()\n",
    "price_[\"< 1\"] = len(non_free_have_ad_rating_4[non_free_have_ad_rating_4[\"Price\"] < 1.0])\n",
    "price_[\"1 - 10\"] = len(non_free_have_ad_rating_4[(non_free_have_ad_rating_4[\"Price\"] >= 1.0)\n",
    "                                                    & (non_free_have_ad_rating_4[\"Price\"] < 10.0)])\n",
    "price_[\"10 - 50\"] = len(non_free_have_ad_rating_4[(non_free_have_ad_rating_4[\"Price\"] >= 10.0)\n",
    "                                                    & (non_free_have_ad_rating_4[\"Price\"] < 50.0)])\n",
    "price_[\"50 - 100\"] = len(non_free_have_ad_rating_4[(non_free_have_ad_rating_4[\"Price\"] >= 50.0)\n",
    "                                                    & (non_free_have_ad_rating_4[\"Price\"] < 100.0)])  \n",
    "price_[\"100 - 150\"] = len(non_free_have_ad_rating_4[(non_free_have_ad_rating_4[\"Price\"] >= 100.0)\n",
    "                                                    & (non_free_have_ad_rating_4[\"Price\"] < 150.0)])\n",
    "price_[\"150 - 200\"] = len(non_free_have_ad_rating_4[(non_free_have_ad_rating_4[\"Price\"] >= 150.0)\n",
    "                                                    & (non_free_have_ad_rating_4[\"Price\"] < 200.0)])\n",
    "price_[\"200 - 250\"] = len(non_free_have_ad_rating_4[(non_free_have_ad_rating_4[\"Price\"] >= 200.0)\n",
    "                                                    & (non_free_have_ad_rating_4[\"Price\"] < 250.0)])\n",
    "price_[\"250 - 300\"] = len(non_free_have_ad_rating_4[(non_free_have_ad_rating_4[\"Price\"] >= 250.0)\n",
    "                                                    & (non_free_have_ad_rating_4[\"Price\"] < 300.0)])\n",
    "price_[\">= 300\"] = len(non_free_have_ad_rating_4[non_free_have_ad_rating_4[\"Price\"] >= 300.0])  "
   ]
  },
  {
   "cell_type": "code",
   "execution_count": 28,
   "id": "4bbe99d4",
   "metadata": {},
   "outputs": [
    {
     "data": {
      "image/png": "[encoded data removed]",
      "text/plain": [
       "<Figure size 720x720 with 1 Axes>"
      ]
     },
     "metadata": {
      "needs_background": "light"
     },
     "output_type": "display_data"
    }
   ],
   "source": [
    "f = plt.figure()\n",
    "f.set_figwidth(10)\n",
    "f.set_figheight(10)\n",
    "plt.bar(range(len(price_)), list(price_.values()), align='center')\n",
    "plt.xticks(range(len(price_)), list(price_.keys()))\n",
    "plt.show()"
   ]
  },
  {
   "cell_type": "markdown",
   "id": "22fd106e",
   "metadata": {},
   "source": [
    "Đánh giá biểu đồ:\n",
    "- Có thể thấy lượng app trả phí có chứa quảng cáo tập trung vào mức giá < 50 đô và rất ít hoặc không có trong các app > 50 đô.\n",
    "- Mức giá từ 1 đến 10 đô có số lượng các app nhiều nhất.\n",
    "- Mức giá bé hơn 1 đô có số lượng các app nhiều thứ hai.\n",
    "- Như vậy, với các app có phí, vẫn có thể gắn quảng cáo, nhưng mức phí chỉ nên từ 10 đô trở xuống, giá cao mà vẫn có quảng cáo người dùng có thể không hài lòng và với ứng dụng có giá cao, việc gắn quảng cáo cũng là không cần thiết vì mức thu từ quảng cáo có thể không là bao so với phí ứng dụng."
   ]
  },
  {
   "cell_type": "markdown",
   "id": "714e51a6",
   "metadata": {},
   "source": [
    "# Nhìn lại quá trình làm đồ án"
   ]
  },
  {
   "cell_type": "markdown",
   "id": "749ac1d2",
   "metadata": {},
   "source": [
    "## Hân:\n",
    "**1. Những khó khăn gặp phải:**\n",
    "    - Gặp nhiều vấn đề trong việc upload file lên github thông qua git.\n",
    "    - Khó khăn trong việc tiền xử lí, phải tìm các cột, các giá trị bất hợp lí để xử lí mà không phải lúc nào cũng dễ dàng nhận ra được.\n",
    "    - Đặt câu hỏi có ý nghĩa để trả lời.\n",
    "    \n",
    "**2. Những điều đã học được:**\n",
    "    - Biết thêm một số trang web cung cấp dữ liệu.\n",
    "    - Học được nhiều hơn về python, đặc biệt là pandas.\n",
    "    - Suy nghĩ về việc trả lời câu hỏi thế nào quá nhiều trong lúc đặt câu hỏi khiến cho câu hỏi không được hay lắm."
   ]
  }
 ],
 "metadata": {
  "kernelspec": {
   "display_name": "Python 3 (ipykernel)",
   "language": "python",
   "name": "python3"
  },
  "language_info": {
   "codemirror_mode": {
    "name": "ipython",
    "version": 3
   },
   "file_extension": ".py",
   "mimetype": "text/x-python",
   "name": "python",
   "nbconvert_exporter": "python",
   "pygments_lexer": "ipython3",
   "version": "3.8.8"
  }
 },
 "nbformat": 4,
 "nbformat_minor": 5
}
