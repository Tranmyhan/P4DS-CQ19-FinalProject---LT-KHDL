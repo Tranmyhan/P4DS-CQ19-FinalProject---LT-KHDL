{
 "cells": [
  {
   "cell_type": "markdown",
   "id": "b7b241b8",
   "metadata": {},
   "source": [
    "# Lập trình KHDL - Đồ án cuối kì"
   ]
  },
  {
   "cell_type": "markdown",
   "id": "4f8c8e22",
   "metadata": {},
   "source": [
    "**Sinh viên thực hiện**\n",
    "\n",
    "|Họ Tên|MSSV|\n",
    "|---|---|\n",
    "|Hoàng Dược Lam|19120267|\n",
    "|Trần Mỹ Hân|19120217|"
   ]
  },
  {
   "cell_type": "markdown",
   "id": "8f105865",
   "metadata": {},
   "source": [
    "# Môi trường sử dụng"
   ]
  },
  {
   "cell_type": "code",
   "execution_count": 1,
   "id": "a3fee81c",
   "metadata": {},
   "outputs": [
    {
     "data": {
      "text/plain": [
       "'/home/han/miniconda3/envs/min_ds-env/bin/python'"
      ]
     },
     "execution_count": 1,
     "metadata": {},
     "output_type": "execute_result"
    }
   ],
   "source": [
    "import sys\n",
    "sys.executable"
   ]
  },
  {
   "cell_type": "markdown",
   "id": "f7d03b26",
   "metadata": {},
   "source": [
    "---"
   ]
  },
  {
   "cell_type": "markdown",
   "id": "e71bda6a",
   "metadata": {},
   "source": [
    "# Import thư viện"
   ]
  },
  {
   "cell_type": "code",
   "execution_count": 2,
   "id": "b54211eb",
   "metadata": {},
   "outputs": [],
   "source": [
    "import numpy as np\n",
    "import pandas as pd\n",
    "import matplotlib.pyplot as plt\n",
    "import datetime as dt"
   ]
  },
  {
   "cell_type": "markdown",
   "id": "da2d011a",
   "metadata": {},
   "source": [
    "---"
   ]
  },
  {
   "cell_type": "markdown",
   "id": "70f52ba1",
   "metadata": {},
   "source": [
    "# Thông tin về dữ liệu"
   ]
  },
  {
   "cell_type": "markdown",
   "id": "0255fed3",
   "metadata": {},
   "source": [
    "- Dữ liệu được sử dụng là thống kê về ứng dụng của Google Playstore, bao gồm các thông tin về đánh giá của người dùng về ứng dụng. Nguồn của dữ liệu được lấy từ [kaggle](https://www.kaggle.com/gauthamp10/google-playstore-apps)\n",
    "- Về quyền sử dụng dữ liệu, tác giả cho phép sử dụng dữ liệu dựa trên MIT license, được tải lên repo trên githu. License được cung cấp [ở đây](https://github.com/gauthamp10/Google-Playstore-Dataset/blob/main/LICENSE)\n",
    "- Dữ liệu được thu thập từ Google PlayStore Android App vào tháng 6/2021 bằng Python (Scrapy) chạy trên (instance) VMCloud bởi [Gautham Prakash](https://github.com/gauthamp10)\n"
   ]
  },
  {
   "cell_type": "markdown",
   "id": "11f5748b",
   "metadata": {},
   "source": [
    "---"
   ]
  },
  {
   "cell_type": "markdown",
   "id": "1bbef17d",
   "metadata": {},
   "source": [
    "# Khám phá dữ liệu"
   ]
  },
  {
   "cell_type": "markdown",
   "id": "32aea434",
   "metadata": {},
   "source": [
    "## Đọc dữ liệu từ file csv vào dataframe"
   ]
  },
  {
   "cell_type": "code",
   "execution_count": 3,
   "id": "d340bacc",
   "metadata": {},
   "outputs": [
    {
     "data": {
      "text/html": [
       "<div>\n",
       "<style scoped>\n",
       "    .dataframe tbody tr th:only-of-type {\n",
       "        vertical-align: middle;\n",
       "    }\n",
       "\n",
       "    .dataframe tbody tr th {\n",
       "        vertical-align: top;\n",
       "    }\n",
       "\n",
       "    .dataframe thead th {\n",
       "        text-align: right;\n",
       "    }\n",
       "</style>\n",
       "<table border=\"1\" class=\"dataframe\">\n",
       "  <thead>\n",
       "    <tr style=\"text-align: right;\">\n",
       "      <th></th>\n",
       "      <th>App Name</th>\n",
       "      <th>App Id</th>\n",
       "      <th>Category</th>\n",
       "      <th>Rating</th>\n",
       "      <th>Rating Count</th>\n",
       "      <th>Installs</th>\n",
       "      <th>Minimum Installs</th>\n",
       "      <th>Maximum Installs</th>\n",
       "      <th>Free</th>\n",
       "      <th>Price</th>\n",
       "      <th>...</th>\n",
       "      <th>Developer Website</th>\n",
       "      <th>Developer Email</th>\n",
       "      <th>Released</th>\n",
       "      <th>Last Updated</th>\n",
       "      <th>Content Rating</th>\n",
       "      <th>Privacy Policy</th>\n",
       "      <th>Ad Supported</th>\n",
       "      <th>In App Purchases</th>\n",
       "      <th>Editors Choice</th>\n",
       "      <th>Scraped Time</th>\n",
       "    </tr>\n",
       "  </thead>\n",
       "  <tbody>\n",
       "    <tr>\n",
       "      <th>0</th>\n",
       "      <td>Gakondo</td>\n",
       "      <td>com.ishakwe.gakondo</td>\n",
       "      <td>Adventure</td>\n",
       "      <td>0.0</td>\n",
       "      <td>0.0</td>\n",
       "      <td>10+</td>\n",
       "      <td>10.0</td>\n",
       "      <td>15</td>\n",
       "      <td>True</td>\n",
       "      <td>0.0</td>\n",
       "      <td>...</td>\n",
       "      <td>https://beniyizibyose.tk/#/</td>\n",
       "      <td>jean21101999@gmail.com</td>\n",
       "      <td>Feb 26, 2020</td>\n",
       "      <td>Feb 26, 2020</td>\n",
       "      <td>Everyone</td>\n",
       "      <td>https://beniyizibyose.tk/projects/</td>\n",
       "      <td>False</td>\n",
       "      <td>False</td>\n",
       "      <td>False</td>\n",
       "      <td>2021-06-15 20:19:35</td>\n",
       "    </tr>\n",
       "    <tr>\n",
       "      <th>1</th>\n",
       "      <td>Ampere Battery Info</td>\n",
       "      <td>com.webserveis.batteryinfo</td>\n",
       "      <td>Tools</td>\n",
       "      <td>4.4</td>\n",
       "      <td>64.0</td>\n",
       "      <td>5,000+</td>\n",
       "      <td>5000.0</td>\n",
       "      <td>7662</td>\n",
       "      <td>True</td>\n",
       "      <td>0.0</td>\n",
       "      <td>...</td>\n",
       "      <td>https://webserveis.netlify.app/</td>\n",
       "      <td>webserveis@gmail.com</td>\n",
       "      <td>May 21, 2020</td>\n",
       "      <td>May 06, 2021</td>\n",
       "      <td>Everyone</td>\n",
       "      <td>https://dev4phones.wordpress.com/licencia-de-uso/</td>\n",
       "      <td>True</td>\n",
       "      <td>False</td>\n",
       "      <td>False</td>\n",
       "      <td>2021-06-15 20:19:35</td>\n",
       "    </tr>\n",
       "    <tr>\n",
       "      <th>2</th>\n",
       "      <td>Vibook</td>\n",
       "      <td>com.doantiepvien.crm</td>\n",
       "      <td>Productivity</td>\n",
       "      <td>0.0</td>\n",
       "      <td>0.0</td>\n",
       "      <td>50+</td>\n",
       "      <td>50.0</td>\n",
       "      <td>58</td>\n",
       "      <td>True</td>\n",
       "      <td>0.0</td>\n",
       "      <td>...</td>\n",
       "      <td>NaN</td>\n",
       "      <td>vnacrewit@gmail.com</td>\n",
       "      <td>Aug 9, 2019</td>\n",
       "      <td>Aug 19, 2019</td>\n",
       "      <td>Everyone</td>\n",
       "      <td>https://www.vietnamairlines.com/vn/en/terms-an...</td>\n",
       "      <td>False</td>\n",
       "      <td>False</td>\n",
       "      <td>False</td>\n",
       "      <td>2021-06-15 20:19:35</td>\n",
       "    </tr>\n",
       "    <tr>\n",
       "      <th>3</th>\n",
       "      <td>Smart City Trichy Public Service Vehicles 17UC...</td>\n",
       "      <td>cst.stJoseph.ug17ucs548</td>\n",
       "      <td>Communication</td>\n",
       "      <td>5.0</td>\n",
       "      <td>5.0</td>\n",
       "      <td>10+</td>\n",
       "      <td>10.0</td>\n",
       "      <td>19</td>\n",
       "      <td>True</td>\n",
       "      <td>0.0</td>\n",
       "      <td>...</td>\n",
       "      <td>http://www.climatesmarttech.com/</td>\n",
       "      <td>climatesmarttech2@gmail.com</td>\n",
       "      <td>Sep 10, 2018</td>\n",
       "      <td>Oct 13, 2018</td>\n",
       "      <td>Everyone</td>\n",
       "      <td>NaN</td>\n",
       "      <td>True</td>\n",
       "      <td>False</td>\n",
       "      <td>False</td>\n",
       "      <td>2021-06-15 20:19:35</td>\n",
       "    </tr>\n",
       "    <tr>\n",
       "      <th>4</th>\n",
       "      <td>GROW.me</td>\n",
       "      <td>com.horodyski.grower</td>\n",
       "      <td>Tools</td>\n",
       "      <td>0.0</td>\n",
       "      <td>0.0</td>\n",
       "      <td>100+</td>\n",
       "      <td>100.0</td>\n",
       "      <td>478</td>\n",
       "      <td>True</td>\n",
       "      <td>0.0</td>\n",
       "      <td>...</td>\n",
       "      <td>http://www.horodyski.com.pl</td>\n",
       "      <td>rmilekhorodyski@gmail.com</td>\n",
       "      <td>Feb 21, 2020</td>\n",
       "      <td>Nov 12, 2018</td>\n",
       "      <td>Everyone</td>\n",
       "      <td>http://www.horodyski.com.pl</td>\n",
       "      <td>False</td>\n",
       "      <td>False</td>\n",
       "      <td>False</td>\n",
       "      <td>2021-06-15 20:19:35</td>\n",
       "    </tr>\n",
       "  </tbody>\n",
       "</table>\n",
       "<p>5 rows × 24 columns</p>\n",
       "</div>"
      ],
      "text/plain": [
       "                                            App Name  \\\n",
       "0                                            Gakondo   \n",
       "1                                Ampere Battery Info   \n",
       "2                                             Vibook   \n",
       "3  Smart City Trichy Public Service Vehicles 17UC...   \n",
       "4                                            GROW.me   \n",
       "\n",
       "                       App Id       Category  Rating  Rating Count Installs  \\\n",
       "0         com.ishakwe.gakondo      Adventure     0.0           0.0      10+   \n",
       "1  com.webserveis.batteryinfo          Tools     4.4          64.0   5,000+   \n",
       "2        com.doantiepvien.crm   Productivity     0.0           0.0      50+   \n",
       "3     cst.stJoseph.ug17ucs548  Communication     5.0           5.0      10+   \n",
       "4        com.horodyski.grower          Tools     0.0           0.0     100+   \n",
       "\n",
       "   Minimum Installs  Maximum Installs  Free  Price  ...  \\\n",
       "0              10.0                15  True    0.0  ...   \n",
       "1            5000.0              7662  True    0.0  ...   \n",
       "2              50.0                58  True    0.0  ...   \n",
       "3              10.0                19  True    0.0  ...   \n",
       "4             100.0               478  True    0.0  ...   \n",
       "\n",
       "                  Developer Website              Developer Email  \\\n",
       "0       https://beniyizibyose.tk/#/       jean21101999@gmail.com   \n",
       "1   https://webserveis.netlify.app/         webserveis@gmail.com   \n",
       "2                               NaN          vnacrewit@gmail.com   \n",
       "3  http://www.climatesmarttech.com/  climatesmarttech2@gmail.com   \n",
       "4       http://www.horodyski.com.pl    rmilekhorodyski@gmail.com   \n",
       "\n",
       "       Released  Last Updated Content Rating  \\\n",
       "0  Feb 26, 2020  Feb 26, 2020       Everyone   \n",
       "1  May 21, 2020  May 06, 2021       Everyone   \n",
       "2   Aug 9, 2019  Aug 19, 2019       Everyone   \n",
       "3  Sep 10, 2018  Oct 13, 2018       Everyone   \n",
       "4  Feb 21, 2020  Nov 12, 2018       Everyone   \n",
       "\n",
       "                                      Privacy Policy Ad Supported  \\\n",
       "0                 https://beniyizibyose.tk/projects/        False   \n",
       "1  https://dev4phones.wordpress.com/licencia-de-uso/         True   \n",
       "2  https://www.vietnamairlines.com/vn/en/terms-an...        False   \n",
       "3                                                NaN         True   \n",
       "4                        http://www.horodyski.com.pl        False   \n",
       "\n",
       "  In App Purchases Editors Choice         Scraped Time  \n",
       "0            False          False  2021-06-15 20:19:35  \n",
       "1            False          False  2021-06-15 20:19:35  \n",
       "2            False          False  2021-06-15 20:19:35  \n",
       "3            False          False  2021-06-15 20:19:35  \n",
       "4            False          False  2021-06-15 20:19:35  \n",
       "\n",
       "[5 rows x 24 columns]"
      ]
     },
     "execution_count": 3,
     "metadata": {},
     "output_type": "execute_result"
    }
   ],
   "source": [
    "df = pd.read_csv('Google-Playstore.csv')\n",
    "df.head()"
   ]
  },
  {
   "cell_type": "markdown",
   "id": "ef68208a",
   "metadata": {},
   "source": [
    "## Dữ liệu gồm có bao nhiêu dòng và bao nhiêu cột?"
   ]
  },
  {
   "cell_type": "code",
   "execution_count": 4,
   "id": "d0eb5199",
   "metadata": {},
   "outputs": [
    {
     "name": "stdout",
     "output_type": "stream",
     "text": [
      "Có 2312944 dòng và 24 cột\n"
     ]
    }
   ],
   "source": [
    "num_rows = len(df)\n",
    "num_cols = len(df.columns)\n",
    "print(f'Có {num_rows} dòng và {num_cols} cột')"
   ]
  },
  {
   "cell_type": "markdown",
   "id": "1f09117a",
   "metadata": {},
   "source": [
    "## Dữ liệu có các dòng bị lặp không?"
   ]
  },
  {
   "cell_type": "code",
   "execution_count": 5,
   "id": "506f7edd",
   "metadata": {},
   "outputs": [
    {
     "name": "stdout",
     "output_type": "stream",
     "text": [
      "Có 0 dòng bị lặp\n"
     ]
    }
   ],
   "source": [
    "num_duplicated_rows = num_rows - len(df.duplicated(keep='first'))\n",
    "print(f'Có {num_duplicated_rows} dòng bị lặp')"
   ]
  },
  {
   "cell_type": "markdown",
   "id": "3970bf13",
   "metadata": {},
   "source": [
    "## Mỗi dòng và mỗi cột có ý nghĩa gì?"
   ]
  },
  {
   "cell_type": "markdown",
   "id": "2165e88c",
   "metadata": {},
   "source": [
    "Trích và dịch lại theo mô tả trên kaggle:\n",
    "\n",
    "Mỗi dòng chữa dữ liệu của ứng dụng với tổng số trên 600 ngàn gồm 24 thuộc tính sau: \n",
    "- **App Name**: Tên ứng dụng\n",
    "- **App Id**: ID \n",
    "- **Category**: Thể loại\n",
    "- **Rating**: Xếp hạng\n",
    "- **Rating Count**: Số lượt xếp hạng\n",
    "- **Installs**: Số lượt cài đặt (xấp xỉ)\n",
    "- **Minimum Installs**: Số lượt cài đặt thấp nhất\n",
    "- **Maximum Installs**: Số lượt cài đặt cao nhất\n",
    "- **Free**: Ứng dụng có miễn phí hay không\n",
    "- **Price**: Giá tiền\n",
    "- **Currency**: Đơn vị tiền tệ\n",
    "- **Size**: Kích thước\n",
    "- **Minimum Android**: Phiên bản Android hỗ trợ tối thiểu\n",
    "- **Developer Id**: ID của nhà phát triển trong Google Playstore\n",
    "- **Developer Website**: Website của nhà phát triển \n",
    "- **Developer Email**: Email của nhà phát triển\n",
    "- **Released**: Ngày phát hành ứng dụng\n",
    "- **Last Updated**: Ngày cập nhật gần nhất\n",
    "- **Content Rating**: Xếp hạng nội dung\n",
    "- **Privacy Policy**: Chính sách quyền riêng tư từ nhà phát triển\n",
    "- **Ad Supported**: Hỗ trợ quảng cáo trong ứng dụng hay không\n",
    "- **In app purchases**: Hỗ trợ mua hàng trong ứng dụng\n",
    "- **Editor Choice**: Có nằm trong hạng mục \"Editors' choice\" hay không\n",
    "- **Scraped Time**: Thời gian thu thập thông tin ứng dụng"
   ]
  },
  {
   "cell_type": "markdown",
   "id": "a15ed70d",
   "metadata": {},
   "source": [
    "## Mỗi cột hiện đang có kiểu dữ liệu gì? Có cột nào có kiểu dữ liệu chưa phù hợp để có thể xử lý tiếp không?"
   ]
  },
  {
   "cell_type": "code",
   "execution_count": 6,
   "id": "c355a1bc",
   "metadata": {},
   "outputs": [
    {
     "data": {
      "text/plain": [
       "App Name              object\n",
       "App Id                object\n",
       "Category              object\n",
       "Rating               float64\n",
       "Rating Count         float64\n",
       "Installs              object\n",
       "Minimum Installs     float64\n",
       "Maximum Installs       int64\n",
       "Free                    bool\n",
       "Price                float64\n",
       "Currency              object\n",
       "Size                  object\n",
       "Minimum Android       object\n",
       "Developer Id          object\n",
       "Developer Website     object\n",
       "Developer Email       object\n",
       "Released              object\n",
       "Last Updated          object\n",
       "Content Rating        object\n",
       "Privacy Policy        object\n",
       "Ad Supported            bool\n",
       "In App Purchases        bool\n",
       "Editors Choice          bool\n",
       "Scraped Time          object\n",
       "dtype: object"
      ]
     },
     "execution_count": 6,
     "metadata": {},
     "output_type": "execute_result"
    }
   ],
   "source": [
    "df.dtypes"
   ]
  },
  {
   "cell_type": "markdown",
   "id": "8fddad81",
   "metadata": {},
   "source": [
    "**Các vấn đề nhận thấy**:\n",
    "- Thay giá trị `NaN` trong các cột \"Rating\", \"Rating Count\", \"Minimum Installs\" thành giá trị nào đó hợp lý.\n",
    "- 'Minimum Installs' và 'Rating Count' có dạng `float64`. Ta cần chuyển cột về dạng `int64`\n",
    "- 'Install' được giải thích là lượt tải xấp xỉ, là một số kèm dấu '+' (VD: 500+) nên được để dạng object. Vì đã có 'Minimum Installs' chính là phần số trong 'Install', nên ta có thể bỏ cột 'Install'\n",
    "- 'Size' là kích thước của ứng dụng, nhưng có kèm đơn vị đằng sau (k - Kb, M - Mb, G - Gb), nên về sau nếu có phần đặt câu hỏi liên quan đến cột này, có thể ta sẽ cần phải chuyển đổi về 1 đơn vị chuẩn, và bỏ đi 1 số giá trị chưa phù hợp\n",
    "- Các cột 'Released', 'Last Updated', 'Scraped Time' đang có dạng `object`. Ta cần chuyển về`datetime`"
   ]
  },
  {
   "cell_type": "markdown",
   "id": "129d727d",
   "metadata": {},
   "source": [
    "## Tỷ lệ các giá trị thiếu"
   ]
  },
  {
   "cell_type": "code",
   "execution_count": 7,
   "id": "cfe885a2",
   "metadata": {},
   "outputs": [],
   "source": [
    "def missing_ratio(s):\n",
    "    return s.isnull().mean() * 100"
   ]
  },
  {
   "cell_type": "code",
   "execution_count": 8,
   "id": "81b8238b",
   "metadata": {},
   "outputs": [
    {
     "data": {
      "text/plain": [
       "App Name              0.000086\n",
       "App Id                0.000000\n",
       "Category              0.000000\n",
       "Rating                0.989345\n",
       "Rating Count          0.989345\n",
       "Installs              0.004626\n",
       "Minimum Installs      0.004626\n",
       "Maximum Installs      0.000000\n",
       "Free                  0.000000\n",
       "Price                 0.000000\n",
       "Currency              0.005837\n",
       "Size                  0.008474\n",
       "Minimum Android       0.282324\n",
       "Developer Id          0.001427\n",
       "Developer Website    32.894657\n",
       "Developer Email       0.001340\n",
       "Released              3.071972\n",
       "Last Updated          0.000000\n",
       "Content Rating        0.000000\n",
       "Privacy Policy       18.199879\n",
       "Ad Supported          0.000000\n",
       "In App Purchases      0.000000\n",
       "Editors Choice        0.000000\n",
       "Scraped Time          0.000000\n",
       "dtype: float64"
      ]
     },
     "execution_count": 8,
     "metadata": {},
     "output_type": "execute_result"
    }
   ],
   "source": [
    "df.agg(missing_ratio)"
   ]
  },
  {
   "cell_type": "markdown",
   "id": "479ee6f5",
   "metadata": {},
   "source": [
    "Nhìn chung, các giá trị thiếu không nhiều, nên không cần phải bỏ đi cột nào có chứa quá nhiều giá trị thiếu\n",
    "\n",
    "Tuy nhiên, ta cũng cần bỏ đi giá trị thiếu ở 1 số cột như 'Size', 'Minimum Android', 'App Name', 'Released'. Vì các giá trị thiếu này chiếm không nhiều nên không ảnh hưởng đến chất lượng dataset. Cột 'Currency' ta tạm thời giữ nguyên vì việc loại bỏ các giá trị thiếu còn liên quan tới việc app có miễn phí hay không."
   ]
  },
  {
   "cell_type": "markdown",
   "id": "e271a49e",
   "metadata": {},
   "source": [
    "## Kiểm tra giá trị ở một số cột có dạng object lạ"
   ]
  },
  {
   "cell_type": "markdown",
   "id": "246f4694",
   "metadata": {},
   "source": [
    "### Với cột 'Install'"
   ]
  },
  {
   "cell_type": "code",
   "execution_count": 9,
   "id": "79c76094",
   "metadata": {},
   "outputs": [
    {
     "data": {
      "text/plain": [
       "array(['10+', '5,000+', '50+', '100+', '1,000+', '500+', '50,000+',\n",
       "       '10,000+', '1+', '500,000+', '100,000+', '5+', '10,000,000+',\n",
       "       '1,000,000+', '5,000,000+', '0+', '100,000,000+', nan,\n",
       "       '50,000,000+', '1,000,000,000+', '500,000,000+', '5,000,000,000+',\n",
       "       '10,000,000,000+'], dtype=object)"
      ]
     },
     "execution_count": 9,
     "metadata": {},
     "output_type": "execute_result"
    }
   ],
   "source": [
    "df['Installs'].unique()"
   ]
  },
  {
   "cell_type": "markdown",
   "id": "443eefd2",
   "metadata": {},
   "source": [
    "Có vẻ 'Installs' được giải thích là lượt tải xấp xỉ, là một số kèm dấu '+' (VD: 500+) nên được để dạng object. Vì đã có 'Minimum Installs' chính là phần số trong 'Installs', nên ta có thể bỏ cột 'Installs'"
   ]
  },
  {
   "cell_type": "markdown",
   "id": "19870716",
   "metadata": {},
   "source": [
    "### Với cột 'Size'"
   ]
  },
  {
   "cell_type": "code",
   "execution_count": 10,
   "id": "fbb45eaf",
   "metadata": {},
   "outputs": [
    {
     "data": {
      "text/plain": [
       "array(['10M', '2.9M', '3.7M', ..., '405M', '3.2k', '512M'], dtype=object)"
      ]
     },
     "execution_count": 10,
     "metadata": {},
     "output_type": "execute_result"
    }
   ],
   "source": [
    "df['Size'].unique()"
   ]
  },
  {
   "cell_type": "markdown",
   "id": "c1748b0c",
   "metadata": {},
   "source": [
    "Ở 'Size' đây có giá trị dạng 1 số là kích thước, kèm đơn vị đằng sau. Ta thử tách phần kích thước đằng sau xem có bao nhiêu loại kích thước, có giá trị nào lạ không"
   ]
  },
  {
   "cell_type": "code",
   "execution_count": 11,
   "id": "b0e34882",
   "metadata": {},
   "outputs": [
    {
     "data": {
      "text/plain": [
       "M                     2201705\n",
       "Varies with device      74777\n",
       "k                       36253\n",
       "G                          13\n",
       "Name: Size, dtype: int64"
      ]
     },
     "execution_count": 11,
     "metadata": {},
     "output_type": "execute_result"
    }
   ],
   "source": [
    "df['Size'].str.extract(r'([^\\d]+)$', expand=False).value_counts()"
   ]
  },
  {
   "cell_type": "markdown",
   "id": "11af175d",
   "metadata": {},
   "source": [
    "Vậy 'Size' là kích thước của ứng dụng, nhưng có kèm đơn vị đằng sau (k - Kb, M - Mb, G - Gb) hoặc là dạng 'Variance with device', nên về sau nếu có phần đặt câu hỏi liên quan đến cột này, có thể ta sẽ cần phải chuyển đổi về 1 đơn vị chuẩn, và thay đổi 'Varies with device' thành giá trị phù hợp"
   ]
  },
  {
   "cell_type": "markdown",
   "id": "fb448519",
   "metadata": {},
   "source": [
    "---"
   ]
  },
  {
   "cell_type": "markdown",
   "id": "4e371646",
   "metadata": {},
   "source": [
    "# Tiền xử lý"
   ]
  },
  {
   "cell_type": "markdown",
   "id": "17ed16cb",
   "metadata": {},
   "source": [
    "## Bỏ cột Installs"
   ]
  },
  {
   "cell_type": "code",
   "execution_count": 12,
   "id": "534fc234",
   "metadata": {},
   "outputs": [],
   "source": [
    "df.drop(columns = 'Installs', inplace = True)"
   ]
  },
  {
   "cell_type": "markdown",
   "id": "75211714",
   "metadata": {},
   "source": [
    "## Bỏ các dòng có giá trị NaN ở các cột 'Size', 'Minimum Android', 'App Name', 'Released'"
   ]
  },
  {
   "cell_type": "code",
   "execution_count": 13,
   "id": "60d87cfa",
   "metadata": {},
   "outputs": [],
   "source": [
    "df = df[~df['App Name'].isnull()]\n",
    "df = df[~df['Released'].isnull()]\n",
    "df = df[~df['Minimum Android'].isnull()]"
   ]
  },
  {
   "cell_type": "markdown",
   "id": "5a27bcda",
   "metadata": {},
   "source": [
    "## Thay các giá trị NaN của \"Rating\", \"Rating Count\", \"Minimum Installs\" thành giá trị hợp lý"
   ]
  },
  {
   "cell_type": "markdown",
   "id": "3afacc3c",
   "metadata": {},
   "source": [
    "Ta nhận thấy, ở 3 cột trên, giá trị nhỏ nhất có thể có là 0 (Không có lượt tải / đánh giá nào cả). Vì vậy, ta sẽ thay các giá trị NaN thành 0"
   ]
  },
  {
   "cell_type": "code",
   "execution_count": 14,
   "id": "65bf3c30",
   "metadata": {},
   "outputs": [],
   "source": [
    "df['Rating'] = df['Rating'].replace(np.nan, 0)\n",
    "df['Rating Count'] = df['Rating Count'].replace(np.nan, 0)\n",
    "df['Minimum Installs'] = df['Minimum Installs'].replace(np.nan, 0)"
   ]
  },
  {
   "cell_type": "markdown",
   "id": "60f91296",
   "metadata": {},
   "source": [
    "## Chuyển dtype của các cột 'Minimum Installs' và 'Rating Count' thành int64"
   ]
  },
  {
   "cell_type": "markdown",
   "id": "749f92b8",
   "metadata": {},
   "source": [
    "Sau khi đã điều chỉnh các giá trị NaN thành 0, ta có thể chuyển dữ liệu 2 cột này thành int64"
   ]
  },
  {
   "cell_type": "code",
   "execution_count": 15,
   "id": "74a0b79b",
   "metadata": {},
   "outputs": [],
   "source": [
    "df['Minimum Installs'] = df['Minimum Installs'].astype(np.int64)\n",
    "df['Rating Count'] = df['Rating Count'].astype(np.int64)"
   ]
  },
  {
   "cell_type": "markdown",
   "id": "47935533",
   "metadata": {},
   "source": [
    "## Chuyển dtype của các cột 'Released', 'Last Updated', 'Scraped Time' thành datetime"
   ]
  },
  {
   "cell_type": "code",
   "execution_count": 16,
   "id": "8c001031",
   "metadata": {},
   "outputs": [],
   "source": [
    "df['Released'] = pd.to_datetime(df['Released'], format = '%b %d, %Y')\n",
    "df['Last Updated'] = pd.to_datetime(df['Last Updated'], format = '%b %d, %Y')\n",
    "df['Scraped Time'] = pd.to_datetime(df['Scraped Time'], format = '%Y-%m-%d %X')"
   ]
  },
  {
   "cell_type": "markdown",
   "id": "d9f948b3",
   "metadata": {},
   "source": [
    "Kiểm tra lại dtypes"
   ]
  },
  {
   "cell_type": "code",
   "execution_count": 17,
   "id": "43469173",
   "metadata": {},
   "outputs": [
    {
     "data": {
      "text/plain": [
       "App Name                     object\n",
       "App Id                       object\n",
       "Category                     object\n",
       "Rating                      float64\n",
       "Rating Count                  int64\n",
       "Minimum Installs              int64\n",
       "Maximum Installs              int64\n",
       "Free                           bool\n",
       "Price                       float64\n",
       "Currency                     object\n",
       "Size                         object\n",
       "Minimum Android              object\n",
       "Developer Id                 object\n",
       "Developer Website            object\n",
       "Developer Email              object\n",
       "Released             datetime64[ns]\n",
       "Last Updated         datetime64[ns]\n",
       "Content Rating               object\n",
       "Privacy Policy               object\n",
       "Ad Supported                   bool\n",
       "In App Purchases               bool\n",
       "Editors Choice                 bool\n",
       "Scraped Time         datetime64[ns]\n",
       "dtype: object"
      ]
     },
     "execution_count": 17,
     "metadata": {},
     "output_type": "execute_result"
    }
   ],
   "source": [
    "df.dtypes"
   ]
  },
  {
   "cell_type": "markdown",
   "id": "65fd4961",
   "metadata": {},
   "source": [
    "Kiểm tra lại giá trị thiếu"
   ]
  },
  {
   "cell_type": "code",
   "execution_count": 18,
   "id": "8fe72b6b",
   "metadata": {},
   "outputs": [
    {
     "data": {
      "text/plain": [
       "App Name              0.000000\n",
       "App Id                0.000000\n",
       "Category              0.000000\n",
       "Rating                0.000000\n",
       "Rating Count          0.000000\n",
       "Minimum Installs      0.000000\n",
       "Maximum Installs      0.000000\n",
       "Free                  0.000000\n",
       "Price                 0.000000\n",
       "Currency              0.001476\n",
       "Size                  0.000000\n",
       "Minimum Android       0.000000\n",
       "Developer Id          0.001387\n",
       "Developer Website    33.129669\n",
       "Developer Email       0.001118\n",
       "Released              0.000000\n",
       "Last Updated          0.000000\n",
       "Content Rating        0.000000\n",
       "Privacy Policy       18.138282\n",
       "Ad Supported          0.000000\n",
       "In App Purchases      0.000000\n",
       "Editors Choice        0.000000\n",
       "Scraped Time          0.000000\n",
       "dtype: float64"
      ]
     },
     "execution_count": 18,
     "metadata": {},
     "output_type": "execute_result"
    }
   ],
   "source": [
    "df.agg(missing_ratio)"
   ]
  },
  {
   "cell_type": "markdown",
   "id": "6acfa044",
   "metadata": {},
   "source": [
    "---"
   ]
  },
  {
   "cell_type": "markdown",
   "id": "6a1b4047",
   "metadata": {},
   "source": [
    "# Quay lại bước khám phá dữ liệu"
   ]
  },
  {
   "cell_type": "markdown",
   "id": "4330804e",
   "metadata": {},
   "source": [
    "## Với các cột có kiểu numeric và datetime ,các giá trị được phân bố như thế nào?"
   ]
  },
  {
   "cell_type": "code",
   "execution_count": 19,
   "id": "d6f39246",
   "metadata": {},
   "outputs": [
    {
     "data": {
      "text/html": [
       "<div>\n",
       "<style scoped>\n",
       "    .dataframe tbody tr th:only-of-type {\n",
       "        vertical-align: middle;\n",
       "    }\n",
       "\n",
       "    .dataframe tbody tr th {\n",
       "        vertical-align: top;\n",
       "    }\n",
       "\n",
       "    .dataframe thead th {\n",
       "        text-align: right;\n",
       "    }\n",
       "</style>\n",
       "<table border=\"1\" class=\"dataframe\">\n",
       "  <thead>\n",
       "    <tr style=\"text-align: right;\">\n",
       "      <th></th>\n",
       "      <th>Rating</th>\n",
       "      <th>Rating Count</th>\n",
       "      <th>Minimum Installs</th>\n",
       "      <th>Maximum Installs</th>\n",
       "      <th>Price</th>\n",
       "      <th>Released</th>\n",
       "      <th>Last Updated</th>\n",
       "      <th>Scraped Time</th>\n",
       "    </tr>\n",
       "  </thead>\n",
       "  <tbody>\n",
       "    <tr>\n",
       "      <th>min</th>\n",
       "      <td>0.0</td>\n",
       "      <td>0</td>\n",
       "      <td>0</td>\n",
       "      <td>0</td>\n",
       "      <td>0.0</td>\n",
       "      <td>2010-01-28</td>\n",
       "      <td>2009-02-09</td>\n",
       "      <td>2021-06-15 20:19:35</td>\n",
       "    </tr>\n",
       "    <tr>\n",
       "      <th>max</th>\n",
       "      <td>5.0</td>\n",
       "      <td>138557570</td>\n",
       "      <td>10000000000</td>\n",
       "      <td>12057627016</td>\n",
       "      <td>400.0</td>\n",
       "      <td>2021-06-16</td>\n",
       "      <td>2021-06-16</td>\n",
       "      <td>2021-06-16 15:10:42</td>\n",
       "    </tr>\n",
       "  </tbody>\n",
       "</table>\n",
       "</div>"
      ],
      "text/plain": [
       "     Rating  Rating Count  Minimum Installs  Maximum Installs  Price  \\\n",
       "min     0.0             0                 0                 0    0.0   \n",
       "max     5.0     138557570       10000000000       12057627016  400.0   \n",
       "\n",
       "      Released Last Updated        Scraped Time  \n",
       "min 2010-01-28   2009-02-09 2021-06-15 20:19:35  \n",
       "max 2021-06-16   2021-06-16 2021-06-16 15:10:42  "
      ]
     },
     "execution_count": 19,
     "metadata": {},
     "output_type": "execute_result"
    }
   ],
   "source": [
    "num_cols = df.agg(lambda x: x.dtypes != object and x.dtypes != bool)\n",
    "num_cols = num_cols[num_cols].index.to_list()\n",
    "df[num_cols].agg([min, max])"
   ]
  },
  {
   "cell_type": "markdown",
   "id": "583f60a5",
   "metadata": {},
   "source": [
    "Dựa trên phân bố trên:\n",
    "- Theo cột \"Rating\", \"Rating Count\" thì có vẻ như có tận 25% các app không có đánh giá.\n",
    "\n",
    "- Có vẻ như đa phần các app đều free nên phân vị thứ 25, 50, 75 của \"Price\" là 0 (hoặc gần bằng 0)"
   ]
  },
  {
   "cell_type": "markdown",
   "id": "330959c7",
   "metadata": {},
   "source": [
    "## Với mỗi cột có kiểu dữ liệu dạng categorical, các giá trị được phân bố như thế nào?"
   ]
  },
  {
   "cell_type": "code",
   "execution_count": 20,
   "id": "2d4fa48f",
   "metadata": {},
   "outputs": [],
   "source": [
    "def num_diff_vals(s):\n",
    "    return s.nunique()\n",
    "def diff_vals(s):\n",
    "    return s.unique()"
   ]
  },
  {
   "cell_type": "code",
   "execution_count": 21,
   "id": "810433ce",
   "metadata": {},
   "outputs": [
    {
     "data": {
      "text/html": [
       "<div>\n",
       "<style scoped>\n",
       "    .dataframe tbody tr th:only-of-type {\n",
       "        vertical-align: middle;\n",
       "    }\n",
       "\n",
       "    .dataframe tbody tr th {\n",
       "        vertical-align: top;\n",
       "    }\n",
       "\n",
       "    .dataframe thead th {\n",
       "        text-align: right;\n",
       "    }\n",
       "</style>\n",
       "<table border=\"1\" class=\"dataframe\">\n",
       "  <thead>\n",
       "    <tr style=\"text-align: right;\">\n",
       "      <th></th>\n",
       "      <th>App Name</th>\n",
       "      <th>App Id</th>\n",
       "      <th>Category</th>\n",
       "      <th>Currency</th>\n",
       "      <th>Size</th>\n",
       "      <th>Minimum Android</th>\n",
       "      <th>Developer Id</th>\n",
       "      <th>Developer Website</th>\n",
       "      <th>Developer Email</th>\n",
       "      <th>Content Rating</th>\n",
       "      <th>Privacy Policy</th>\n",
       "    </tr>\n",
       "  </thead>\n",
       "  <tbody>\n",
       "    <tr>\n",
       "      <th>num_diff_vals</th>\n",
       "      <td>2104779</td>\n",
       "      <td>2235537</td>\n",
       "      <td>48</td>\n",
       "      <td>13</td>\n",
       "      <td>1644</td>\n",
       "      <td>148</td>\n",
       "      <td>733445</td>\n",
       "      <td>774395</td>\n",
       "      <td>910634</td>\n",
       "      <td>6</td>\n",
       "      <td>938881</td>\n",
       "    </tr>\n",
       "    <tr>\n",
       "      <th>diff_vals</th>\n",
       "      <td>[Gakondo, Ampere Battery Info, Vibook, Smart C...</td>\n",
       "      <td>[com.ishakwe.gakondo, com.webserveis.batteryin...</td>\n",
       "      <td>[Adventure, Tools, Productivity, Communication...</td>\n",
       "      <td>[USD, XXX, CAD, EUR, INR, VND, GBP, BRL, KRW, ...</td>\n",
       "      <td>[10M, 2.9M, 3.7M, 1.8M, 6.2M, 46M, 2.5M, 16M, ...</td>\n",
       "      <td>[7.1 and up, 5.0 and up, 4.0.3 and up, 4.1 and...</td>\n",
       "      <td>[Jean Confident Irénée NIYIZIBYOSE, Webserveis...</td>\n",
       "      <td>[https://beniyizibyose.tk/#/, https://webserve...</td>\n",
       "      <td>[jean21101999@gmail.com, webserveis@gmail.com,...</td>\n",
       "      <td>[Everyone, Teen, Mature 17+, Everyone 10+, Adu...</td>\n",
       "      <td>[https://beniyizibyose.tk/projects/, https://d...</td>\n",
       "    </tr>\n",
       "  </tbody>\n",
       "</table>\n",
       "</div>"
      ],
      "text/plain": [
       "                                                        App Name  \\\n",
       "num_diff_vals                                            2104779   \n",
       "diff_vals      [Gakondo, Ampere Battery Info, Vibook, Smart C...   \n",
       "\n",
       "                                                          App Id  \\\n",
       "num_diff_vals                                            2235537   \n",
       "diff_vals      [com.ishakwe.gakondo, com.webserveis.batteryin...   \n",
       "\n",
       "                                                        Category  \\\n",
       "num_diff_vals                                                 48   \n",
       "diff_vals      [Adventure, Tools, Productivity, Communication...   \n",
       "\n",
       "                                                        Currency  \\\n",
       "num_diff_vals                                                 13   \n",
       "diff_vals      [USD, XXX, CAD, EUR, INR, VND, GBP, BRL, KRW, ...   \n",
       "\n",
       "                                                            Size  \\\n",
       "num_diff_vals                                               1644   \n",
       "diff_vals      [10M, 2.9M, 3.7M, 1.8M, 6.2M, 46M, 2.5M, 16M, ...   \n",
       "\n",
       "                                                 Minimum Android  \\\n",
       "num_diff_vals                                                148   \n",
       "diff_vals      [7.1 and up, 5.0 and up, 4.0.3 and up, 4.1 and...   \n",
       "\n",
       "                                                    Developer Id  \\\n",
       "num_diff_vals                                             733445   \n",
       "diff_vals      [Jean Confident Irénée NIYIZIBYOSE, Webserveis...   \n",
       "\n",
       "                                               Developer Website  \\\n",
       "num_diff_vals                                             774395   \n",
       "diff_vals      [https://beniyizibyose.tk/#/, https://webserve...   \n",
       "\n",
       "                                                 Developer Email  \\\n",
       "num_diff_vals                                             910634   \n",
       "diff_vals      [jean21101999@gmail.com, webserveis@gmail.com,...   \n",
       "\n",
       "                                                  Content Rating  \\\n",
       "num_diff_vals                                                  6   \n",
       "diff_vals      [Everyone, Teen, Mature 17+, Everyone 10+, Adu...   \n",
       "\n",
       "                                                  Privacy Policy  \n",
       "num_diff_vals                                             938881  \n",
       "diff_vals      [https://beniyizibyose.tk/projects/, https://d...  "
      ]
     },
     "execution_count": 21,
     "metadata": {},
     "output_type": "execute_result"
    }
   ],
   "source": [
    "cate_cols = df.agg(lambda x: x.dtypes == object)\n",
    "cate_cols = cate_cols[cate_cols].index.to_list()\n",
    "df[cate_cols].agg([num_diff_vals, diff_vals])"
   ]
  },
  {
   "cell_type": "markdown",
   "id": "72f7374c",
   "metadata": {},
   "source": [
    "## Với mỗi cột có kiểu dữ liệu dạng bool, các giá trị được phân bố như thế nào?"
   ]
  },
  {
   "cell_type": "code",
   "execution_count": 22,
   "id": "52183fed",
   "metadata": {},
   "outputs": [],
   "source": [
    "def num_true_vals(s):\n",
    "    return s.value_counts()[True]\n",
    "def num_false_vals(s):\n",
    "    return s.value_counts()[False]"
   ]
  },
  {
   "cell_type": "code",
   "execution_count": 23,
   "id": "b0ccb2da",
   "metadata": {},
   "outputs": [
    {
     "data": {
      "text/html": [
       "<div>\n",
       "<style scoped>\n",
       "    .dataframe tbody tr th:only-of-type {\n",
       "        vertical-align: middle;\n",
       "    }\n",
       "\n",
       "    .dataframe tbody tr th {\n",
       "        vertical-align: top;\n",
       "    }\n",
       "\n",
       "    .dataframe thead th {\n",
       "        text-align: right;\n",
       "    }\n",
       "</style>\n",
       "<table border=\"1\" class=\"dataframe\">\n",
       "  <thead>\n",
       "    <tr style=\"text-align: right;\">\n",
       "      <th></th>\n",
       "      <th>Free</th>\n",
       "      <th>Ad Supported</th>\n",
       "      <th>In App Purchases</th>\n",
       "      <th>Editors Choice</th>\n",
       "    </tr>\n",
       "  </thead>\n",
       "  <tbody>\n",
       "    <tr>\n",
       "      <th>num_true_vals</th>\n",
       "      <td>2191585</td>\n",
       "      <td>1133254</td>\n",
       "      <td>190976</td>\n",
       "      <td>784</td>\n",
       "    </tr>\n",
       "    <tr>\n",
       "      <th>num_false_vals</th>\n",
       "      <td>43952</td>\n",
       "      <td>1102283</td>\n",
       "      <td>2044561</td>\n",
       "      <td>2234753</td>\n",
       "    </tr>\n",
       "  </tbody>\n",
       "</table>\n",
       "</div>"
      ],
      "text/plain": [
       "                   Free  Ad Supported  In App Purchases  Editors Choice\n",
       "num_true_vals   2191585       1133254            190976             784\n",
       "num_false_vals    43952       1102283           2044561         2234753"
      ]
     },
     "execution_count": 23,
     "metadata": {},
     "output_type": "execute_result"
    }
   ],
   "source": [
    "bool_cols = df.agg(lambda x: x.dtypes == bool)\n",
    "bool_cols = bool_cols[bool_cols].index.to_list()\n",
    "df[bool_cols].agg([num_true_vals,num_false_vals])"
   ]
  },
  {
   "cell_type": "markdown",
   "id": "471b2416",
   "metadata": {},
   "source": [
    "---"
   ]
  },
  {
   "cell_type": "markdown",
   "id": "eae8d4d6",
   "metadata": {},
   "source": [
    "# Đặt câu hỏi"
   ]
  },
  {
   "cell_type": "markdown",
   "id": "483a34bf",
   "metadata": {},
   "source": [
    "- **Câu hỏi 1**: Số lượng app được phát hành qua các năm như thế nào?\n",
    "- **Trả lời được câu hỏi này sẽ giúp ta xác định được**: xu hướng phát hành app qua các năm, biết được có nên đi theo hướng phát triển app không."
   ]
  },
  {
   "cell_type": "markdown",
   "id": "57388e3d",
   "metadata": {},
   "source": [
    "- **Câu hỏi 2**: Với các nhà phát triển (NPT) (các nhà phát triển có tổng số lượt tải ứng dụng nhiều nhất), các ứng dụng của họ thường nằm trong thể loại nào.\n",
    "- **Trả lời được câu hỏi này sẽ giúp ta xác định được**: hướng phát triển của những nhà phát triển lớn hiện đang tập trung vào lĩnh vực nào."
   ]
  },
  {
   "cell_type": "markdown",
   "id": "54c89177",
   "metadata": {},
   "source": [
    "- **Câu hỏi 3**: Trong 2 loại nhà phát triển (NPT) (các NPT lớn và các NPT tầm trung), sự chăm sóc và quan tâm của 2 loại NPT ứng dụng tới khách hàng được thể hiện khác nhau như thế nào?\n",
    "- **Trả lời được câu hỏi này sẽ giúp ta xác định được**: \n",
    "Giúp cho ta biết được sự khác nhau trong việc quan tâm và chăm sóc khách hàng giữa 2 loại nhà phát triển góp phần ảnh hưởng đến sự ủng hộ của khách hàng như thế nào. Nhà phát triển cũng có thể biết được các yếu tố phụ nào có thể giúp cho ứng dụng của mình được nhiều người tải về hơn, ngoài các yếu tố khách quan khác như công dụng, tính năng,... sẵn có của ứng dụng"
   ]
  },
  {
   "cell_type": "markdown",
   "id": "197c2d7e",
   "metadata": {},
   "source": [
    "- **Câu hỏi 4**: Liệu các ứng dụng có phí và có quảng cáo thì khoảng phí bao nhiêu là hợp lí (dựa trên đánh giá của người dùng, từ 4.0 trở lên là hợp lí)?\n",
    "- Ứng dụng trả phí và quảng cáo trong ứng dụng là một khoảng thu nhập thêm khá ổn ngoài lượt tải nên **trả lời được câu hỏi này sẽ giúp ta xác định được**: ứng dụng với khoảng phí nào vẫn có thể thêm quảng cáo để kiếm thêm thu nhập mà không gây khó chịu cho người dùng."
   ]
  },
  {
   "cell_type": "markdown",
   "id": "756c7049",
   "metadata": {},
   "source": [
    "---"
   ]
  },
  {
   "cell_type": "markdown",
   "id": "e63c6f51",
   "metadata": {},
   "source": [
    "# Quay lại bước tiền xử lý"
   ]
  },
  {
   "cell_type": "markdown",
   "id": "1809298e",
   "metadata": {},
   "source": [
    "## Thêm cột \"Year_released\" vào dataframe "
   ]
  },
  {
   "cell_type": "markdown",
   "id": "0795140f",
   "metadata": {},
   "source": [
    "Cột \"Year_released\" lưu năm phát hành của ứng dụng, phục vụ cho đặt câu hỏi."
   ]
  },
  {
   "cell_type": "code",
   "execution_count": 24,
   "id": "57087166",
   "metadata": {},
   "outputs": [
    {
     "data": {
      "text/html": [
       "<div>\n",
       "<style scoped>\n",
       "    .dataframe tbody tr th:only-of-type {\n",
       "        vertical-align: middle;\n",
       "    }\n",
       "\n",
       "    .dataframe tbody tr th {\n",
       "        vertical-align: top;\n",
       "    }\n",
       "\n",
       "    .dataframe thead th {\n",
       "        text-align: right;\n",
       "    }\n",
       "</style>\n",
       "<table border=\"1\" class=\"dataframe\">\n",
       "  <thead>\n",
       "    <tr style=\"text-align: right;\">\n",
       "      <th></th>\n",
       "      <th>App Name</th>\n",
       "      <th>App Id</th>\n",
       "      <th>Category</th>\n",
       "      <th>Rating</th>\n",
       "      <th>Rating Count</th>\n",
       "      <th>Minimum Installs</th>\n",
       "      <th>Maximum Installs</th>\n",
       "      <th>Free</th>\n",
       "      <th>Price</th>\n",
       "      <th>Currency</th>\n",
       "      <th>...</th>\n",
       "      <th>Developer Email</th>\n",
       "      <th>Released</th>\n",
       "      <th>Last Updated</th>\n",
       "      <th>Content Rating</th>\n",
       "      <th>Privacy Policy</th>\n",
       "      <th>Ad Supported</th>\n",
       "      <th>In App Purchases</th>\n",
       "      <th>Editors Choice</th>\n",
       "      <th>Scraped Time</th>\n",
       "      <th>Year_released</th>\n",
       "    </tr>\n",
       "  </thead>\n",
       "  <tbody>\n",
       "    <tr>\n",
       "      <th>0</th>\n",
       "      <td>Gakondo</td>\n",
       "      <td>com.ishakwe.gakondo</td>\n",
       "      <td>Adventure</td>\n",
       "      <td>0.0</td>\n",
       "      <td>0</td>\n",
       "      <td>10</td>\n",
       "      <td>15</td>\n",
       "      <td>True</td>\n",
       "      <td>0.0</td>\n",
       "      <td>USD</td>\n",
       "      <td>...</td>\n",
       "      <td>jean21101999@gmail.com</td>\n",
       "      <td>2020-02-26</td>\n",
       "      <td>2020-02-26</td>\n",
       "      <td>Everyone</td>\n",
       "      <td>https://beniyizibyose.tk/projects/</td>\n",
       "      <td>False</td>\n",
       "      <td>False</td>\n",
       "      <td>False</td>\n",
       "      <td>2021-06-15 20:19:35</td>\n",
       "      <td>2020</td>\n",
       "    </tr>\n",
       "    <tr>\n",
       "      <th>1</th>\n",
       "      <td>Ampere Battery Info</td>\n",
       "      <td>com.webserveis.batteryinfo</td>\n",
       "      <td>Tools</td>\n",
       "      <td>4.4</td>\n",
       "      <td>64</td>\n",
       "      <td>5000</td>\n",
       "      <td>7662</td>\n",
       "      <td>True</td>\n",
       "      <td>0.0</td>\n",
       "      <td>USD</td>\n",
       "      <td>...</td>\n",
       "      <td>webserveis@gmail.com</td>\n",
       "      <td>2020-05-21</td>\n",
       "      <td>2021-05-06</td>\n",
       "      <td>Everyone</td>\n",
       "      <td>https://dev4phones.wordpress.com/licencia-de-uso/</td>\n",
       "      <td>True</td>\n",
       "      <td>False</td>\n",
       "      <td>False</td>\n",
       "      <td>2021-06-15 20:19:35</td>\n",
       "      <td>2020</td>\n",
       "    </tr>\n",
       "    <tr>\n",
       "      <th>2</th>\n",
       "      <td>Vibook</td>\n",
       "      <td>com.doantiepvien.crm</td>\n",
       "      <td>Productivity</td>\n",
       "      <td>0.0</td>\n",
       "      <td>0</td>\n",
       "      <td>50</td>\n",
       "      <td>58</td>\n",
       "      <td>True</td>\n",
       "      <td>0.0</td>\n",
       "      <td>USD</td>\n",
       "      <td>...</td>\n",
       "      <td>vnacrewit@gmail.com</td>\n",
       "      <td>2019-08-09</td>\n",
       "      <td>2019-08-19</td>\n",
       "      <td>Everyone</td>\n",
       "      <td>https://www.vietnamairlines.com/vn/en/terms-an...</td>\n",
       "      <td>False</td>\n",
       "      <td>False</td>\n",
       "      <td>False</td>\n",
       "      <td>2021-06-15 20:19:35</td>\n",
       "      <td>2019</td>\n",
       "    </tr>\n",
       "    <tr>\n",
       "      <th>3</th>\n",
       "      <td>Smart City Trichy Public Service Vehicles 17UC...</td>\n",
       "      <td>cst.stJoseph.ug17ucs548</td>\n",
       "      <td>Communication</td>\n",
       "      <td>5.0</td>\n",
       "      <td>5</td>\n",
       "      <td>10</td>\n",
       "      <td>19</td>\n",
       "      <td>True</td>\n",
       "      <td>0.0</td>\n",
       "      <td>USD</td>\n",
       "      <td>...</td>\n",
       "      <td>climatesmarttech2@gmail.com</td>\n",
       "      <td>2018-09-10</td>\n",
       "      <td>2018-10-13</td>\n",
       "      <td>Everyone</td>\n",
       "      <td>NaN</td>\n",
       "      <td>True</td>\n",
       "      <td>False</td>\n",
       "      <td>False</td>\n",
       "      <td>2021-06-15 20:19:35</td>\n",
       "      <td>2018</td>\n",
       "    </tr>\n",
       "    <tr>\n",
       "      <th>4</th>\n",
       "      <td>GROW.me</td>\n",
       "      <td>com.horodyski.grower</td>\n",
       "      <td>Tools</td>\n",
       "      <td>0.0</td>\n",
       "      <td>0</td>\n",
       "      <td>100</td>\n",
       "      <td>478</td>\n",
       "      <td>True</td>\n",
       "      <td>0.0</td>\n",
       "      <td>USD</td>\n",
       "      <td>...</td>\n",
       "      <td>rmilekhorodyski@gmail.com</td>\n",
       "      <td>2020-02-21</td>\n",
       "      <td>2018-11-12</td>\n",
       "      <td>Everyone</td>\n",
       "      <td>http://www.horodyski.com.pl</td>\n",
       "      <td>False</td>\n",
       "      <td>False</td>\n",
       "      <td>False</td>\n",
       "      <td>2021-06-15 20:19:35</td>\n",
       "      <td>2020</td>\n",
       "    </tr>\n",
       "  </tbody>\n",
       "</table>\n",
       "<p>5 rows × 24 columns</p>\n",
       "</div>"
      ],
      "text/plain": [
       "                                            App Name  \\\n",
       "0                                            Gakondo   \n",
       "1                                Ampere Battery Info   \n",
       "2                                             Vibook   \n",
       "3  Smart City Trichy Public Service Vehicles 17UC...   \n",
       "4                                            GROW.me   \n",
       "\n",
       "                       App Id       Category  Rating  Rating Count  \\\n",
       "0         com.ishakwe.gakondo      Adventure     0.0             0   \n",
       "1  com.webserveis.batteryinfo          Tools     4.4            64   \n",
       "2        com.doantiepvien.crm   Productivity     0.0             0   \n",
       "3     cst.stJoseph.ug17ucs548  Communication     5.0             5   \n",
       "4        com.horodyski.grower          Tools     0.0             0   \n",
       "\n",
       "   Minimum Installs  Maximum Installs  Free  Price Currency  ...  \\\n",
       "0                10                15  True    0.0      USD  ...   \n",
       "1              5000              7662  True    0.0      USD  ...   \n",
       "2                50                58  True    0.0      USD  ...   \n",
       "3                10                19  True    0.0      USD  ...   \n",
       "4               100               478  True    0.0      USD  ...   \n",
       "\n",
       "               Developer Email   Released Last Updated Content Rating  \\\n",
       "0       jean21101999@gmail.com 2020-02-26   2020-02-26       Everyone   \n",
       "1         webserveis@gmail.com 2020-05-21   2021-05-06       Everyone   \n",
       "2          vnacrewit@gmail.com 2019-08-09   2019-08-19       Everyone   \n",
       "3  climatesmarttech2@gmail.com 2018-09-10   2018-10-13       Everyone   \n",
       "4    rmilekhorodyski@gmail.com 2020-02-21   2018-11-12       Everyone   \n",
       "\n",
       "                                      Privacy Policy Ad Supported  \\\n",
       "0                 https://beniyizibyose.tk/projects/        False   \n",
       "1  https://dev4phones.wordpress.com/licencia-de-uso/         True   \n",
       "2  https://www.vietnamairlines.com/vn/en/terms-an...        False   \n",
       "3                                                NaN         True   \n",
       "4                        http://www.horodyski.com.pl        False   \n",
       "\n",
       "  In App Purchases Editors Choice        Scraped Time  Year_released  \n",
       "0            False          False 2021-06-15 20:19:35           2020  \n",
       "1            False          False 2021-06-15 20:19:35           2020  \n",
       "2            False          False 2021-06-15 20:19:35           2019  \n",
       "3            False          False 2021-06-15 20:19:35           2018  \n",
       "4            False          False 2021-06-15 20:19:35           2020  \n",
       "\n",
       "[5 rows x 24 columns]"
      ]
     },
     "execution_count": 24,
     "metadata": {},
     "output_type": "execute_result"
    }
   ],
   "source": [
    "df[\"Year_released\"] = pd.DatetimeIndex(df['Released']).year\n",
    "df.head()"
   ]
  },
  {
   "cell_type": "markdown",
   "id": "21924c22",
   "metadata": {},
   "source": [
    "## Thêm cột \"Year_last_updated\" vào dataframe"
   ]
  },
  {
   "cell_type": "markdown",
   "id": "c0d75fc7",
   "metadata": {},
   "source": [
    "Cột \"Year_last_updated\" lưu năm cập nhật gần nhất của ứng dụng, phục vụ cho đặt câu hỏi."
   ]
  },
  {
   "cell_type": "code",
   "execution_count": 25,
   "id": "e8531010",
   "metadata": {},
   "outputs": [
    {
     "data": {
      "text/html": [
       "<div>\n",
       "<style scoped>\n",
       "    .dataframe tbody tr th:only-of-type {\n",
       "        vertical-align: middle;\n",
       "    }\n",
       "\n",
       "    .dataframe tbody tr th {\n",
       "        vertical-align: top;\n",
       "    }\n",
       "\n",
       "    .dataframe thead th {\n",
       "        text-align: right;\n",
       "    }\n",
       "</style>\n",
       "<table border=\"1\" class=\"dataframe\">\n",
       "  <thead>\n",
       "    <tr style=\"text-align: right;\">\n",
       "      <th></th>\n",
       "      <th>App Name</th>\n",
       "      <th>App Id</th>\n",
       "      <th>Category</th>\n",
       "      <th>Rating</th>\n",
       "      <th>Rating Count</th>\n",
       "      <th>Minimum Installs</th>\n",
       "      <th>Maximum Installs</th>\n",
       "      <th>Free</th>\n",
       "      <th>Price</th>\n",
       "      <th>Currency</th>\n",
       "      <th>...</th>\n",
       "      <th>Released</th>\n",
       "      <th>Last Updated</th>\n",
       "      <th>Content Rating</th>\n",
       "      <th>Privacy Policy</th>\n",
       "      <th>Ad Supported</th>\n",
       "      <th>In App Purchases</th>\n",
       "      <th>Editors Choice</th>\n",
       "      <th>Scraped Time</th>\n",
       "      <th>Year_released</th>\n",
       "      <th>Year_last_updated</th>\n",
       "    </tr>\n",
       "  </thead>\n",
       "  <tbody>\n",
       "    <tr>\n",
       "      <th>0</th>\n",
       "      <td>Gakondo</td>\n",
       "      <td>com.ishakwe.gakondo</td>\n",
       "      <td>Adventure</td>\n",
       "      <td>0.0</td>\n",
       "      <td>0</td>\n",
       "      <td>10</td>\n",
       "      <td>15</td>\n",
       "      <td>True</td>\n",
       "      <td>0.0</td>\n",
       "      <td>USD</td>\n",
       "      <td>...</td>\n",
       "      <td>2020-02-26</td>\n",
       "      <td>2020-02-26</td>\n",
       "      <td>Everyone</td>\n",
       "      <td>https://beniyizibyose.tk/projects/</td>\n",
       "      <td>False</td>\n",
       "      <td>False</td>\n",
       "      <td>False</td>\n",
       "      <td>2021-06-15 20:19:35</td>\n",
       "      <td>2020</td>\n",
       "      <td>2020</td>\n",
       "    </tr>\n",
       "    <tr>\n",
       "      <th>1</th>\n",
       "      <td>Ampere Battery Info</td>\n",
       "      <td>com.webserveis.batteryinfo</td>\n",
       "      <td>Tools</td>\n",
       "      <td>4.4</td>\n",
       "      <td>64</td>\n",
       "      <td>5000</td>\n",
       "      <td>7662</td>\n",
       "      <td>True</td>\n",
       "      <td>0.0</td>\n",
       "      <td>USD</td>\n",
       "      <td>...</td>\n",
       "      <td>2020-05-21</td>\n",
       "      <td>2021-05-06</td>\n",
       "      <td>Everyone</td>\n",
       "      <td>https://dev4phones.wordpress.com/licencia-de-uso/</td>\n",
       "      <td>True</td>\n",
       "      <td>False</td>\n",
       "      <td>False</td>\n",
       "      <td>2021-06-15 20:19:35</td>\n",
       "      <td>2020</td>\n",
       "      <td>2021</td>\n",
       "    </tr>\n",
       "    <tr>\n",
       "      <th>2</th>\n",
       "      <td>Vibook</td>\n",
       "      <td>com.doantiepvien.crm</td>\n",
       "      <td>Productivity</td>\n",
       "      <td>0.0</td>\n",
       "      <td>0</td>\n",
       "      <td>50</td>\n",
       "      <td>58</td>\n",
       "      <td>True</td>\n",
       "      <td>0.0</td>\n",
       "      <td>USD</td>\n",
       "      <td>...</td>\n",
       "      <td>2019-08-09</td>\n",
       "      <td>2019-08-19</td>\n",
       "      <td>Everyone</td>\n",
       "      <td>https://www.vietnamairlines.com/vn/en/terms-an...</td>\n",
       "      <td>False</td>\n",
       "      <td>False</td>\n",
       "      <td>False</td>\n",
       "      <td>2021-06-15 20:19:35</td>\n",
       "      <td>2019</td>\n",
       "      <td>2019</td>\n",
       "    </tr>\n",
       "    <tr>\n",
       "      <th>3</th>\n",
       "      <td>Smart City Trichy Public Service Vehicles 17UC...</td>\n",
       "      <td>cst.stJoseph.ug17ucs548</td>\n",
       "      <td>Communication</td>\n",
       "      <td>5.0</td>\n",
       "      <td>5</td>\n",
       "      <td>10</td>\n",
       "      <td>19</td>\n",
       "      <td>True</td>\n",
       "      <td>0.0</td>\n",
       "      <td>USD</td>\n",
       "      <td>...</td>\n",
       "      <td>2018-09-10</td>\n",
       "      <td>2018-10-13</td>\n",
       "      <td>Everyone</td>\n",
       "      <td>NaN</td>\n",
       "      <td>True</td>\n",
       "      <td>False</td>\n",
       "      <td>False</td>\n",
       "      <td>2021-06-15 20:19:35</td>\n",
       "      <td>2018</td>\n",
       "      <td>2018</td>\n",
       "    </tr>\n",
       "    <tr>\n",
       "      <th>4</th>\n",
       "      <td>GROW.me</td>\n",
       "      <td>com.horodyski.grower</td>\n",
       "      <td>Tools</td>\n",
       "      <td>0.0</td>\n",
       "      <td>0</td>\n",
       "      <td>100</td>\n",
       "      <td>478</td>\n",
       "      <td>True</td>\n",
       "      <td>0.0</td>\n",
       "      <td>USD</td>\n",
       "      <td>...</td>\n",
       "      <td>2020-02-21</td>\n",
       "      <td>2018-11-12</td>\n",
       "      <td>Everyone</td>\n",
       "      <td>http://www.horodyski.com.pl</td>\n",
       "      <td>False</td>\n",
       "      <td>False</td>\n",
       "      <td>False</td>\n",
       "      <td>2021-06-15 20:19:35</td>\n",
       "      <td>2020</td>\n",
       "      <td>2018</td>\n",
       "    </tr>\n",
       "  </tbody>\n",
       "</table>\n",
       "<p>5 rows × 25 columns</p>\n",
       "</div>"
      ],
      "text/plain": [
       "                                            App Name  \\\n",
       "0                                            Gakondo   \n",
       "1                                Ampere Battery Info   \n",
       "2                                             Vibook   \n",
       "3  Smart City Trichy Public Service Vehicles 17UC...   \n",
       "4                                            GROW.me   \n",
       "\n",
       "                       App Id       Category  Rating  Rating Count  \\\n",
       "0         com.ishakwe.gakondo      Adventure     0.0             0   \n",
       "1  com.webserveis.batteryinfo          Tools     4.4            64   \n",
       "2        com.doantiepvien.crm   Productivity     0.0             0   \n",
       "3     cst.stJoseph.ug17ucs548  Communication     5.0             5   \n",
       "4        com.horodyski.grower          Tools     0.0             0   \n",
       "\n",
       "   Minimum Installs  Maximum Installs  Free  Price Currency  ...   Released  \\\n",
       "0                10                15  True    0.0      USD  ... 2020-02-26   \n",
       "1              5000              7662  True    0.0      USD  ... 2020-05-21   \n",
       "2                50                58  True    0.0      USD  ... 2019-08-09   \n",
       "3                10                19  True    0.0      USD  ... 2018-09-10   \n",
       "4               100               478  True    0.0      USD  ... 2020-02-21   \n",
       "\n",
       "  Last Updated Content Rating  \\\n",
       "0   2020-02-26       Everyone   \n",
       "1   2021-05-06       Everyone   \n",
       "2   2019-08-19       Everyone   \n",
       "3   2018-10-13       Everyone   \n",
       "4   2018-11-12       Everyone   \n",
       "\n",
       "                                      Privacy Policy Ad Supported  \\\n",
       "0                 https://beniyizibyose.tk/projects/        False   \n",
       "1  https://dev4phones.wordpress.com/licencia-de-uso/         True   \n",
       "2  https://www.vietnamairlines.com/vn/en/terms-an...        False   \n",
       "3                                                NaN         True   \n",
       "4                        http://www.horodyski.com.pl        False   \n",
       "\n",
       "  In App Purchases Editors Choice        Scraped Time Year_released  \\\n",
       "0            False          False 2021-06-15 20:19:35          2020   \n",
       "1            False          False 2021-06-15 20:19:35          2020   \n",
       "2            False          False 2021-06-15 20:19:35          2019   \n",
       "3            False          False 2021-06-15 20:19:35          2018   \n",
       "4            False          False 2021-06-15 20:19:35          2020   \n",
       "\n",
       "   Year_last_updated  \n",
       "0               2020  \n",
       "1               2021  \n",
       "2               2019  \n",
       "3               2018  \n",
       "4               2018  \n",
       "\n",
       "[5 rows x 25 columns]"
      ]
     },
     "execution_count": 25,
     "metadata": {},
     "output_type": "execute_result"
    }
   ],
   "source": [
    "df[\"Year_last_updated\"] = pd.DatetimeIndex(df['Last Updated']).year\n",
    "df.head()"
   ]
  },
  {
   "cell_type": "markdown",
   "id": "caef7d82",
   "metadata": {},
   "source": [
    "---"
   ]
  },
  {
   "cell_type": "markdown",
   "id": "bc90f1f4",
   "metadata": {},
   "source": [
    "# Trả lời câu hỏi"
   ]
  },
  {
   "cell_type": "markdown",
   "id": "4c347df0",
   "metadata": {},
   "source": [
    "## Câu hỏi 1"
   ]
  },
  {
   "cell_type": "code",
   "execution_count": 26,
   "id": "438ddfee",
   "metadata": {},
   "outputs": [],
   "source": [
    "released_count = df[\"Year_released\"].value_counts().sort_index()"
   ]
  },
  {
   "cell_type": "code",
   "execution_count": 27,
   "id": "f9964a7f",
   "metadata": {},
   "outputs": [
    {
     "data": {
      "image/png": "[encoded data removed]",
      "text/plain": [
       "<Figure size 432x288 with 1 Axes>"
      ]
     },
     "metadata": {
      "needs_background": "light"
     },
     "output_type": "display_data"
    }
   ],
   "source": [
    "released_count.plot.line(xlabel = \"Năm\", ylabel = \"Số lượng app được phát hành\", marker = \".\")\n",
    "plt.show()"
   ]
  },
  {
   "cell_type": "markdown",
   "id": "27280a10",
   "metadata": {},
   "source": [
    "Đánh giá biểu đồ:\n",
    "- Nhìn chung thì số lượng app được phát hành tăng dần qua các năm, ngoại trừ năm 2021, nhưng do dữ liệu này được lấy vào tháng 6 năm 2021 nên ta có thể bỏ qua năm 2021.\n",
    "- Chỉ trong vòng 10 năm, từ 2010 chưa có bao nhiêu app đến năm 2020 lại có hơn 500000 app được phát hành thì ta có thể thấy app phát triển rất mạnh mẽ. Điều này có thể là do sự phát triển mạnh mẽ của smartphone, hầu như ai cũng có smartphone dù có thể họ không có máy tính."
   ]
  },
  {
   "cell_type": "markdown",
   "id": "fe53009a",
   "metadata": {},
   "source": [
    "**Kết luận:** Đây là một lĩnh vực có triển vọng, nếu có điều kiện cũng có thể thử."
   ]
  },
  {
   "cell_type": "markdown",
   "id": "3de516e1",
   "metadata": {},
   "source": [
    "## Câu hỏi 2"
   ]
  },
  {
   "cell_type": "markdown",
   "id": "84b098ca",
   "metadata": {},
   "source": [
    "Để trả lời cho câu hỏi này, ta sẽ thực hiện theo các bước sau:\n",
    "- **Bước 1**: Lấy ra 10 nhà phát triển có tổng số lượt tải ứng dụng nhiều nhất\n",
    "- **Bước 2**: Từ 10 nhà phát triển trên, lấy ra tổng các thể loại của các ứng dụng mà họ phát hành \n",
    "- **Bước 3**:Sau khi có tổng các thể loại, vẽ biểu đồ và nhận xét"
   ]
  },
  {
   "cell_type": "markdown",
   "id": "37c584c2",
   "metadata": {},
   "source": [
    "**Bước 1**: Tìm ra những NPT có số tổng số lượt tải app nhiều nhất và lấy ra 10 NPT trong số đó"
   ]
  },
  {
   "cell_type": "code",
   "execution_count": 28,
   "id": "a8f93c04",
   "metadata": {},
   "outputs": [
    {
     "data": {
      "text/plain": [
       "Developer Id\n",
       "Google LLC                        141162459823\n",
       "Samsung Electronics Co.,  Ltd.     29345818375\n",
       "Microsoft Corporation               9524972859\n",
       "Facebook                            8129459249\n",
       "WhatsApp LLC                        6969814358\n",
       "Outfit7 Limited                     5337029280\n",
       "Xiaomi Inc.                         4490386197\n",
       "Instagram                           3925648633\n",
       "VOODOO                              3224875365\n",
       "ANT+                                3010889032\n",
       "Name: Maximum Installs, dtype: int64"
      ]
     },
     "execution_count": 28,
     "metadata": {},
     "output_type": "execute_result"
    }
   ],
   "source": [
    "top_dev_id = df.groupby(['Developer Id'])['Maximum Installs'].sum().sort_values(ascending = False)\n",
    "top_dev_id = top_dev_id[:10]\n",
    "top_dev_id"
   ]
  },
  {
   "cell_type": "markdown",
   "id": "7f605cf5",
   "metadata": {},
   "source": [
    "Vì đơn vị lượt tải của các hãng có vẻ khá lớn (tính theo tỷ) nên ta sẽ thu gọn các con số để có thể vẽ biểu đồ nhận xét"
   ]
  },
  {
   "cell_type": "code",
   "execution_count": 29,
   "id": "88f8db5f",
   "metadata": {},
   "outputs": [],
   "source": [
    "top_dev_id = top_dev_id * 1e-9"
   ]
  },
  {
   "cell_type": "code",
   "execution_count": 30,
   "id": "09c45919",
   "metadata": {},
   "outputs": [
    {
     "data": {
      "image/png": "[encoded data removed]",
      "text/plain": [
       "<Figure size 432x288 with 1 Axes>"
      ]
     },
     "metadata": {
      "needs_background": "light"
     },
     "output_type": "display_data"
    }
   ],
   "source": [
    "ax = top_dev_id.plot.barh();\n",
    "ax.set_xlabel('Installs in Billion');"
   ]
  },
  {
   "cell_type": "markdown",
   "id": "a99117e8",
   "metadata": {},
   "source": [
    "Ta có thể thấy đây đều là những cái tên khá quen thuộc: Google, Samsung, Facebook, Microsoft,.. Trong đó, Google dẫn đầu và vượt bậc về số lượt tải ứng dụng. Có thể những ứng dụng mà Google đã tạo ra khá quan trọng và cần thiết với người sử dụng. Ta có thể trích tách riêng những thể loại ứng dụng của công ty này để phân tích sau."
   ]
  },
  {
   "cell_type": "markdown",
   "id": "44280f2b",
   "metadata": {},
   "source": [
    "**Bước 2**: Từ 10 NPT trên, ta lấy ra thể loại của các ứng dụng mà họ tạo ra"
   ]
  },
  {
   "cell_type": "code",
   "execution_count": 31,
   "id": "9274dfed",
   "metadata": {},
   "outputs": [
    {
     "data": {
      "text/plain": [
       "Tools                      109\n",
       "Arcade                      62\n",
       "Business                    52\n",
       "Productivity                48\n",
       "Entertainment               33\n",
       "Communication               28\n",
       "Action                      28\n",
       "Casual                      19\n",
       "Education                   14\n",
       "Music & Audio               12\n",
       "Photography                 12\n",
       "Lifestyle                   11\n",
       "Simulation                   8\n",
       "Personalization              8\n",
       "Health & Fitness             7\n",
       "Sports                       7\n",
       "Racing                       6\n",
       "Puzzle                       6\n",
       "Social                       5\n",
       "Finance                      4\n",
       "Travel & Local               4\n",
       "Video Players & Editors      4\n",
       "Libraries & Demo             3\n",
       "Books & Reference            3\n",
       "Weather                      2\n",
       "News & Magazines             2\n",
       "Art & Design                 2\n",
       "Trivia                       2\n",
       "Medical                      1\n",
       "Parenting                    1\n",
       "Word                         1\n",
       "Card                         1\n",
       "Auto & Vehicles              1\n",
       "Educational                  1\n",
       "Shopping                     1\n",
       "Board                        1\n",
       "Maps & Navigation            1\n",
       "Strategy                     1\n",
       "Name: Category, dtype: int64"
      ]
     },
     "execution_count": 31,
     "metadata": {},
     "output_type": "execute_result"
    }
   ],
   "source": [
    "dev_app = df[df['Developer Id'].isin(top_dev_id.index.to_list())]\n",
    "top_cate = dev_app['Category']\n",
    "top_cate = top_cate.value_counts()\n",
    "top_cate"
   ]
  },
  {
   "cell_type": "markdown",
   "id": "ac4126a7",
   "metadata": {},
   "source": [
    "**Bước 3**: Ta xem xét 10 giá trị đầu của các thể loại và vẽ biểu đồ"
   ]
  },
  {
   "cell_type": "code",
   "execution_count": 32,
   "id": "5153b33a",
   "metadata": {},
   "outputs": [
    {
     "data": {
      "image/png": "[encoded data removed]",
      "text/plain": [
       "<Figure size 432x288 with 1 Axes>"
      ]
     },
     "metadata": {
      "needs_background": "light"
     },
     "output_type": "display_data"
    }
   ],
   "source": [
    "top_ten_cate = top_cate[:10]\n",
    "top_ten_cate.plot.barh();"
   ]
  },
  {
   "cell_type": "markdown",
   "id": "ad0f8c26",
   "metadata": {},
   "source": [
    "Trong số các thể loại, có vẻ Tools chiếm khá nhiều. Ta sẽ khám phá xem trong Tools có những ứng dụng như thế nào"
   ]
  },
  {
   "cell_type": "code",
   "execution_count": 33,
   "id": "ab8fa9ba",
   "metadata": {},
   "outputs": [
    {
     "data": {
      "text/html": [
       "<div>\n",
       "<style scoped>\n",
       "    .dataframe tbody tr th:only-of-type {\n",
       "        vertical-align: middle;\n",
       "    }\n",
       "\n",
       "    .dataframe tbody tr th {\n",
       "        vertical-align: top;\n",
       "    }\n",
       "\n",
       "    .dataframe thead th {\n",
       "        text-align: right;\n",
       "    }\n",
       "</style>\n",
       "<table border=\"1\" class=\"dataframe\">\n",
       "  <thead>\n",
       "    <tr style=\"text-align: right;\">\n",
       "      <th></th>\n",
       "      <th>App Name</th>\n",
       "      <th>Category</th>\n",
       "      <th>Maximum Installs</th>\n",
       "      <th>Developer Id</th>\n",
       "    </tr>\n",
       "  </thead>\n",
       "  <tbody>\n",
       "    <tr>\n",
       "      <th>2155096</th>\n",
       "      <td>Google Play services</td>\n",
       "      <td>Tools</td>\n",
       "      <td>12057627016</td>\n",
       "      <td>Google LLC</td>\n",
       "    </tr>\n",
       "    <tr>\n",
       "      <th>1773294</th>\n",
       "      <td>Google</td>\n",
       "      <td>Tools</td>\n",
       "      <td>9154248491</td>\n",
       "      <td>Google LLC</td>\n",
       "    </tr>\n",
       "    <tr>\n",
       "      <th>1060335</th>\n",
       "      <td>Google Text-to-Speech</td>\n",
       "      <td>Tools</td>\n",
       "      <td>9034404884</td>\n",
       "      <td>Google LLC</td>\n",
       "    </tr>\n",
       "    <tr>\n",
       "      <th>1429623</th>\n",
       "      <td>Android System WebView</td>\n",
       "      <td>Tools</td>\n",
       "      <td>4764329349</td>\n",
       "      <td>Google LLC</td>\n",
       "    </tr>\n",
       "    <tr>\n",
       "      <th>1366575</th>\n",
       "      <td>Gboard - the Google Keyboard</td>\n",
       "      <td>Tools</td>\n",
       "      <td>3897822063</td>\n",
       "      <td>Google LLC</td>\n",
       "    </tr>\n",
       "    <tr>\n",
       "      <th>1085721</th>\n",
       "      <td>Samsung My Files</td>\n",
       "      <td>Tools</td>\n",
       "      <td>2063336389</td>\n",
       "      <td>Samsung Electronics Co.,  Ltd.</td>\n",
       "    </tr>\n",
       "    <tr>\n",
       "      <th>337866</th>\n",
       "      <td>Samsung Experience Service</td>\n",
       "      <td>Tools</td>\n",
       "      <td>1682763021</td>\n",
       "      <td>Samsung Electronics Co.,  Ltd.</td>\n",
       "    </tr>\n",
       "    <tr>\n",
       "      <th>786925</th>\n",
       "      <td>Device Care</td>\n",
       "      <td>Tools</td>\n",
       "      <td>1681485812</td>\n",
       "      <td>Samsung Electronics Co.,  Ltd.</td>\n",
       "    </tr>\n",
       "    <tr>\n",
       "      <th>731501</th>\n",
       "      <td>SHAREit - Transfer &amp; Share</td>\n",
       "      <td>Tools</td>\n",
       "      <td>1666016612</td>\n",
       "      <td>Smart Media4U Technology Pte.Ltd.</td>\n",
       "    </tr>\n",
       "    <tr>\n",
       "      <th>1153656</th>\n",
       "      <td>Samsung Calculator</td>\n",
       "      <td>Tools</td>\n",
       "      <td>1614135190</td>\n",
       "      <td>Samsung Electronics Co.,  Ltd.</td>\n",
       "    </tr>\n",
       "  </tbody>\n",
       "</table>\n",
       "</div>"
      ],
      "text/plain": [
       "                             App Name Category  Maximum Installs  \\\n",
       "2155096          Google Play services    Tools       12057627016   \n",
       "1773294                        Google    Tools        9154248491   \n",
       "1060335         Google Text-to-Speech    Tools        9034404884   \n",
       "1429623        Android System WebView    Tools        4764329349   \n",
       "1366575  Gboard - the Google Keyboard    Tools        3897822063   \n",
       "1085721              Samsung My Files    Tools        2063336389   \n",
       "337866     Samsung Experience Service    Tools        1682763021   \n",
       "786925                    Device Care    Tools        1681485812   \n",
       "731501     SHAREit - Transfer & Share    Tools        1666016612   \n",
       "1153656            Samsung Calculator    Tools        1614135190   \n",
       "\n",
       "                              Developer Id  \n",
       "2155096                         Google LLC  \n",
       "1773294                         Google LLC  \n",
       "1060335                         Google LLC  \n",
       "1429623                         Google LLC  \n",
       "1366575                         Google LLC  \n",
       "1085721     Samsung Electronics Co.,  Ltd.  \n",
       "337866      Samsung Electronics Co.,  Ltd.  \n",
       "786925      Samsung Electronics Co.,  Ltd.  \n",
       "731501   Smart Media4U Technology Pte.Ltd.  \n",
       "1153656     Samsung Electronics Co.,  Ltd.  "
      ]
     },
     "execution_count": 33,
     "metadata": {},
     "output_type": "execute_result"
    }
   ],
   "source": [
    "tools_app = df[df['Category'] == 'Tools'][['App Name','Category','Maximum Installs','Developer Id']]\n",
    "tools_app = tools_app.sort_values(by = 'Maximum Installs', ascending = False)\n",
    "tools_app.head(10)"
   ]
  },
  {
   "cell_type": "markdown",
   "id": "d9dc8443",
   "metadata": {},
   "source": [
    "Có vẻ các ứng dụng hàng đầu trong hạng mục Tools của các công ty đều là các ứng dụng hỗ trợ được cài đặt sẵn cho người dùng các thiết bị Android (hoặc riêng của hãng)"
   ]
  },
  {
   "cell_type": "markdown",
   "id": "f7aa1237",
   "metadata": {},
   "source": [
    "Ta thử khám phá 2 hạng mục sau đó là 'Productivity' và 'Business' xem có gì trong 2 hạng mục đứng thứ 2 này (xu hướng, chất lượng)"
   ]
  },
  {
   "cell_type": "code",
   "execution_count": 34,
   "id": "4dd9461a",
   "metadata": {},
   "outputs": [
    {
     "data": {
      "text/html": [
       "<div>\n",
       "<style scoped>\n",
       "    .dataframe tbody tr th:only-of-type {\n",
       "        vertical-align: middle;\n",
       "    }\n",
       "\n",
       "    .dataframe tbody tr th {\n",
       "        vertical-align: top;\n",
       "    }\n",
       "\n",
       "    .dataframe thead th {\n",
       "        text-align: right;\n",
       "    }\n",
       "</style>\n",
       "<table border=\"1\" class=\"dataframe\">\n",
       "  <thead>\n",
       "    <tr style=\"text-align: right;\">\n",
       "      <th></th>\n",
       "      <th>App Name</th>\n",
       "      <th>Category</th>\n",
       "      <th>Maximum Installs</th>\n",
       "      <th>Developer Id</th>\n",
       "    </tr>\n",
       "  </thead>\n",
       "  <tbody>\n",
       "    <tr>\n",
       "      <th>893676</th>\n",
       "      <td>Google Drive</td>\n",
       "      <td>Productivity</td>\n",
       "      <td>7028265259</td>\n",
       "      <td>Google LLC</td>\n",
       "    </tr>\n",
       "    <tr>\n",
       "      <th>224802</th>\n",
       "      <td>Google Calendar</td>\n",
       "      <td>Productivity</td>\n",
       "      <td>2651720962</td>\n",
       "      <td>Google LLC</td>\n",
       "    </tr>\n",
       "    <tr>\n",
       "      <th>2310951</th>\n",
       "      <td>Microsoft OneDrive</td>\n",
       "      <td>Productivity</td>\n",
       "      <td>2056017889</td>\n",
       "      <td>Microsoft Corporation</td>\n",
       "    </tr>\n",
       "    <tr>\n",
       "      <th>2009528</th>\n",
       "      <td>Microsoft Word: Write, Edit &amp; Share Docs on th...</td>\n",
       "      <td>Productivity</td>\n",
       "      <td>1651577965</td>\n",
       "      <td>Microsoft Corporation</td>\n",
       "    </tr>\n",
       "    <tr>\n",
       "      <th>15871</th>\n",
       "      <td>Samsung Email</td>\n",
       "      <td>Productivity</td>\n",
       "      <td>1616141394</td>\n",
       "      <td>Samsung Electronics Co.,  Ltd.</td>\n",
       "    </tr>\n",
       "  </tbody>\n",
       "</table>\n",
       "</div>"
      ],
      "text/plain": [
       "                                                  App Name      Category  \\\n",
       "893676                                        Google Drive  Productivity   \n",
       "224802                                     Google Calendar  Productivity   \n",
       "2310951                                 Microsoft OneDrive  Productivity   \n",
       "2009528  Microsoft Word: Write, Edit & Share Docs on th...  Productivity   \n",
       "15871                                        Samsung Email  Productivity   \n",
       "\n",
       "         Maximum Installs                    Developer Id  \n",
       "893676         7028265259                      Google LLC  \n",
       "224802         2651720962                      Google LLC  \n",
       "2310951        2056017889           Microsoft Corporation  \n",
       "2009528        1651577965           Microsoft Corporation  \n",
       "15871          1616141394  Samsung Electronics Co.,  Ltd.  "
      ]
     },
     "execution_count": 34,
     "metadata": {},
     "output_type": "execute_result"
    }
   ],
   "source": [
    "tools_app = df[df['Category'] == 'Productivity'][['App Name','Category','Maximum Installs','Developer Id']]\n",
    "tools_app = tools_app.sort_values(by = 'Maximum Installs', ascending = False)\n",
    "tools_app.head(5)"
   ]
  },
  {
   "cell_type": "markdown",
   "id": "012090f5",
   "metadata": {},
   "source": [
    "Các ứng dụng trong hạng mục 'Productivity' cũng là những ứng dụng quen thuộc hỗ trợ các công việc cơ bản như lưu trữ, soạn thảo, email, lịch,..."
   ]
  },
  {
   "cell_type": "code",
   "execution_count": 35,
   "id": "ccf66693",
   "metadata": {},
   "outputs": [
    {
     "data": {
      "text/html": [
       "<div>\n",
       "<style scoped>\n",
       "    .dataframe tbody tr th:only-of-type {\n",
       "        vertical-align: middle;\n",
       "    }\n",
       "\n",
       "    .dataframe tbody tr th {\n",
       "        vertical-align: top;\n",
       "    }\n",
       "\n",
       "    .dataframe thead th {\n",
       "        text-align: right;\n",
       "    }\n",
       "</style>\n",
       "<table border=\"1\" class=\"dataframe\">\n",
       "  <thead>\n",
       "    <tr style=\"text-align: right;\">\n",
       "      <th></th>\n",
       "      <th>App Name</th>\n",
       "      <th>Category</th>\n",
       "      <th>Maximum Installs</th>\n",
       "      <th>Developer Id</th>\n",
       "    </tr>\n",
       "  </thead>\n",
       "  <tbody>\n",
       "    <tr>\n",
       "      <th>1858060</th>\n",
       "      <td>Secure Folder</td>\n",
       "      <td>Business</td>\n",
       "      <td>1410817280</td>\n",
       "      <td>Samsung Electronics Co.,  Ltd.</td>\n",
       "    </tr>\n",
       "    <tr>\n",
       "      <th>2013507</th>\n",
       "      <td>LinkedIn: Jobs, Business News &amp; Social Networking</td>\n",
       "      <td>Business</td>\n",
       "      <td>827144233</td>\n",
       "      <td>LinkedIn</td>\n",
       "    </tr>\n",
       "    <tr>\n",
       "      <th>1961278</th>\n",
       "      <td>ZOOM Cloud Meetings</td>\n",
       "      <td>Business</td>\n",
       "      <td>674196557</td>\n",
       "      <td>zoom.us</td>\n",
       "    </tr>\n",
       "    <tr>\n",
       "      <th>1479726</th>\n",
       "      <td>Google Meet - Secure Video Meetings</td>\n",
       "      <td>Business</td>\n",
       "      <td>352581380</td>\n",
       "      <td>Google LLC</td>\n",
       "    </tr>\n",
       "    <tr>\n",
       "      <th>1778527</th>\n",
       "      <td>Microsoft Teams</td>\n",
       "      <td>Business</td>\n",
       "      <td>199799210</td>\n",
       "      <td>Microsoft Corporation</td>\n",
       "    </tr>\n",
       "  </tbody>\n",
       "</table>\n",
       "</div>"
      ],
      "text/plain": [
       "                                                  App Name  Category  \\\n",
       "1858060                                      Secure Folder  Business   \n",
       "2013507  LinkedIn: Jobs, Business News & Social Networking  Business   \n",
       "1961278                                ZOOM Cloud Meetings  Business   \n",
       "1479726                Google Meet - Secure Video Meetings  Business   \n",
       "1778527                                    Microsoft Teams  Business   \n",
       "\n",
       "         Maximum Installs                    Developer Id  \n",
       "1858060        1410817280  Samsung Electronics Co.,  Ltd.  \n",
       "2013507         827144233                        LinkedIn  \n",
       "1961278         674196557                         zoom.us  \n",
       "1479726         352581380                      Google LLC  \n",
       "1778527         199799210           Microsoft Corporation  "
      ]
     },
     "execution_count": 35,
     "metadata": {},
     "output_type": "execute_result"
    }
   ],
   "source": [
    "tools_app = df[df['Category'] == 'Business'][['App Name','Category','Maximum Installs','Developer Id']]\n",
    "tools_app = tools_app.sort_values(by = 'Maximum Installs', ascending = False)\n",
    "tools_app.head(5)"
   ]
  },
  {
   "cell_type": "markdown",
   "id": "fb5c81a9",
   "metadata": {},
   "source": [
    "Có vẻ ở các ứng dụng trong hạng mục 'Business', đang có sự bùng nổ về các ứng dụng họp trực tuyến, có thể là do sự ảnh hưởng của đại dịch covid."
   ]
  },
  {
   "cell_type": "markdown",
   "id": "16059c1d",
   "metadata": {},
   "source": [
    "Như đã đề cập ở trước đó, ta sẽ thử lấy ra các ứng dụng của Google và xem thể loại các ứng dụng của hãng"
   ]
  },
  {
   "cell_type": "code",
   "execution_count": 36,
   "id": "e4edb5af",
   "metadata": {},
   "outputs": [
    {
     "data": {
      "image/png": "[encoded data removed]",
      "text/plain": [
       "<Figure size 432x288 with 1 Axes>"
      ]
     },
     "metadata": {
      "needs_background": "light"
     },
     "output_type": "display_data"
    }
   ],
   "source": [
    "dev_google = df[df['Developer Id'] == 'Google LLC']\n",
    "google_cate = dev_google['Category']\n",
    "google_cate = google_cate.value_counts()\n",
    "google_cate = google_cate[:10]\n",
    "google_cate.plot.barh();"
   ]
  },
  {
   "cell_type": "code",
   "execution_count": 37,
   "id": "5cfb6f02",
   "metadata": {},
   "outputs": [
    {
     "data": {
      "text/html": [
       "<div>\n",
       "<style scoped>\n",
       "    .dataframe tbody tr th:only-of-type {\n",
       "        vertical-align: middle;\n",
       "    }\n",
       "\n",
       "    .dataframe tbody tr th {\n",
       "        vertical-align: top;\n",
       "    }\n",
       "\n",
       "    .dataframe thead th {\n",
       "        text-align: right;\n",
       "    }\n",
       "</style>\n",
       "<table border=\"1\" class=\"dataframe\">\n",
       "  <thead>\n",
       "    <tr style=\"text-align: right;\">\n",
       "      <th></th>\n",
       "      <th>App Name</th>\n",
       "      <th>Category</th>\n",
       "      <th>Maximum Installs</th>\n",
       "      <th>Developer Id</th>\n",
       "    </tr>\n",
       "  </thead>\n",
       "  <tbody>\n",
       "    <tr>\n",
       "      <th>2155096</th>\n",
       "      <td>Google Play services</td>\n",
       "      <td>Tools</td>\n",
       "      <td>12057627016</td>\n",
       "      <td>Google LLC</td>\n",
       "    </tr>\n",
       "    <tr>\n",
       "      <th>1773294</th>\n",
       "      <td>Google</td>\n",
       "      <td>Tools</td>\n",
       "      <td>9154248491</td>\n",
       "      <td>Google LLC</td>\n",
       "    </tr>\n",
       "    <tr>\n",
       "      <th>1060335</th>\n",
       "      <td>Google Text-to-Speech</td>\n",
       "      <td>Tools</td>\n",
       "      <td>9034404884</td>\n",
       "      <td>Google LLC</td>\n",
       "    </tr>\n",
       "    <tr>\n",
       "      <th>1429623</th>\n",
       "      <td>Android System WebView</td>\n",
       "      <td>Tools</td>\n",
       "      <td>4764329349</td>\n",
       "      <td>Google LLC</td>\n",
       "    </tr>\n",
       "    <tr>\n",
       "      <th>1366575</th>\n",
       "      <td>Gboard - the Google Keyboard</td>\n",
       "      <td>Tools</td>\n",
       "      <td>3897822063</td>\n",
       "      <td>Google LLC</td>\n",
       "    </tr>\n",
       "    <tr>\n",
       "      <th>754825</th>\n",
       "      <td>Google Play Services for AR</td>\n",
       "      <td>Tools</td>\n",
       "      <td>1459169211</td>\n",
       "      <td>Google LLC</td>\n",
       "    </tr>\n",
       "    <tr>\n",
       "      <th>2046279</th>\n",
       "      <td>Files by Google</td>\n",
       "      <td>Tools</td>\n",
       "      <td>1163166935</td>\n",
       "      <td>Google LLC</td>\n",
       "    </tr>\n",
       "    <tr>\n",
       "      <th>2159406</th>\n",
       "      <td>Clock</td>\n",
       "      <td>Tools</td>\n",
       "      <td>1045577416</td>\n",
       "      <td>Google LLC</td>\n",
       "    </tr>\n",
       "    <tr>\n",
       "      <th>1702634</th>\n",
       "      <td>Calculator</td>\n",
       "      <td>Tools</td>\n",
       "      <td>1005908944</td>\n",
       "      <td>Google LLC</td>\n",
       "    </tr>\n",
       "    <tr>\n",
       "      <th>160781</th>\n",
       "      <td>Google Lens</td>\n",
       "      <td>Tools</td>\n",
       "      <td>749482169</td>\n",
       "      <td>Google LLC</td>\n",
       "    </tr>\n",
       "  </tbody>\n",
       "</table>\n",
       "</div>"
      ],
      "text/plain": [
       "                             App Name Category  Maximum Installs Developer Id\n",
       "2155096          Google Play services    Tools       12057627016   Google LLC\n",
       "1773294                        Google    Tools        9154248491   Google LLC\n",
       "1060335         Google Text-to-Speech    Tools        9034404884   Google LLC\n",
       "1429623        Android System WebView    Tools        4764329349   Google LLC\n",
       "1366575  Gboard - the Google Keyboard    Tools        3897822063   Google LLC\n",
       "754825    Google Play Services for AR    Tools        1459169211   Google LLC\n",
       "2046279               Files by Google    Tools        1163166935   Google LLC\n",
       "2159406                         Clock    Tools        1045577416   Google LLC\n",
       "1702634                    Calculator    Tools        1005908944   Google LLC\n",
       "160781                    Google Lens    Tools         749482169   Google LLC"
      ]
     },
     "execution_count": 37,
     "metadata": {},
     "output_type": "execute_result"
    }
   ],
   "source": [
    "tools_app = dev_google[dev_google['Category'] == 'Tools'][['App Name','Category','Maximum Installs','Developer Id']]\n",
    "tools_app = tools_app.sort_values(by = 'Maximum Installs', ascending = False)\n",
    "tools_app.head(10)"
   ]
  },
  {
   "cell_type": "markdown",
   "id": "3ad04e97",
   "metadata": {},
   "source": [
    "**Nhận xét**: Các ứng dụng trong hạng mục 'Tools' của chiếm đa số trong tổng các ứng dụng của 'Google LLC' (cũng như chiếm gần 1/2 tổng số ứng dụng hạng mục 'Tools' của 10 công ty đang phân tích). Có thể là do ta thu thập dữ liệu từ Google Playstore, kho ứng dụng của các thiết bị sử dụng hệ điều hành Android - hệ điều hành mà nhà phát triển chủ yếu chính là Google. Vì thế, Google đã phát triển các ứng dụng hỗ trợ hệ điều hành trở nên tối ưu này, khiến cho các ứng dụng thuộc thể loại 'Tools' chiếm nhiều trong tổng số."
   ]
  },
  {
   "cell_type": "markdown",
   "id": "0b1ff7c1",
   "metadata": {},
   "source": [
    "**Kết luận**: Các nhà phát triển lớn một phần đều là các nhà phát triển thiết bị / hệ điều hành, nên phần nào họ tập trung vào việc phát triển các ứng dụng hỗ trợ hiệu suất thiết bị trở nên tốt hơn, do đó các ứng dụng ở hạng mục 'Tools' chiếm số lượng vượt trội trong tổng số."
   ]
  },
  {
   "cell_type": "markdown",
   "id": "5d6554f0",
   "metadata": {},
   "source": [
    "## Câu hỏi 3"
   ]
  },
  {
   "cell_type": "markdown",
   "id": "e6a43eff",
   "metadata": {},
   "source": [
    "Để trả lời câu hỏi này, ta cần trả lời được các ý sau: \n",
    "1. Phiên bản Android cung cấp của các NPT dành cho người sử dụng hiện tại đang nằm trong khoảng nào?\n",
    "2. Tình hình cập nhật ứng dụng thường xuyên của các NPT được phân bố ra sao?\n",
    "3. Kích thước các ứng dụng nằm trong khoảng như thế nào?\n",
    "\n",
    "Để tìm ra câu trả lời, ta thực hiện như sau:\n",
    "- **Bước 1**: Để đảm bảo dữ liệu không có quá nhiều giá trị nhiễu, nhưng vẫn cho thấy sự khác biệt giữa chất lượng các NPT có lượt tải nhiều và ít, ta sẽ tính số lượt tải trung bình của ứng dụng mà NPT tạo nên, sau đó lựa chọn 2 mẫu dữ liệu làm 'NPT lớn' và 'NPT tầm trung'\n",
    "- **Bước 2**: Với từng câu hỏi:\n",
    "    - Câu hỏi (1): Thống kê các phiên bản Android của mỗi loại NPT, chọn ra 15 giá trị tiêu biểu cho cả 2 loại, vẽ biểu đồ và nhận xét\n",
    "    - Câu hỏi (2): Tính toán tỉ lệ khoảng thời gian bảo hành từ lúc ứng ra mắt và chia cho thời gian ứng dụng ra đời (tính đến hiện tại), chia ra các khoảng hợp lý, vẽ biểu đồ và nhận xét\n",
    "    - Câu hỏi (3): Thống kê các kích thước ứng dụng của mỗi loại NPT, quy đổi lại thành cùng 1 đơn vị, chia ra các khoảng hợp lý, vẽ biểu đồ và nhận xét\n",
    "- **Bước 3**: Sau khi đã nhận xét và tìm ra được các yếu tố khác biệt, đặt ra 1 giả thiết và tiến hành phân tích trên toàn bộ dữ liệu để có cái nhìn tổng quát hơn"
   ]
  },
  {
   "cell_type": "markdown",
   "id": "85b06953",
   "metadata": {},
   "source": [
    "**Bước 1**: Tính số lượt tải trung bình của ứng dụng mà NPT tạo nên, chọn lựa 2 mẫu NPT lớn và NPT tầm trung"
   ]
  },
  {
   "cell_type": "code",
   "execution_count": 38,
   "id": "769b7928",
   "metadata": {},
   "outputs": [
    {
     "data": {
      "text/html": [
       "<div>\n",
       "<style scoped>\n",
       "    .dataframe tbody tr th:only-of-type {\n",
       "        vertical-align: middle;\n",
       "    }\n",
       "\n",
       "    .dataframe tbody tr th {\n",
       "        vertical-align: top;\n",
       "    }\n",
       "\n",
       "    .dataframe thead th {\n",
       "        text-align: right;\n",
       "    }\n",
       "</style>\n",
       "<table border=\"1\" class=\"dataframe\">\n",
       "  <thead>\n",
       "    <tr style=\"text-align: right;\">\n",
       "      <th></th>\n",
       "      <th>Developer Id</th>\n",
       "      <th>Maximum Installs</th>\n",
       "      <th>app_count</th>\n",
       "      <th>result</th>\n",
       "    </tr>\n",
       "  </thead>\n",
       "  <tbody>\n",
       "    <tr>\n",
       "      <th>0</th>\n",
       "      <td>\bTranAnhDuc</td>\n",
       "      <td>2</td>\n",
       "      <td>1</td>\n",
       "      <td>2.000000</td>\n",
       "    </tr>\n",
       "    <tr>\n",
       "      <th>1</th>\n",
       "      <td>KTGame PTE LTD</td>\n",
       "      <td>59100</td>\n",
       "      <td>6</td>\n",
       "      <td>9850.000000</td>\n",
       "    </tr>\n",
       "    <tr>\n",
       "      <th>2</th>\n",
       "      <td>! Phoenix Inc.</td>\n",
       "      <td>15087</td>\n",
       "      <td>2</td>\n",
       "      <td>7543.500000</td>\n",
       "    </tr>\n",
       "    <tr>\n",
       "      <th>3</th>\n",
       "      <td>!CanStudioz</td>\n",
       "      <td>15037</td>\n",
       "      <td>5</td>\n",
       "      <td>3007.400000</td>\n",
       "    </tr>\n",
       "    <tr>\n",
       "      <th>4</th>\n",
       "      <td>!F - If You Want 67</td>\n",
       "      <td>2657</td>\n",
       "      <td>1</td>\n",
       "      <td>2657.000000</td>\n",
       "    </tr>\n",
       "    <tr>\n",
       "      <th>...</th>\n",
       "      <td>...</td>\n",
       "      <td>...</td>\n",
       "      <td>...</td>\n",
       "      <td>...</td>\n",
       "    </tr>\n",
       "    <tr>\n",
       "      <th>733440</th>\n",
       "      <td>🥇 CryptWallet - Finance Services</td>\n",
       "      <td>19790</td>\n",
       "      <td>1</td>\n",
       "      <td>19790.000000</td>\n",
       "    </tr>\n",
       "    <tr>\n",
       "      <th>733441</th>\n",
       "      <td>🥇Alot.pro</td>\n",
       "      <td>1145173</td>\n",
       "      <td>2</td>\n",
       "      <td>572586.500000</td>\n",
       "    </tr>\n",
       "    <tr>\n",
       "      <th>733442</th>\n",
       "      <td>🦈 2Sharks</td>\n",
       "      <td>2522239</td>\n",
       "      <td>6</td>\n",
       "      <td>420373.166667</td>\n",
       "    </tr>\n",
       "    <tr>\n",
       "      <th>733443</th>\n",
       "      <td>🦊 RSApps - Quiz &amp; Games 🦊</td>\n",
       "      <td>269403</td>\n",
       "      <td>36</td>\n",
       "      <td>7483.416667</td>\n",
       "    </tr>\n",
       "    <tr>\n",
       "      <th>733444</th>\n",
       "      <td>🧙🏼Lucrezia - MMORPG</td>\n",
       "      <td>143496</td>\n",
       "      <td>1</td>\n",
       "      <td>143496.000000</td>\n",
       "    </tr>\n",
       "  </tbody>\n",
       "</table>\n",
       "<p>733445 rows × 4 columns</p>\n",
       "</div>"
      ],
      "text/plain": [
       "                            Developer Id  Maximum Installs  app_count  \\\n",
       "0                            \bTranAnhDuc                 2          1   \n",
       "1                        \n",
       "KTGame PTE LTD             59100          6   \n",
       "2                         ! Phoenix Inc.             15087          2   \n",
       "3                            !CanStudioz             15037          5   \n",
       "4                    !F - If You Want 67              2657          1   \n",
       "...                                  ...               ...        ...   \n",
       "733440  🥇 CryptWallet - Finance Services             19790          1   \n",
       "733441                         🥇Alot.pro           1145173          2   \n",
       "733442                         🦈 2Sharks           2522239          6   \n",
       "733443         🦊 RSApps - Quiz & Games 🦊            269403         36   \n",
       "733444               🧙🏼Lucrezia - MMORPG            143496          1   \n",
       "\n",
       "               result  \n",
       "0            2.000000  \n",
       "1         9850.000000  \n",
       "2         7543.500000  \n",
       "3         3007.400000  \n",
       "4         2657.000000  \n",
       "...               ...  \n",
       "733440   19790.000000  \n",
       "733441  572586.500000  \n",
       "733442  420373.166667  \n",
       "733443    7483.416667  \n",
       "733444  143496.000000  \n",
       "\n",
       "[733445 rows x 4 columns]"
      ]
     },
     "execution_count": 38,
     "metadata": {},
     "output_type": "execute_result"
    }
   ],
   "source": [
    "top_install = df.groupby(['Developer Id'])['Maximum Installs'].sum()\n",
    "\n",
    "# Ta sẽ tính số lượt tải trung bình bằng cách lấy tổng số lượt tải NPT có / tổng số ứng dụng NPT tạo ra\n",
    "top_app =  df.groupby(['Developer Id']).size().rename('app_count')\n",
    "sort_avg_ins = pd.concat([top_install, top_app], axis=1).reset_index()\n",
    "sort_avg_ins[\"result\"] = sort_avg_ins[\"Maximum Installs\"]/sort_avg_ins[\"app_count\"]\n",
    "\n",
    "sort_avg_ins"
   ]
  },
  {
   "cell_type": "markdown",
   "id": "62d022b4",
   "metadata": {},
   "source": [
    "Sắp xếp lại giá trị `result` theo thức tự giảm dần và chọn mẫu"
   ]
  },
  {
   "cell_type": "code",
   "execution_count": 39,
   "id": "09ebc022",
   "metadata": {},
   "outputs": [],
   "source": [
    "sort_avg_ins.sort_values(by = 'result', axis=0, ascending=False,inplace = True)"
   ]
  },
  {
   "cell_type": "markdown",
   "id": "6fb3ce0d",
   "metadata": {},
   "source": [
    "Ta sẽ chọn 10000 NPT đầu tiên cho mẫu 'NPT lớn'"
   ]
  },
  {
   "cell_type": "code",
   "execution_count": 40,
   "id": "3ea6327a",
   "metadata": {},
   "outputs": [
    {
     "data": {
      "text/plain": [
       "637800            WhatsApp LLC\n",
       "535978                   Skype\n",
       "539410                Snap Inc\n",
       "213352               Flipboard\n",
       "621026    Viber Media S.à r.l.\n",
       "                  ...         \n",
       "136193       Countryside Games\n",
       "647993                  Yagmur\n",
       "672670          eBay Japan G.K\n",
       "333828          Laurențiu Onac\n",
       "83161               BeyondMenu\n",
       "Name: Developer Id, Length: 10000, dtype: object"
      ]
     },
     "execution_count": 40,
     "metadata": {},
     "output_type": "execute_result"
    }
   ],
   "source": [
    "top_dev = sort_avg_ins['Developer Id'][:10000]\n",
    "top_dev"
   ]
  },
  {
   "cell_type": "markdown",
   "id": "d0c8798f",
   "metadata": {},
   "source": [
    "Với 'NPT tầm trung', ta chọn 10000 NPT đứng sau giá trị median làm mẫu"
   ]
  },
  {
   "cell_type": "code",
   "execution_count": 41,
   "id": "28061fc6",
   "metadata": {},
   "outputs": [
    {
     "data": {
      "text/plain": [
       "209083    Filippo Vezzali - Digital Creative Agency\n",
       "530399                               Siddha Refines\n",
       "54239                                     ApéroCube\n",
       "723746                                          ましろ\n",
       "483220                  Raytown C-2 School District\n",
       "                            ...                    \n",
       "22114                                  Achint Singh\n",
       "72307                                    BTW Studio\n",
       "704810                                    sefir.den\n",
       "458754                           Pond_Master(Group)\n",
       "410728                                New Appz Tech\n",
       "Name: Developer Id, Length: 10000, dtype: object"
      ]
     },
     "execution_count": 41,
     "metadata": {},
     "output_type": "execute_result"
    }
   ],
   "source": [
    "mid = int(np.fix(len(sort_avg_ins['Developer Id'])/2))\n",
    "mid_dev = sort_avg_ins['Developer Id'][mid:(mid+10000)]\n",
    "mid_dev"
   ]
  },
  {
   "cell_type": "markdown",
   "id": "a231f1ec",
   "metadata": {},
   "source": [
    "**Bước 2**: Trả lời từng câu hỏi"
   ]
  },
  {
   "cell_type": "markdown",
   "id": "550c657f",
   "metadata": {},
   "source": [
    "***Câu hỏi 1***: Phiên bản Android cung cấp của các NPT dành cho người sử dụng hiện tại đang nằm trong khoảng nào?"
   ]
  },
  {
   "cell_type": "markdown",
   "id": "862b7098",
   "metadata": {},
   "source": [
    "Lấy ra phiên bản Android cung cấp của mỗi loại NPT bằng hàm `get_android`"
   ]
  },
  {
   "cell_type": "code",
   "execution_count": 42,
   "id": "3e8fda5a",
   "metadata": {},
   "outputs": [],
   "source": [
    "def get_android(dev_sr, name):\n",
    "    dev_android = df[df['Developer Id'].isin(dev_sr.values.tolist())]['Minimum Android']\n",
    "    dev_android = dev_android.value_counts()\n",
    "    dev_android = dev_android.rename(name)\n",
    "    return dev_android"
   ]
  },
  {
   "cell_type": "code",
   "execution_count": 43,
   "id": "08b44c76",
   "metadata": {},
   "outputs": [],
   "source": [
    "top_dev_android = get_android(top_dev,'top_dev')\n",
    "mid_dev_android = get_android(mid_dev,'mid_dev')"
   ]
  },
  {
   "cell_type": "markdown",
   "id": "a06a6425",
   "metadata": {},
   "source": [
    "Lấy ra 15 giá trị phiên bản Android cung cấp tiêu biểu của mỗi loại NPT"
   ]
  },
  {
   "cell_type": "code",
   "execution_count": 44,
   "id": "caf21915",
   "metadata": {},
   "outputs": [],
   "source": [
    "top_dev_android = top_dev_android[:15]\n",
    "mid_dev_android = mid_dev_android[:15]"
   ]
  },
  {
   "cell_type": "markdown",
   "id": "56f06802",
   "metadata": {},
   "source": [
    "Xây dựng Dataframe từ 15 giá trị tiêu biểu của 2 mẫu đã lấy ở trên để vẽ biểu đồ"
   ]
  },
  {
   "cell_type": "code",
   "execution_count": 45,
   "id": "a669f23e",
   "metadata": {},
   "outputs": [
    {
     "data": {
      "text/html": [
       "<div>\n",
       "<style scoped>\n",
       "    .dataframe tbody tr th:only-of-type {\n",
       "        vertical-align: middle;\n",
       "    }\n",
       "\n",
       "    .dataframe tbody tr th {\n",
       "        vertical-align: top;\n",
       "    }\n",
       "\n",
       "    .dataframe thead th {\n",
       "        text-align: right;\n",
       "    }\n",
       "</style>\n",
       "<table border=\"1\" class=\"dataframe\">\n",
       "  <thead>\n",
       "    <tr style=\"text-align: right;\">\n",
       "      <th></th>\n",
       "      <th>index</th>\n",
       "      <th>top_dev</th>\n",
       "      <th>mid_dev</th>\n",
       "    </tr>\n",
       "  </thead>\n",
       "  <tbody>\n",
       "    <tr>\n",
       "      <th>0</th>\n",
       "      <td>4.1 and up</td>\n",
       "      <td>9352.0</td>\n",
       "      <td>8461.0</td>\n",
       "    </tr>\n",
       "    <tr>\n",
       "      <th>1</th>\n",
       "      <td>4.4 and up</td>\n",
       "      <td>8238.0</td>\n",
       "      <td>6138.0</td>\n",
       "    </tr>\n",
       "    <tr>\n",
       "      <th>2</th>\n",
       "      <td>5.0 and up</td>\n",
       "      <td>7911.0</td>\n",
       "      <td>6053.0</td>\n",
       "    </tr>\n",
       "    <tr>\n",
       "      <th>3</th>\n",
       "      <td>Varies with device</td>\n",
       "      <td>2019.0</td>\n",
       "      <td>NaN</td>\n",
       "    </tr>\n",
       "    <tr>\n",
       "      <th>4</th>\n",
       "      <td>4.0 and up</td>\n",
       "      <td>1894.0</td>\n",
       "      <td>2070.0</td>\n",
       "    </tr>\n",
       "    <tr>\n",
       "      <th>5</th>\n",
       "      <td>2.3 and up</td>\n",
       "      <td>1593.0</td>\n",
       "      <td>679.0</td>\n",
       "    </tr>\n",
       "    <tr>\n",
       "      <th>6</th>\n",
       "      <td>4.2 and up</td>\n",
       "      <td>1557.0</td>\n",
       "      <td>2545.0</td>\n",
       "    </tr>\n",
       "    <tr>\n",
       "      <th>7</th>\n",
       "      <td>6.0 and up</td>\n",
       "      <td>1435.0</td>\n",
       "      <td>1077.0</td>\n",
       "    </tr>\n",
       "    <tr>\n",
       "      <th>8</th>\n",
       "      <td>4.0.3 and up</td>\n",
       "      <td>1433.0</td>\n",
       "      <td>2120.0</td>\n",
       "    </tr>\n",
       "    <tr>\n",
       "      <th>9</th>\n",
       "      <td>4.3 and up</td>\n",
       "      <td>658.0</td>\n",
       "      <td>499.0</td>\n",
       "    </tr>\n",
       "    <tr>\n",
       "      <th>10</th>\n",
       "      <td>7.0 and up</td>\n",
       "      <td>595.0</td>\n",
       "      <td>511.0</td>\n",
       "    </tr>\n",
       "    <tr>\n",
       "      <th>11</th>\n",
       "      <td>5.1 and up</td>\n",
       "      <td>577.0</td>\n",
       "      <td>980.0</td>\n",
       "    </tr>\n",
       "    <tr>\n",
       "      <th>12</th>\n",
       "      <td>2.3.3 and up</td>\n",
       "      <td>411.0</td>\n",
       "      <td>266.0</td>\n",
       "    </tr>\n",
       "    <tr>\n",
       "      <th>13</th>\n",
       "      <td>2.2 and up</td>\n",
       "      <td>292.0</td>\n",
       "      <td>224.0</td>\n",
       "    </tr>\n",
       "    <tr>\n",
       "      <th>14</th>\n",
       "      <td>3.0 and up</td>\n",
       "      <td>252.0</td>\n",
       "      <td>NaN</td>\n",
       "    </tr>\n",
       "    <tr>\n",
       "      <th>15</th>\n",
       "      <td>2.1 and up</td>\n",
       "      <td>NaN</td>\n",
       "      <td>229.0</td>\n",
       "    </tr>\n",
       "    <tr>\n",
       "      <th>16</th>\n",
       "      <td>8.0 and up</td>\n",
       "      <td>NaN</td>\n",
       "      <td>205.0</td>\n",
       "    </tr>\n",
       "  </tbody>\n",
       "</table>\n",
       "</div>"
      ],
      "text/plain": [
       "                 index  top_dev  mid_dev\n",
       "0           4.1 and up   9352.0   8461.0\n",
       "1           4.4 and up   8238.0   6138.0\n",
       "2           5.0 and up   7911.0   6053.0\n",
       "3   Varies with device   2019.0      NaN\n",
       "4           4.0 and up   1894.0   2070.0\n",
       "5           2.3 and up   1593.0    679.0\n",
       "6           4.2 and up   1557.0   2545.0\n",
       "7           6.0 and up   1435.0   1077.0\n",
       "8         4.0.3 and up   1433.0   2120.0\n",
       "9           4.3 and up    658.0    499.0\n",
       "10          7.0 and up    595.0    511.0\n",
       "11          5.1 and up    577.0    980.0\n",
       "12        2.3.3 and up    411.0    266.0\n",
       "13          2.2 and up    292.0    224.0\n",
       "14          3.0 and up    252.0      NaN\n",
       "15          2.1 and up      NaN    229.0\n",
       "16          8.0 and up      NaN    205.0"
      ]
     },
     "execution_count": 45,
     "metadata": {},
     "output_type": "execute_result"
    }
   ],
   "source": [
    "survey_android = pd.concat([top_dev_android, mid_dev_android], axis=1).reset_index()\n",
    "survey_android"
   ]
  },
  {
   "cell_type": "code",
   "execution_count": 46,
   "id": "237fb167",
   "metadata": {},
   "outputs": [
    {
     "data": {
      "image/png": "[encoded data removed]",
      "text/plain": [
       "<Figure size 576x576 with 1 Axes>"
      ]
     },
     "metadata": {
      "needs_background": "light"
     },
     "output_type": "display_data"
    }
   ],
   "source": [
    "ax = survey_android.plot(x='index', kind='barh', stacked=False, figsize = (8,8));\n",
    "ax.set_xlabel('Quantity');\n",
    "ax.set_ylabel('Android Verson');\n",
    "ax.set_title('Minimum supported Android version');"
   ]
  },
  {
   "cell_type": "markdown",
   "id": "c315b700",
   "metadata": {},
   "source": [
    "**Nhận xét**: Nhìn chung, cả 2 loại NPT đều đang tập trung phát triển những ứng dụng với phiên bản Android hỗ trợ tối thiểu từ 4.0 đến 5.0. Tuy nhiên, có vẻ các công ty lớn với số lượt tải khổng lồ đang phần nào tập trung vào việc tạo nên ứng dụng hỗ trợ Android tương thích với tùy loại thiết bị, điều mà các công ty nhỏ hơn vẫn đang yếu thế."
   ]
  },
  {
   "cell_type": "markdown",
   "id": "8922f3fc",
   "metadata": {},
   "source": [
    "***Câu hỏi 2***: Tình hình cập nhật ứng dụng thường xuyên của các NPT được phân bố ra sao?"
   ]
  },
  {
   "cell_type": "markdown",
   "id": "3caf733e",
   "metadata": {},
   "source": [
    "Ta sẽ tính tỷ lệ thời gian cập nhật so với 'số tuổi' của ứng dụng thông qua hàm `get_update`. Hàm hỗ trợ việc tính tỷ lệ nêu trên thông qua công thức sau:\n",
    "\n",
    "$$DayPercent(App X)=\\frac{Last Updated Day(x) - Released Day (X)}{dateime.now - Released Day (X)} * 100 $$ \n",
    "\n",
    "Sau khi có tỷ lệ, ta sẽ chia vào các khoảng: `0-20`, `20-40`, `40-60`, `60-80`, `80-100`"
   ]
  },
  {
   "cell_type": "code",
   "execution_count": 47,
   "id": "70c8becf",
   "metadata": {},
   "outputs": [],
   "source": [
    "def get_update(dev_sr):\n",
    "    dev_time = df[df['Developer Id'].isin(dev_sr.values.tolist())][['Released', 'Last Updated']]\n",
    "    now = dt.datetime.now()\n",
    "    \n",
    "    # Lấy ra thời gian và tính tỉ lệ\n",
    "    dev_time['Day_Percent'] = (dev_time['Last Updated'] - dev_time['Released']).dt.days / \\\n",
    "                                            (now - dev_time['Released']).dt.days * 100\n",
    "    dev_time['bins'] = pd.cut(x=dev_time['Day_Percent'], bins=np.arange(0,101,20))\n",
    "    return dev_time"
   ]
  },
  {
   "cell_type": "code",
   "execution_count": 48,
   "id": "73aa2a2d",
   "metadata": {},
   "outputs": [],
   "source": [
    "top_dev_time = get_update(top_dev)\n",
    "mid_dev_time = get_update(mid_dev)"
   ]
  },
  {
   "cell_type": "markdown",
   "id": "f81b36e2",
   "metadata": {},
   "source": [
    "Tiến hành vẽ biểu đồ cột chồng theo 2 loại NPT"
   ]
  },
  {
   "cell_type": "code",
   "execution_count": 49,
   "id": "5c141ea2",
   "metadata": {},
   "outputs": [
    {
     "data": {
      "image/png": "[encoded data removed]",
      "text/plain": [
       "<Figure size 720x504 with 1 Axes>"
      ]
     },
     "metadata": {
      "needs_background": "light"
     },
     "output_type": "display_data"
    }
   ],
   "source": [
    "label = ['(0.0, 20.0]', '(20.0, 40.0]', '(40.0, 60.0]', '(60.0, 80.0]', '(80.0, 100.0]']\n",
    "\n",
    "bins_top = top_dev_time.groupby(['bins']).size().values.tolist()\n",
    "bins_mid = mid_dev_time.groupby(['bins']).size().values.tolist()\n",
    "\n",
    "plt.figure(figsize = (10,7))\n",
    "plt.bar(label, bins_top, color = 'r', width = 0.5)\n",
    "plt.bar(label, bins_mid, bottom = bins_top, color = 'b', width = 0.5)\n",
    "plt.legend(['Top_dev','Mid_dev'])\n",
    "plt.ylabel('Quantity')\n",
    "plt.xlabel('Range (%)')\n",
    "plt.title('Update Maintain Ability')\n",
    "plt.show()"
   ]
  },
  {
   "cell_type": "markdown",
   "id": "4a87853f",
   "metadata": {},
   "source": [
    "**Nhận xét**: Ta có thể thấy rằng, những nhà phát triển lớn có sự tập trung vô việc cập nhật, sửa chữa để có thể tiếp tục duy trì và phát triển ứng dụng. Còn đối với những nhà phát triển nhỏ hơn, thời gian cập nhật của họ không được duy trì lâu"
   ]
  },
  {
   "cell_type": "markdown",
   "id": "c52e7407",
   "metadata": {},
   "source": [
    "***Câu hỏi 3***: Kích thước các ứng dụng nằm trong khoảng như thế nào?"
   ]
  },
  {
   "cell_type": "markdown",
   "id": "044a2ed8",
   "metadata": {},
   "source": [
    "Ta sẽ sử dụng hàm `get_size` để lấy và xử lý phần `Size`. Hàm sẽ giúp ta lấy ra kích thước ứng dụng, sau đó bỏ đi phần chữ thể hiện kích thước đằng sau, cũng như quy đổi tất cả về 1 đơn vị đồng nhất. Riêng với giá trị `Varies with device`, ta sẽ ưu tiên tách bỏ các giá trị trên ra khỏi dataframe trước và sử dụng để xử lý trong bước sau."
   ]
  },
  {
   "cell_type": "code",
   "execution_count": 50,
   "id": "30be4b1c",
   "metadata": {},
   "outputs": [],
   "source": [
    "def get_size(dev_sr):\n",
    "    dev_size = df[df['Developer Id'].isin(dev_sr.values.tolist())]['Size']\n",
    "    \n",
    "    # Lấy các giá trị 'Varies with device' khỏi dataframe trước\n",
    "    varies_size = dev_size[dev_size == 'Varies with device']\n",
    "    dev_size = dev_size.to_frame()\n",
    "    dev_size = dev_size[dev_size['Size'] != 'Varies with device']\n",
    "\n",
    "    # Tách phần số của Size, sau đó chuyển về cùng 1 loại đơn vị là Mb\n",
    "    size_df = dev_size['Size'].str.extract(r'((?:\\d*\\.\\d+)|(?:\\d+\\.?))', expand=False).astype('float64')\n",
    "    size_df[dev_size['Size'].str[-1]=='k'] *= (1/1024)\n",
    "    size_df[dev_size['Size'].str[-1]=='G'] *= 1024\n",
    "    \n",
    "    return size_df, varies_size"
   ]
  },
  {
   "cell_type": "code",
   "execution_count": 51,
   "id": "55159029",
   "metadata": {},
   "outputs": [],
   "source": [
    "top_dev_size, varies_size_top = get_size(top_dev)\n",
    "mid_dev_size, varies_size_mid = get_size(mid_dev)"
   ]
  },
  {
   "cell_type": "markdown",
   "id": "22f6c7e4",
   "metadata": {},
   "source": [
    "Lấy ra giá trị max của cả 2 mẫu để xem xét chia khoảng"
   ]
  },
  {
   "cell_type": "code",
   "execution_count": 52,
   "id": "5aee36d4",
   "metadata": {},
   "outputs": [
    {
     "data": {
      "text/plain": [
       "(1126.4, 603.0)"
      ]
     },
     "execution_count": 52,
     "metadata": {},
     "output_type": "execute_result"
    }
   ],
   "source": [
    "top_dev_size.max(),mid_dev_size.max()"
   ]
  },
  {
   "cell_type": "code",
   "execution_count": 53,
   "id": "96386748",
   "metadata": {},
   "outputs": [],
   "source": [
    "top_dev_size = top_dev_size.to_frame()\n",
    "mid_dev_size = mid_dev_size.to_frame()"
   ]
  },
  {
   "cell_type": "markdown",
   "id": "f9f836f7",
   "metadata": {},
   "source": [
    "Vì giá trị max là 1126.4, nên ta sẽ chọc chia làm 6 khoảng từ 0 - 1200"
   ]
  },
  {
   "cell_type": "code",
   "execution_count": 54,
   "id": "62d1b32f",
   "metadata": {},
   "outputs": [],
   "source": [
    "top_dev_size['bins'] = pd.cut(x=top_dev_size['Size'], bins = np.arange(0,1201,200))\n",
    "mid_dev_size['bins'] = pd.cut(x=mid_dev_size['Size'], bins = np.arange(0,1201,200))"
   ]
  },
  {
   "cell_type": "markdown",
   "id": "ef843238",
   "metadata": {},
   "source": [
    "Sau khi đã chia khoảng xong, ta sẽ đếm số lượng giá trị trong mỗi khoảng, tạo thành dataframe mới và thêm phần 'Varies with device' vào dataframe vừa tạo thành"
   ]
  },
  {
   "cell_type": "code",
   "execution_count": 55,
   "id": "45f3c471",
   "metadata": {},
   "outputs": [
    {
     "data": {
      "image/png": "[encoded data removed]",
      "text/plain": [
       "<Figure size 1080x360 with 1 Axes>"
      ]
     },
     "metadata": {
      "needs_background": "light"
     },
     "output_type": "display_data"
    }
   ],
   "source": [
    "def to_size_df(df, varies_size, name):\n",
    "    tmp = df.groupby('bins').size()\n",
    "    tmp2 = varies_size.value_counts()\n",
    "    df_tmp = pd.DataFrame(tmp.append(tmp2), columns = [name]).reset_index()\n",
    "    return df_tmp\n",
    "\n",
    "size_mid_df = to_size_df(mid_dev_size, varies_size_mid,'mid_dev')\n",
    "size_top_df = to_size_df(top_dev_size, varies_size_top,'top_dev')\n",
    "\n",
    "#Gộp 2 dataframe của 2 loại vào và vẽ biểu đồ \n",
    "size_df = pd.merge(size_mid_df,size_top_df, on = 'index', how='inner')\n",
    "size_df.plot(x='index', kind='barh', stacked=False, figsize = (15,5));\n",
    "plt.title('App Size')\n",
    "plt.ylabel('Range (%)');\n",
    "plt.xlabel('Quantity');"
   ]
  },
  {
   "cell_type": "markdown",
   "id": "377ebbf1",
   "metadata": {},
   "source": [
    "**Nhận xét**: Đa số các nhà phát triển đều phát hành các ứng dụng trong khoảng từ 0-200Mb. Tuy nhiên, những NTP lớn cũng 1 phần phát triển những ứng dụng tương thích với nhiều loại thiết bị."
   ]
  },
  {
   "cell_type": "markdown",
   "id": "66fb082b",
   "metadata": {},
   "source": [
    "**Kết luận**: Qua 2 loại nhà phát triển với mỗi mẫu là 10000, ta có thể thấy được một số điểm khác biệt như các NTP lớn phần nào tập trung vô việc phát triển một số ứng dụng tương thích về kích cỡ và phiên bản Android hỗ trợ tối thiểu tương thích với nhiều loại thiết bị, cũng như thường xuyên cập nhật những ứng dụng của họ hơn. Đây có thể là một trong số những lý do mà các ứng dụng của họ nhận được sự ủng hộ và sử dụng từ người dùng nhiều hơn"
   ]
  },
  {
   "cell_type": "markdown",
   "id": "0b6397db",
   "metadata": {},
   "source": [
    "**Bước 3**: Thực hiện giả thiết trên toàn bộ dữ liệu từ các kết luận có được"
   ]
  },
  {
   "cell_type": "markdown",
   "id": "74f41679",
   "metadata": {},
   "source": [
    "Sau khi có được kết luận rằng có 3 yếu tố mà các NTP lớn thường sở hữu nhiều hơn các NTP tầm trung (Thường xuyên cập nhật ứng dụng, Kích cỡ và phiên bản Android tương thích với nhiều thiết bị), chúng em đặt ra 1 giả thiết như sau: ***Liệu có phải các ứng dụng có bao gồm 3 yếu tố trên sẽ nhận được Lượt cài đặt và Ratings cao hơn không?***"
   ]
  },
  {
   "cell_type": "markdown",
   "id": "6b3a52c2",
   "metadata": {},
   "source": [
    "Để thực hiện điều này, chúng em tiến hành tính `Day_Percent` trên toàn bộ dữ liệu, sau đó vẽ biểu đồ Scatter Plot, với:\n",
    "- Điểm xanh là Ratings và Maximum Install của toàn bộ ứng dụng\n",
    "- Điểm đỏ là Ratings và Maximum Install của các ứng dụng có chứa 3 yếu tố trên"
   ]
  },
  {
   "cell_type": "code",
   "execution_count": 56,
   "id": "f7c8a43e",
   "metadata": {},
   "outputs": [],
   "source": [
    "df_clone = df.copy()"
   ]
  },
  {
   "cell_type": "code",
   "execution_count": 57,
   "id": "3202e6bf",
   "metadata": {},
   "outputs": [],
   "source": [
    "now = dt.datetime.now()\n",
    "df_clone['Day_Percent'] = (df_clone['Last Updated'] - df_clone['Released']).dt.days / \\\n",
    "                                        (now - df_clone['Released']).dt.days * 100"
   ]
  },
  {
   "cell_type": "code",
   "execution_count": 58,
   "id": "e510787e",
   "metadata": {},
   "outputs": [],
   "source": [
    "app_with_factors = df_clone.loc[(df_clone['Day_Percent'] > 80) & \n",
    "                                (df['Size'] == 'Varies with device') &\n",
    "                                 (df['Minimum Android'] == 'Varies with device')]"
   ]
  },
  {
   "cell_type": "code",
   "execution_count": 59,
   "id": "e881bbfb",
   "metadata": {},
   "outputs": [
    {
     "data": {
      "image/png": "[encoded data removed]",
      "text/plain": [
       "<Figure size 1440x576 with 1 Axes>"
      ]
     },
     "metadata": {
      "needs_background": "light"
     },
     "output_type": "display_data"
    }
   ],
   "source": [
    "fig = plt.figure(figsize = (20,8))\n",
    "\n",
    "ax1 = fig.add_subplot(111)\n",
    "\n",
    "ax1.scatter(x = df['Maximum Installs'], y = df['Rating'], s=9, c='b', marker=\"s\", label='first')\n",
    "ax1.scatter(x = app_with_factors['Maximum Installs'], y = app_with_factors['Rating'], s=8, c='r', marker=\"o\", label='second')\n",
    "plt.show()"
   ]
  },
  {
   "cell_type": "markdown",
   "id": "40a629c0",
   "metadata": {},
   "source": [
    "**Kết luận**: Ta nhận thấy rằng, không phải ứng dụng có chứa đầy đủ 3 yếu tố trên sẽ luôn có lượt cài đặt và Ratings cao, vì còn rất nhiều yếu tố quan trọng khác quyết định đến 2 việc trên (Tính năng, đồ họa, độ cần thiết,...). Tuy nhiên, ta thấy rằng đa số những outlier - là những ứng dụng có lượt tải vượt trội và Ratings khá cao, thì đều sở hữu cả 3 yếu tố trên. Vì vậy, đây vẫn là những yếu tố phụ mang tính quyết định đến việc người dùng sẽ cài đặt và ủng hộ ứng dụng nhiều hay không."
   ]
  },
  {
   "cell_type": "markdown",
   "id": "1d4a824d",
   "metadata": {},
   "source": [
    "## Câu hỏi 4"
   ]
  },
  {
   "cell_type": "code",
   "execution_count": 60,
   "id": "f5171656",
   "metadata": {},
   "outputs": [],
   "source": [
    "non_free = df[df[\"Free\"] == False]\n",
    "non_free_have_ad = non_free[non_free[\"Ad Supported\"] == True]\n",
    "non_free_have_ad_rating_4 = non_free_have_ad[non_free_have_ad[\"Rating\"] >= 4.0]\n",
    "price_ = dict()\n",
    "price_[\"< 1\"] = len(non_free_have_ad_rating_4[non_free_have_ad_rating_4[\"Price\"] < 1.0])\n",
    "price_[\"1 - 10\"] = len(non_free_have_ad_rating_4[(non_free_have_ad_rating_4[\"Price\"] >= 1.0)\n",
    "                                                    & (non_free_have_ad_rating_4[\"Price\"] < 10.0)])\n",
    "price_[\"10 - 50\"] = len(non_free_have_ad_rating_4[(non_free_have_ad_rating_4[\"Price\"] >= 10.0)\n",
    "                                                    & (non_free_have_ad_rating_4[\"Price\"] < 50.0)])\n",
    "price_[\"50 - 100\"] = len(non_free_have_ad_rating_4[(non_free_have_ad_rating_4[\"Price\"] >= 50.0)\n",
    "                                                    & (non_free_have_ad_rating_4[\"Price\"] < 100.0)])  \n",
    "price_[\"100 - 150\"] = len(non_free_have_ad_rating_4[(non_free_have_ad_rating_4[\"Price\"] >= 100.0)\n",
    "                                                    & (non_free_have_ad_rating_4[\"Price\"] < 150.0)])\n",
    "price_[\"150 - 200\"] = len(non_free_have_ad_rating_4[(non_free_have_ad_rating_4[\"Price\"] >= 150.0)\n",
    "                                                    & (non_free_have_ad_rating_4[\"Price\"] < 200.0)])\n",
    "price_[\"200 - 250\"] = len(non_free_have_ad_rating_4[(non_free_have_ad_rating_4[\"Price\"] >= 200.0)\n",
    "                                                    & (non_free_have_ad_rating_4[\"Price\"] < 250.0)])\n",
    "price_[\"250 - 300\"] = len(non_free_have_ad_rating_4[(non_free_have_ad_rating_4[\"Price\"] >= 250.0)\n",
    "                                                    & (non_free_have_ad_rating_4[\"Price\"] < 300.0)])\n",
    "price_[\">= 300\"] = len(non_free_have_ad_rating_4[non_free_have_ad_rating_4[\"Price\"] >= 300.0])  "
   ]
  },
  {
   "cell_type": "code",
   "execution_count": 61,
   "id": "4bbe99d4",
   "metadata": {},
   "outputs": [
    {
     "data": {
      "image/png": "[encoded data removed]",
      "text/plain": [
       "<Figure size 720x720 with 1 Axes>"
      ]
     },
     "metadata": {
      "needs_background": "light"
     },
     "output_type": "display_data"
    }
   ],
   "source": [
    "f = plt.figure()\n",
    "f.set_figwidth(10)\n",
    "f.set_figheight(10)\n",
    "plt.bar(range(len(price_)), list(price_.values()), align='center')\n",
    "plt.xticks(range(len(price_)), list(price_.keys()))\n",
    "plt.show()"
   ]
  },
  {
   "cell_type": "markdown",
   "id": "22fd106e",
   "metadata": {},
   "source": [
    "Đánh giá biểu đồ:\n",
    "- Có thể thấy lượng app trả phí có chứa quảng cáo tập trung vào mức giá < 50 đô và rất ít hoặc không có trong các app > 50 đô.\n",
    "- Mức giá từ 1 đến 10 đô có số lượng các app nhiều nhất.\n",
    "- Mức giá bé hơn 1 đô có số lượng các app nhiều thứ hai.\n",
    "- Như vậy, với các app có phí, vẫn có thể gắn quảng cáo, nhưng mức phí chỉ nên từ 10 đô trở xuống, giá cao mà vẫn có quảng cáo người dùng có thể không hài lòng và với ứng dụng có giá cao, việc gắn quảng cáo cũng là không cần thiết vì mức thu từ quảng cáo có thể không là bao so với phí ứng dụng."
   ]
  },
  {
   "cell_type": "markdown",
   "id": "38128231",
   "metadata": {},
   "source": [
    "---"
   ]
  },
  {
   "cell_type": "markdown",
   "id": "28f71822",
   "metadata": {},
   "source": [
    "# Nhìn lại quá trình làm đồ án"
   ]
  },
  {
   "cell_type": "markdown",
   "id": "3ec152cc",
   "metadata": {},
   "source": [
    "## Hân:"
   ]
  },
  {
   "cell_type": "markdown",
   "id": "b2220f84",
   "metadata": {},
   "source": [
    "**1. Khó khăn:**\n",
    "- Gặp nhiều vấn đề trong việc upload file lên github thông qua git.\n",
    "- Khó khăn trong việc tiền xử lí, phải tìm các cột, các giá trị bất hợp lí để xử lí mà không phải lúc nào cũng dễ dàng nhận ra được.\n",
    "- Đặt câu hỏi có ý nghĩa để trả lời.\n",
    "\n",
    "**2. Những điều đã học được:**\n",
    "- Biết thêm một số trang web cung cấp dữ liệu.\n",
    "- Học được nhiều hơn về python, đặc biệt là pandas.\n",
    "- Suy nghĩ ít lại về việc trả lời câu hỏi thế nào trong lúc đặt câu hỏi khiến cho câu hỏi."
   ]
  },
  {
   "cell_type": "markdown",
   "id": "0128a953",
   "metadata": {},
   "source": [
    "## Lam:"
   ]
  },
  {
   "cell_type": "markdown",
   "id": "a143d6c6",
   "metadata": {},
   "source": [
    "**1. Những khó khăn gặp phải:**\n",
    "- Gặp vấn đề rất nhiều trong việc upload github, do còn mới với việc phải upload file bằng code\n",
    "- Tìm hiểu Regular expression để tách số khá khó khăn, và đoạn code regex trong bài còn mang tính 'học vẹt'\n",
    "- Suy nghĩ câu hỏi sao cho không quá đơn giản và không quá phức tạp mất khá nhiều thời gian\n",
    "- Mắc kẹt khá nhiều trong việc tìm các trả lời câu hỏi của mình do có quá nhiều ý\n",
    "\n",
    "**2. Những điều đã học được:**\n",
    "- Khi đặt câu hỏi, với bộ dữ liệu lớn, đừng tìm cách dự đoán câu trả lời. Hãy cứ đặt câu hỏi và khám phá cho tới khi không thể khám phá ra nữa, đôi lúc ta sẽ thấy một số insights thú vị\n",
    "- Được sử dụng matplotlib để vẽ một số loại biểu đồ chồng mang tính phức tạp hơn\n",
    "- Một lần nữa, hiểu rõ hơn về numpy và pandas, và đạt được mục tiêu không xài bất kì vòng lặp nào trong bài"
   ]
  },
  {
   "cell_type": "markdown",
   "id": "b4e9c3e4",
   "metadata": {},
   "source": [
    "## Cả nhóm:"
   ]
  },
  {
   "cell_type": "markdown",
   "id": "78433210",
   "metadata": {},
   "source": [
    "**Nếu có thêm thời gian, nhóm sẽ:**\n",
    "- Tìm cách để tối ưu được việc làm sạch dữ liệu để tiền xử lý, thay vì đợi đến câu hỏi liên quan mới tiến hành làm sạch dữ liệu ở một số cột lại (Cho bớt phức tạp)\n",
    "- Nghĩ ra một số câu hỏi hay hơn cho bộ dữ liệu bằng cách tận dụng một số cột khá lạ như Editors' choice, Price, hay quen thuộc nhưng nhóm vẫn chưa tận dụng được hết như Ratings\n"
   ]
  }
 ],
 "metadata": {
  "kernelspec": {
   "display_name": "Python 3 (ipykernel)",
   "language": "python",
   "name": "python3"
  },
  "language_info": {
   "codemirror_mode": {
    "name": "ipython",
    "version": 3
   },
   "file_extension": ".py",
   "mimetype": "text/x-python",
   "name": "python",
   "nbconvert_exporter": "python",
   "pygments_lexer": "ipython3",
   "version": "3.8.8"
  }
 },
 "nbformat": 4,
 "nbformat_minor": 5
}
