{
 "cells": [
  {
   "cell_type": "markdown",
   "id": "b7b241b8",
   "metadata": {},
   "source": [
    "# Lập trình KHDL - Đồ án cuối kì"
   ]
  },
  {
   "cell_type": "markdown",
   "id": "4f8c8e22",
   "metadata": {},
   "source": [
    "**Sinh viên thực hiện**\n",
    "\n",
    "|Họ Tên|MSSV|\n",
    "|---|---|\n",
    "|Hoàng Dược Lam|19120267|\n",
    "|Trần Mỹ Hân|19120217|"
   ]
  },
  {
   "cell_type": "markdown",
   "id": "8f105865",
   "metadata": {},
   "source": [
    "# Môi trường sử dụng"
   ]
  },
  {
   "cell_type": "code",
   "execution_count": 1,
   "id": "a3fee81c",
   "metadata": {},
   "outputs": [
    {
     "data": {
      "text/plain": [
       "'/home/han/miniconda3/envs/min_ds-env/bin/python'"
      ]
     },
     "execution_count": 1,
     "metadata": {},
     "output_type": "execute_result"
    }
   ],
   "source": [
    "import sys\n",
    "sys.executable"
   ]
  },
  {
   "cell_type": "markdown",
   "id": "f7d03b26",
   "metadata": {},
   "source": [
    "---"
   ]
  },
  {
   "cell_type": "markdown",
   "id": "e71bda6a",
   "metadata": {},
   "source": [
    "# Import thư viện"
   ]
  },
  {
   "cell_type": "code",
   "execution_count": 2,
   "id": "b54211eb",
   "metadata": {},
   "outputs": [],
   "source": [
    "import numpy as np\n",
    "import pandas as pd\n",
    "import matplotlib.pyplot as plt"
   ]
  },
  {
   "cell_type": "markdown",
   "id": "da2d011a",
   "metadata": {},
   "source": [
    "---"
   ]
  },
  {
   "cell_type": "markdown",
   "id": "70f52ba1",
   "metadata": {},
   "source": [
    "# Thông tin về dữ liệu"
   ]
  },
  {
   "cell_type": "markdown",
   "id": "0255fed3",
   "metadata": {},
   "source": [
    "- Dữ liệu được sử dụng là thống kê về ứng dụng của Google Playstore, bao gồm các thông tin về đánh giá của người dùng về ứng dụng. Nguồn của dữ liệu được lấy từ [kaggle](https://www.kaggle.com/gauthamp10/google-playstore-apps)\n",
    "- Về quyền sử dụng dữ liệu, tác giả cho phép sử dụng dữ liệu dựa trên MIT license, được tải lên repo trên githu. License được cung cấp [ở đây](https://github.com/gauthamp10/Google-Playstore-Dataset/blob/main/LICENSE)\n",
    "- Dữ liệu được thu thập từ Google PlayStore Android App vào tháng 6/2021 bằng Python (Scrapy) chạy trên (instance) VMCloud bởi [Gautham Prakash](https://github.com/gauthamp10)\n"
   ]
  },
  {
   "cell_type": "markdown",
   "id": "11f5748b",
   "metadata": {},
   "source": [
    "---"
   ]
  },
  {
   "cell_type": "markdown",
   "id": "1bbef17d",
   "metadata": {},
   "source": [
    "# Khám phá dữ liệu"
   ]
  },
  {
   "cell_type": "markdown",
   "id": "32aea434",
   "metadata": {},
   "source": [
    "## Đọc dữ liệu từ file csv vào dataframe"
   ]
  },
  {
   "cell_type": "code",
   "execution_count": 3,
   "id": "d340bacc",
   "metadata": {},
   "outputs": [
    {
     "data": {
      "text/html": [
       "<div>\n",
       "<style scoped>\n",
       "    .dataframe tbody tr th:only-of-type {\n",
       "        vertical-align: middle;\n",
       "    }\n",
       "\n",
       "    .dataframe tbody tr th {\n",
       "        vertical-align: top;\n",
       "    }\n",
       "\n",
       "    .dataframe thead th {\n",
       "        text-align: right;\n",
       "    }\n",
       "</style>\n",
       "<table border=\"1\" class=\"dataframe\">\n",
       "  <thead>\n",
       "    <tr style=\"text-align: right;\">\n",
       "      <th></th>\n",
       "      <th>App Name</th>\n",
       "      <th>App Id</th>\n",
       "      <th>Category</th>\n",
       "      <th>Rating</th>\n",
       "      <th>Rating Count</th>\n",
       "      <th>Installs</th>\n",
       "      <th>Minimum Installs</th>\n",
       "      <th>Maximum Installs</th>\n",
       "      <th>Free</th>\n",
       "      <th>Price</th>\n",
       "      <th>...</th>\n",
       "      <th>Developer Website</th>\n",
       "      <th>Developer Email</th>\n",
       "      <th>Released</th>\n",
       "      <th>Last Updated</th>\n",
       "      <th>Content Rating</th>\n",
       "      <th>Privacy Policy</th>\n",
       "      <th>Ad Supported</th>\n",
       "      <th>In App Purchases</th>\n",
       "      <th>Editors Choice</th>\n",
       "      <th>Scraped Time</th>\n",
       "    </tr>\n",
       "  </thead>\n",
       "  <tbody>\n",
       "    <tr>\n",
       "      <th>0</th>\n",
       "      <td>Gakondo</td>\n",
       "      <td>com.ishakwe.gakondo</td>\n",
       "      <td>Adventure</td>\n",
       "      <td>0.0</td>\n",
       "      <td>0.0</td>\n",
       "      <td>10+</td>\n",
       "      <td>10.0</td>\n",
       "      <td>15</td>\n",
       "      <td>True</td>\n",
       "      <td>0.0</td>\n",
       "      <td>...</td>\n",
       "      <td>https://beniyizibyose.tk/#/</td>\n",
       "      <td>jean21101999@gmail.com</td>\n",
       "      <td>Feb 26, 2020</td>\n",
       "      <td>Feb 26, 2020</td>\n",
       "      <td>Everyone</td>\n",
       "      <td>https://beniyizibyose.tk/projects/</td>\n",
       "      <td>False</td>\n",
       "      <td>False</td>\n",
       "      <td>False</td>\n",
       "      <td>2021-06-15 20:19:35</td>\n",
       "    </tr>\n",
       "    <tr>\n",
       "      <th>1</th>\n",
       "      <td>Ampere Battery Info</td>\n",
       "      <td>com.webserveis.batteryinfo</td>\n",
       "      <td>Tools</td>\n",
       "      <td>4.4</td>\n",
       "      <td>64.0</td>\n",
       "      <td>5,000+</td>\n",
       "      <td>5000.0</td>\n",
       "      <td>7662</td>\n",
       "      <td>True</td>\n",
       "      <td>0.0</td>\n",
       "      <td>...</td>\n",
       "      <td>https://webserveis.netlify.app/</td>\n",
       "      <td>webserveis@gmail.com</td>\n",
       "      <td>May 21, 2020</td>\n",
       "      <td>May 06, 2021</td>\n",
       "      <td>Everyone</td>\n",
       "      <td>https://dev4phones.wordpress.com/licencia-de-uso/</td>\n",
       "      <td>True</td>\n",
       "      <td>False</td>\n",
       "      <td>False</td>\n",
       "      <td>2021-06-15 20:19:35</td>\n",
       "    </tr>\n",
       "    <tr>\n",
       "      <th>2</th>\n",
       "      <td>Vibook</td>\n",
       "      <td>com.doantiepvien.crm</td>\n",
       "      <td>Productivity</td>\n",
       "      <td>0.0</td>\n",
       "      <td>0.0</td>\n",
       "      <td>50+</td>\n",
       "      <td>50.0</td>\n",
       "      <td>58</td>\n",
       "      <td>True</td>\n",
       "      <td>0.0</td>\n",
       "      <td>...</td>\n",
       "      <td>NaN</td>\n",
       "      <td>vnacrewit@gmail.com</td>\n",
       "      <td>Aug 9, 2019</td>\n",
       "      <td>Aug 19, 2019</td>\n",
       "      <td>Everyone</td>\n",
       "      <td>https://www.vietnamairlines.com/vn/en/terms-an...</td>\n",
       "      <td>False</td>\n",
       "      <td>False</td>\n",
       "      <td>False</td>\n",
       "      <td>2021-06-15 20:19:35</td>\n",
       "    </tr>\n",
       "    <tr>\n",
       "      <th>3</th>\n",
       "      <td>Smart City Trichy Public Service Vehicles 17UC...</td>\n",
       "      <td>cst.stJoseph.ug17ucs548</td>\n",
       "      <td>Communication</td>\n",
       "      <td>5.0</td>\n",
       "      <td>5.0</td>\n",
       "      <td>10+</td>\n",
       "      <td>10.0</td>\n",
       "      <td>19</td>\n",
       "      <td>True</td>\n",
       "      <td>0.0</td>\n",
       "      <td>...</td>\n",
       "      <td>http://www.climatesmarttech.com/</td>\n",
       "      <td>climatesmarttech2@gmail.com</td>\n",
       "      <td>Sep 10, 2018</td>\n",
       "      <td>Oct 13, 2018</td>\n",
       "      <td>Everyone</td>\n",
       "      <td>NaN</td>\n",
       "      <td>True</td>\n",
       "      <td>False</td>\n",
       "      <td>False</td>\n",
       "      <td>2021-06-15 20:19:35</td>\n",
       "    </tr>\n",
       "    <tr>\n",
       "      <th>4</th>\n",
       "      <td>GROW.me</td>\n",
       "      <td>com.horodyski.grower</td>\n",
       "      <td>Tools</td>\n",
       "      <td>0.0</td>\n",
       "      <td>0.0</td>\n",
       "      <td>100+</td>\n",
       "      <td>100.0</td>\n",
       "      <td>478</td>\n",
       "      <td>True</td>\n",
       "      <td>0.0</td>\n",
       "      <td>...</td>\n",
       "      <td>http://www.horodyski.com.pl</td>\n",
       "      <td>rmilekhorodyski@gmail.com</td>\n",
       "      <td>Feb 21, 2020</td>\n",
       "      <td>Nov 12, 2018</td>\n",
       "      <td>Everyone</td>\n",
       "      <td>http://www.horodyski.com.pl</td>\n",
       "      <td>False</td>\n",
       "      <td>False</td>\n",
       "      <td>False</td>\n",
       "      <td>2021-06-15 20:19:35</td>\n",
       "    </tr>\n",
       "  </tbody>\n",
       "</table>\n",
       "<p>5 rows × 24 columns</p>\n",
       "</div>"
      ],
      "text/plain": [
       "                                            App Name  \\\n",
       "0                                            Gakondo   \n",
       "1                                Ampere Battery Info   \n",
       "2                                             Vibook   \n",
       "3  Smart City Trichy Public Service Vehicles 17UC...   \n",
       "4                                            GROW.me   \n",
       "\n",
       "                       App Id       Category  Rating  Rating Count Installs  \\\n",
       "0         com.ishakwe.gakondo      Adventure     0.0           0.0      10+   \n",
       "1  com.webserveis.batteryinfo          Tools     4.4          64.0   5,000+   \n",
       "2        com.doantiepvien.crm   Productivity     0.0           0.0      50+   \n",
       "3     cst.stJoseph.ug17ucs548  Communication     5.0           5.0      10+   \n",
       "4        com.horodyski.grower          Tools     0.0           0.0     100+   \n",
       "\n",
       "   Minimum Installs  Maximum Installs  Free  Price  ...  \\\n",
       "0              10.0                15  True    0.0  ...   \n",
       "1            5000.0              7662  True    0.0  ...   \n",
       "2              50.0                58  True    0.0  ...   \n",
       "3              10.0                19  True    0.0  ...   \n",
       "4             100.0               478  True    0.0  ...   \n",
       "\n",
       "                  Developer Website              Developer Email  \\\n",
       "0       https://beniyizibyose.tk/#/       jean21101999@gmail.com   \n",
       "1   https://webserveis.netlify.app/         webserveis@gmail.com   \n",
       "2                               NaN          vnacrewit@gmail.com   \n",
       "3  http://www.climatesmarttech.com/  climatesmarttech2@gmail.com   \n",
       "4       http://www.horodyski.com.pl    rmilekhorodyski@gmail.com   \n",
       "\n",
       "       Released  Last Updated Content Rating  \\\n",
       "0  Feb 26, 2020  Feb 26, 2020       Everyone   \n",
       "1  May 21, 2020  May 06, 2021       Everyone   \n",
       "2   Aug 9, 2019  Aug 19, 2019       Everyone   \n",
       "3  Sep 10, 2018  Oct 13, 2018       Everyone   \n",
       "4  Feb 21, 2020  Nov 12, 2018       Everyone   \n",
       "\n",
       "                                      Privacy Policy Ad Supported  \\\n",
       "0                 https://beniyizibyose.tk/projects/        False   \n",
       "1  https://dev4phones.wordpress.com/licencia-de-uso/         True   \n",
       "2  https://www.vietnamairlines.com/vn/en/terms-an...        False   \n",
       "3                                                NaN         True   \n",
       "4                        http://www.horodyski.com.pl        False   \n",
       "\n",
       "  In App Purchases Editors Choice         Scraped Time  \n",
       "0            False          False  2021-06-15 20:19:35  \n",
       "1            False          False  2021-06-15 20:19:35  \n",
       "2            False          False  2021-06-15 20:19:35  \n",
       "3            False          False  2021-06-15 20:19:35  \n",
       "4            False          False  2021-06-15 20:19:35  \n",
       "\n",
       "[5 rows x 24 columns]"
      ]
     },
     "execution_count": 3,
     "metadata": {},
     "output_type": "execute_result"
    }
   ],
   "source": [
    "df = pd.read_csv('Google-Playstore.csv')\n",
    "df.head()"
   ]
  },
  {
   "cell_type": "markdown",
   "id": "ef68208a",
   "metadata": {},
   "source": [
    "## Dữ liệu gồm có bao nhiêu dòng và bao nhiêu cột?"
   ]
  },
  {
   "cell_type": "code",
   "execution_count": 4,
   "id": "d0eb5199",
   "metadata": {},
   "outputs": [
    {
     "name": "stdout",
     "output_type": "stream",
     "text": [
      "Có 2312944 dòng và 24 cột\n"
     ]
    }
   ],
   "source": [
    "num_rows = len(df)\n",
    "num_cols = len(df.columns)\n",
    "print(f'Có {num_rows} dòng và {num_cols} cột')"
   ]
  },
  {
   "cell_type": "markdown",
   "id": "1f09117a",
   "metadata": {},
   "source": [
    "## Dữ liệu có các dòng bị lặp không?"
   ]
  },
  {
   "cell_type": "code",
   "execution_count": 5,
   "id": "506f7edd",
   "metadata": {},
   "outputs": [
    {
     "name": "stdout",
     "output_type": "stream",
     "text": [
      "Có 0 dòng bị lặp\n"
     ]
    }
   ],
   "source": [
    "num_duplicated_rows = num_rows - len(df.duplicated(keep='first'))\n",
    "print(f'Có {num_duplicated_rows} dòng bị lặp')"
   ]
  },
  {
   "cell_type": "markdown",
   "id": "3970bf13",
   "metadata": {},
   "source": [
    "## Mỗi dòng và mỗi cột có ý nghĩa gì?"
   ]
  },
  {
   "cell_type": "markdown",
   "id": "2165e88c",
   "metadata": {},
   "source": [
    "Trích và dịch lại theo mô tả trên kaggle:\n",
    "\n",
    "Mỗi dòng chữa dữ liệu của ứng dụng với tổng số trên 600 ngàn gồm 24 thuộc tính sau: \n",
    "- **App Name**: Tên ứng dụng\n",
    "- **App Id**: ID \n",
    "- **Category**: Thể loại\n",
    "- **Rating**: Xếp hạng\n",
    "- **Rating Count**: Số lượt xếp hạng\n",
    "- **Installs**: Số lượt cài đặt (xấp xỉ)\n",
    "- **Minimum Installs**: Số lượt cài đặt thấp nhất\n",
    "- **Maximum Installs**: Số lượt cài đặt cao nhất\n",
    "- **Free**: Ứng dụng có miễn phí hay không\n",
    "- **Price**: Giá tiền\n",
    "- **Currency**: Đơn vị tiền tệ\n",
    "- **Size**: Kích thước\n",
    "- **Minimum Android**: Phiên bản Android hỗ trợ tối thiểu\n",
    "- **Developer Id**: ID của nhà phát triển trong Google Playstore\n",
    "- **Developer Website**: Website của nhà phát triển \n",
    "- **Developer Email**: Email của nhà phát triển\n",
    "- **Released**: Ngày phát hành ứng dụng\n",
    "- **Last Updated**: Ngày cập nhật gần nhất\n",
    "- **Content Rating**: Xếp hạng nội dung\n",
    "- **Privacy Policy**: Chính sách quyền riêng tư từ nhà phát triển\n",
    "- **Ad Supported**: Hỗ trợ quảng cáo trong ứng dụng hay không\n",
    "- **In app purchases**: Hỗ trợ mua hàng trong ứng dụng\n",
    "- **Editor Choice**: Có nằm trong hạng mục \"Editors' choice\" hay không\n",
    "- **Scraped Time**: Thời gian thu thập thông tin ứng dụng"
   ]
  },
  {
   "cell_type": "markdown",
   "id": "a15ed70d",
   "metadata": {},
   "source": [
    "## Mỗi cột hiện đang có kiểu dữ liệu gì? Có cột nào có kiểu dữ liệu chưa phù hợp để có thể xử lý tiếp không?"
   ]
  },
  {
   "cell_type": "code",
   "execution_count": 6,
   "id": "c355a1bc",
   "metadata": {},
   "outputs": [
    {
     "data": {
      "text/plain": [
       "App Name              object\n",
       "App Id                object\n",
       "Category              object\n",
       "Rating               float64\n",
       "Rating Count         float64\n",
       "Installs              object\n",
       "Minimum Installs     float64\n",
       "Maximum Installs       int64\n",
       "Free                    bool\n",
       "Price                float64\n",
       "Currency              object\n",
       "Size                  object\n",
       "Minimum Android       object\n",
       "Developer Id          object\n",
       "Developer Website     object\n",
       "Developer Email       object\n",
       "Released              object\n",
       "Last Updated          object\n",
       "Content Rating        object\n",
       "Privacy Policy        object\n",
       "Ad Supported            bool\n",
       "In App Purchases        bool\n",
       "Editors Choice          bool\n",
       "Scraped Time          object\n",
       "dtype: object"
      ]
     },
     "execution_count": 6,
     "metadata": {},
     "output_type": "execute_result"
    }
   ],
   "source": [
    "df.dtypes"
   ]
  },
  {
   "cell_type": "markdown",
   "id": "8fddad81",
   "metadata": {},
   "source": [
    "- Cột \"Released\", \"Last Updated\", \"Scraped Time\" đang có dtype là `object`, cần chuyển về kiểu `datetime`.\n",
    "- Thay giá trị `NaN` trong các cột \"Rating\", \"Rating Count\", \"Installs\", \"Minimum Installs\" thành 0."
   ]
  },
  {
   "cell_type": "markdown",
   "id": "fb448519",
   "metadata": {},
   "source": [
    "---"
   ]
  },
  {
   "cell_type": "markdown",
   "id": "4e371646",
   "metadata": {},
   "source": [
    "# Tiền xử lý"
   ]
  },
  {
   "cell_type": "markdown",
   "id": "60f91296",
   "metadata": {},
   "source": [
    "## Chuyển dtype của cột \"Released\", \"Last Updated\", \"Scraped Time\" sang datetime "
   ]
  },
  {
   "cell_type": "code",
   "execution_count": 7,
   "id": "74a0b79b",
   "metadata": {},
   "outputs": [
    {
     "data": {
      "text/plain": [
       "App Name                     object\n",
       "App Id                       object\n",
       "Category                     object\n",
       "Rating                      float64\n",
       "Rating Count                float64\n",
       "Installs                     object\n",
       "Minimum Installs            float64\n",
       "Maximum Installs              int64\n",
       "Free                           bool\n",
       "Price                       float64\n",
       "Currency                     object\n",
       "Size                         object\n",
       "Minimum Android              object\n",
       "Developer Id                 object\n",
       "Developer Website            object\n",
       "Developer Email              object\n",
       "Released             datetime64[ns]\n",
       "Last Updated         datetime64[ns]\n",
       "Content Rating               object\n",
       "Privacy Policy               object\n",
       "Ad Supported                   bool\n",
       "In App Purchases               bool\n",
       "Editors Choice                 bool\n",
       "Scraped Time         datetime64[ns]\n",
       "dtype: object"
      ]
     },
     "execution_count": 7,
     "metadata": {},
     "output_type": "execute_result"
    }
   ],
   "source": [
    "df['Released'] = pd.to_datetime(df['Released'], format = '%b %d, %Y')\n",
    "df['Last Updated'] = pd.to_datetime(df['Last Updated'], format = '%b %d, %Y')\n",
    "df['Scraped Time'] = pd.to_datetime(df['Scraped Time'], format = '%Y-%m-%d %X')\n",
    "df.dtypes"
   ]
  },
  {
   "cell_type": "markdown",
   "id": "8bd52178",
   "metadata": {},
   "source": [
    "## Thay giá trị NaN trong các cột \"Rating\", \"Rating Count\", \"Installs\", \"Minimum Installs\" thành 0."
   ]
  },
  {
   "cell_type": "code",
   "execution_count": 8,
   "id": "e31d5280",
   "metadata": {},
   "outputs": [],
   "source": [
    "df['Rating'] = df['Rating'].replace(np.nan, 0)\n",
    "df['Rating Count'] = df['Rating Count'].replace(np.nan, 0)\n",
    "df['Installs'] = df['Installs'].replace(np.nan, 0)\n",
    "df['Minimum Installs'] = df['Minimum Installs'].replace(np.nan, 0)"
   ]
  },
  {
   "cell_type": "markdown",
   "id": "6a1b4047",
   "metadata": {},
   "source": [
    "# Quay lại bước khám phá dữ liệu"
   ]
  },
  {
   "cell_type": "markdown",
   "id": "4330804e",
   "metadata": {},
   "source": [
    "## Các cột có kiểu numeric và categorical,các giá trị được phân bố như thế nào?"
   ]
  },
  {
   "cell_type": "markdown",
   "id": "2c8ab252",
   "metadata": {},
   "source": [
    "### Phân bố giá trị các cột kiểu numeric"
   ]
  },
  {
   "cell_type": "code",
   "execution_count": 9,
   "id": "388dc33a",
   "metadata": {},
   "outputs": [
    {
     "data": {
      "text/html": [
       "<div>\n",
       "<style scoped>\n",
       "    .dataframe tbody tr th:only-of-type {\n",
       "        vertical-align: middle;\n",
       "    }\n",
       "\n",
       "    .dataframe tbody tr th {\n",
       "        vertical-align: top;\n",
       "    }\n",
       "\n",
       "    .dataframe thead th {\n",
       "        text-align: right;\n",
       "    }\n",
       "</style>\n",
       "<table border=\"1\" class=\"dataframe\">\n",
       "  <thead>\n",
       "    <tr style=\"text-align: right;\">\n",
       "      <th></th>\n",
       "      <th>Rating</th>\n",
       "      <th>Rating Count</th>\n",
       "      <th>Minimum Installs</th>\n",
       "      <th>Maximum Installs</th>\n",
       "      <th>Price</th>\n",
       "    </tr>\n",
       "  </thead>\n",
       "  <tbody>\n",
       "    <tr>\n",
       "      <th>count</th>\n",
       "      <td>2312944.000</td>\n",
       "      <td>2312944.000</td>\n",
       "      <td>2312944.000</td>\n",
       "      <td>2312944.000</td>\n",
       "      <td>2312944.000</td>\n",
       "    </tr>\n",
       "    <tr>\n",
       "      <th>mean</th>\n",
       "      <td>2.181</td>\n",
       "      <td>2836.496</td>\n",
       "      <td>183436.728</td>\n",
       "      <td>320201.713</td>\n",
       "      <td>0.103</td>\n",
       "    </tr>\n",
       "    <tr>\n",
       "      <th>std</th>\n",
       "      <td>2.107</td>\n",
       "      <td>211110.642</td>\n",
       "      <td>15131089.106</td>\n",
       "      <td>23554954.887</td>\n",
       "      <td>2.633</td>\n",
       "    </tr>\n",
       "    <tr>\n",
       "      <th>min</th>\n",
       "      <td>0.000</td>\n",
       "      <td>0.000</td>\n",
       "      <td>0.000</td>\n",
       "      <td>0.000</td>\n",
       "      <td>0.000</td>\n",
       "    </tr>\n",
       "    <tr>\n",
       "      <th>25%</th>\n",
       "      <td>0.000</td>\n",
       "      <td>0.000</td>\n",
       "      <td>50.000</td>\n",
       "      <td>84.000</td>\n",
       "      <td>0.000</td>\n",
       "    </tr>\n",
       "    <tr>\n",
       "      <th>50%</th>\n",
       "      <td>2.800</td>\n",
       "      <td>6.000</td>\n",
       "      <td>500.000</td>\n",
       "      <td>695.000</td>\n",
       "      <td>0.000</td>\n",
       "    </tr>\n",
       "    <tr>\n",
       "      <th>75%</th>\n",
       "      <td>4.300</td>\n",
       "      <td>41.000</td>\n",
       "      <td>5000.000</td>\n",
       "      <td>7354.000</td>\n",
       "      <td>0.000</td>\n",
       "    </tr>\n",
       "    <tr>\n",
       "      <th>max</th>\n",
       "      <td>5.000</td>\n",
       "      <td>138557570.000</td>\n",
       "      <td>10000000000.000</td>\n",
       "      <td>12057627016.000</td>\n",
       "      <td>400.000</td>\n",
       "    </tr>\n",
       "  </tbody>\n",
       "</table>\n",
       "</div>"
      ],
      "text/plain": [
       "           Rating  Rating Count  Minimum Installs  Maximum Installs  \\\n",
       "count 2312944.000   2312944.000       2312944.000       2312944.000   \n",
       "mean        2.181      2836.496        183436.728        320201.713   \n",
       "std         2.107    211110.642      15131089.106      23554954.887   \n",
       "min         0.000         0.000             0.000             0.000   \n",
       "25%         0.000         0.000            50.000            84.000   \n",
       "50%         2.800         6.000           500.000           695.000   \n",
       "75%         4.300        41.000          5000.000          7354.000   \n",
       "max         5.000 138557570.000   10000000000.000   12057627016.000   \n",
       "\n",
       "            Price  \n",
       "count 2312944.000  \n",
       "mean        0.103  \n",
       "std         2.633  \n",
       "min         0.000  \n",
       "25%         0.000  \n",
       "50%         0.000  \n",
       "75%         0.000  \n",
       "max       400.000  "
      ]
     },
     "execution_count": 9,
     "metadata": {},
     "output_type": "execute_result"
    }
   ],
   "source": [
    "numeric_cols = df.select_dtypes([np.number]).columns\n",
    "numeric_df = df[numeric_cols]\n",
    "pd.set_option(\"display.float_format\", lambda x: \"%.3f\" % x)\n",
    "numeric_df.describe()"
   ]
  },
  {
   "cell_type": "markdown",
   "id": "a1b1d2dd",
   "metadata": {},
   "source": [
    "Dựa trên phân bố trên:\n",
    "- Theo cột \"Rating\", \"Rating Count\" thì có vẻ như có tận 25% các app không có đánh giá.\n",
    "\n",
    "- Có vẻ như đa phần các app đều free nên phân vị thứ 25, 50, 75 của \"Price\" là 0 (hoặc gần bằng 0)"
   ]
  },
  {
   "cell_type": "markdown",
   "id": "9aa4e875",
   "metadata": {},
   "source": [
    "### Phân bố giá trị các cột kiểu categorical"
   ]
  },
  {
   "cell_type": "code",
   "execution_count": 10,
   "id": "50416cb0",
   "metadata": {},
   "outputs": [
    {
     "data": {
      "text/html": [
       "<div>\n",
       "<style scoped>\n",
       "    .dataframe tbody tr th:only-of-type {\n",
       "        vertical-align: middle;\n",
       "    }\n",
       "\n",
       "    .dataframe tbody tr th {\n",
       "        vertical-align: top;\n",
       "    }\n",
       "\n",
       "    .dataframe thead th {\n",
       "        text-align: right;\n",
       "    }\n",
       "</style>\n",
       "<table border=\"1\" class=\"dataframe\">\n",
       "  <thead>\n",
       "    <tr style=\"text-align: right;\">\n",
       "      <th></th>\n",
       "      <th>App Name</th>\n",
       "      <th>App Id</th>\n",
       "      <th>Category</th>\n",
       "      <th>Installs</th>\n",
       "      <th>Currency</th>\n",
       "      <th>Size</th>\n",
       "      <th>Minimum Android</th>\n",
       "      <th>Developer Id</th>\n",
       "      <th>Developer Website</th>\n",
       "      <th>Developer Email</th>\n",
       "      <th>Content Rating</th>\n",
       "      <th>Privacy Policy</th>\n",
       "    </tr>\n",
       "  </thead>\n",
       "  <tbody>\n",
       "    <tr>\n",
       "      <th>count</th>\n",
       "      <td>2312942</td>\n",
       "      <td>2312944</td>\n",
       "      <td>2312944</td>\n",
       "      <td>2312944</td>\n",
       "      <td>2312809</td>\n",
       "      <td>2312748</td>\n",
       "      <td>2306414</td>\n",
       "      <td>2312911</td>\n",
       "      <td>1552109</td>\n",
       "      <td>2312913</td>\n",
       "      <td>2312944</td>\n",
       "      <td>1891991</td>\n",
       "    </tr>\n",
       "    <tr>\n",
       "      <th>unique</th>\n",
       "      <td>2177944</td>\n",
       "      <td>2312944</td>\n",
       "      <td>48</td>\n",
       "      <td>23</td>\n",
       "      <td>15</td>\n",
       "      <td>1657</td>\n",
       "      <td>154</td>\n",
       "      <td>758371</td>\n",
       "      <td>810440</td>\n",
       "      <td>950456</td>\n",
       "      <td>6</td>\n",
       "      <td>977743</td>\n",
       "    </tr>\n",
       "    <tr>\n",
       "      <th>top</th>\n",
       "      <td>Tic Tac Toe</td>\n",
       "      <td>com.butlon.butlonapp</td>\n",
       "      <td>Education</td>\n",
       "      <td>100+</td>\n",
       "      <td>USD</td>\n",
       "      <td>Varies with device</td>\n",
       "      <td>4.1 and up</td>\n",
       "      <td>Subsplash Inc</td>\n",
       "      <td>http://www.subsplash.com/</td>\n",
       "      <td>support@classplus.co</td>\n",
       "      <td>Everyone</td>\n",
       "      <td>http://www.subsplash.com/legal/privacy</td>\n",
       "    </tr>\n",
       "    <tr>\n",
       "      <th>freq</th>\n",
       "      <td>382</td>\n",
       "      <td>1</td>\n",
       "      <td>241090</td>\n",
       "      <td>443368</td>\n",
       "      <td>2311548</td>\n",
       "      <td>74777</td>\n",
       "      <td>604465</td>\n",
       "      <td>5422</td>\n",
       "      <td>7519</td>\n",
       "      <td>10345</td>\n",
       "      <td>2022089</td>\n",
       "      <td>7481</td>\n",
       "    </tr>\n",
       "  </tbody>\n",
       "</table>\n",
       "</div>"
      ],
      "text/plain": [
       "           App Name                App Id   Category Installs Currency  \\\n",
       "count       2312942               2312944    2312944  2312944  2312809   \n",
       "unique      2177944               2312944         48       23       15   \n",
       "top     Tic Tac Toe  com.butlon.butlonapp  Education     100+      USD   \n",
       "freq            382                     1     241090   443368  2311548   \n",
       "\n",
       "                      Size Minimum Android   Developer Id  \\\n",
       "count              2312748         2306414        2312911   \n",
       "unique                1657             154         758371   \n",
       "top     Varies with device      4.1 and up  Subsplash Inc   \n",
       "freq                 74777          604465           5422   \n",
       "\n",
       "                Developer Website       Developer Email Content Rating  \\\n",
       "count                     1552109               2312913        2312944   \n",
       "unique                     810440                950456              6   \n",
       "top     http://www.subsplash.com/  support@classplus.co       Everyone   \n",
       "freq                         7519                 10345        2022089   \n",
       "\n",
       "                                Privacy Policy  \n",
       "count                                  1891991  \n",
       "unique                                  977743  \n",
       "top     http://www.subsplash.com/legal/privacy  \n",
       "freq                                      7481  "
      ]
     },
     "execution_count": 10,
     "metadata": {},
     "output_type": "execute_result"
    }
   ],
   "source": [
    "categorical_cols = df.select_dtypes([object]).columns\n",
    "categorical_df = df[categorical_cols]\n",
    "categorical_df.describe()"
   ]
  },
  {
   "cell_type": "markdown",
   "id": "471b2416",
   "metadata": {},
   "source": [
    "---"
   ]
  },
  {
   "cell_type": "markdown",
   "id": "56692701",
   "metadata": {},
   "source": [
    "# Đặt câu hỏi"
   ]
  },
  {
   "cell_type": "markdown",
   "id": "b3e225d1",
   "metadata": {},
   "source": [
    "---"
   ]
  },
  {
   "cell_type": "markdown",
   "id": "704c19e1",
   "metadata": {},
   "source": [
    "# Trả lời câu hỏi"
   ]
  }
 ],
 "metadata": {
  "kernelspec": {
   "display_name": "Python 3 (ipykernel)",
   "language": "python",
   "name": "python3"
  },
  "language_info": {
   "codemirror_mode": {
    "name": "ipython",
    "version": 3
   },
   "file_extension": ".py",
   "mimetype": "text/x-python",
   "name": "python",
   "nbconvert_exporter": "python",
   "pygments_lexer": "ipython3",
   "version": "3.8.8"
  }
 },
 "nbformat": 4,
 "nbformat_minor": 5
}
