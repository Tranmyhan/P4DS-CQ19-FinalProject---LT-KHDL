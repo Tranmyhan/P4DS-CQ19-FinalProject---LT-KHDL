{
 "cells": [
  {
   "cell_type": "markdown",
   "id": "5c101212",
   "metadata": {},
   "source": [
    "# Lập trình KHDL - Đồ án cuối kì"
   ]
  },
  {
   "cell_type": "markdown",
   "id": "e3bd7848",
   "metadata": {},
   "source": [
    "**Sinh viên thực hiện**\n",
    "\n",
    "|Họ Tên|MSSV|\n",
    "|---|---|\n",
    "|Hoàng Dược Lam|19120267|\n",
    "|Trần Mỹ Hân|19120217|"
   ]
  },
  {
   "cell_type": "markdown",
   "id": "8f105865",
   "metadata": {},
   "source": [
    "# Môi trường sử dụng"
   ]
  },
  {
   "cell_type": "code",
   "execution_count": 20,
   "id": "8dce6b58",
   "metadata": {},
   "outputs": [
    {
     "data": {
      "text/plain": [
       "'D:\\\\Anaconda\\\\envs\\\\min_ds-env\\\\python.exe'"
      ]
     },
     "execution_count": 20,
     "metadata": {},
     "output_type": "execute_result"
    }
   ],
   "source": [
    "import sys\n",
    "sys.executable"
   ]
  },
  {
   "cell_type": "markdown",
   "id": "f7d03b26",
   "metadata": {},
   "source": [
    "---"
   ]
  },
  {
   "cell_type": "markdown",
   "id": "e71bda6a",
   "metadata": {},
   "source": [
    "# Import thư viện"
   ]
  },
  {
   "cell_type": "code",
   "execution_count": 21,
   "id": "482a35b7",
   "metadata": {},
   "outputs": [],
   "source": [
    "import numpy as np\n",
    "import pandas as pd\n",
    "import matplotlib.pyplot as plt"
   ]
  },
  {
   "cell_type": "markdown",
   "id": "da2d011a",
   "metadata": {},
   "source": [
    "---"
   ]
  },
  {
   "cell_type": "markdown",
   "id": "70f52ba1",
   "metadata": {},
   "source": [
    "# Thông tin về dữ liệu"
   ]
  },
  {
   "cell_type": "markdown",
   "id": "edd2d2e7",
   "metadata": {},
   "source": [
    "- Dữ liệu được sử dụng là thống kê về ứng dụng của Google Playstore, bao gồm các thông tin về đánh giá của người dùng về ứng dụng. Nguồn của dữ liệu được lấy từ [kaggle](https://www.kaggle.com/gauthamp10/google-playstore-apps)\n",
    "- License được cung cấp [ở đây](https://github.com/gauthamp10/Google-Playstore-Dataset/blob/main/LICENSE)\n",
    "- Dữ liệu được thu thập từ Google PlayStore Android App vào tháng 6/2021 bằng Python (Scrapy) chạy trên (instance) VMCloud bởi [Gautham Prakash](https://github.com/gauthamp10)\n"
   ]
  },
  {
   "cell_type": "markdown",
   "id": "11f5748b",
   "metadata": {},
   "source": [
    "---"
   ]
  },
  {
   "cell_type": "markdown",
   "id": "1bbef17d",
   "metadata": {},
   "source": [
    "# Khám phá dữ liệu"
   ]
  },
  {
   "cell_type": "markdown",
   "id": "aa368acc",
   "metadata": {},
   "source": [
    "## Đọc dữ liệu từ file csv vào dataframe"
   ]
  },
  {
   "cell_type": "code",
   "execution_count": 22,
   "id": "84eb2d74",
   "metadata": {
    "scrolled": false
   },
   "outputs": [
    {
     "data": {
      "text/html": [
       "<div>\n",
       "<style scoped>\n",
       "    .dataframe tbody tr th:only-of-type {\n",
       "        vertical-align: middle;\n",
       "    }\n",
       "\n",
       "    .dataframe tbody tr th {\n",
       "        vertical-align: top;\n",
       "    }\n",
       "\n",
       "    .dataframe thead th {\n",
       "        text-align: right;\n",
       "    }\n",
       "</style>\n",
       "<table border=\"1\" class=\"dataframe\">\n",
       "  <thead>\n",
       "    <tr style=\"text-align: right;\">\n",
       "      <th></th>\n",
       "      <th>App Name</th>\n",
       "      <th>App Id</th>\n",
       "      <th>Category</th>\n",
       "      <th>Rating</th>\n",
       "      <th>Rating Count</th>\n",
       "      <th>Installs</th>\n",
       "      <th>Minimum Installs</th>\n",
       "      <th>Maximum Installs</th>\n",
       "      <th>Free</th>\n",
       "      <th>Price</th>\n",
       "      <th>...</th>\n",
       "      <th>Developer Website</th>\n",
       "      <th>Developer Email</th>\n",
       "      <th>Released</th>\n",
       "      <th>Last Updated</th>\n",
       "      <th>Content Rating</th>\n",
       "      <th>Privacy Policy</th>\n",
       "      <th>Ad Supported</th>\n",
       "      <th>In App Purchases</th>\n",
       "      <th>Editors Choice</th>\n",
       "      <th>Scraped Time</th>\n",
       "    </tr>\n",
       "  </thead>\n",
       "  <tbody>\n",
       "    <tr>\n",
       "      <th>0</th>\n",
       "      <td>Gakondo</td>\n",
       "      <td>com.ishakwe.gakondo</td>\n",
       "      <td>Adventure</td>\n",
       "      <td>0.00</td>\n",
       "      <td>0.00</td>\n",
       "      <td>10+</td>\n",
       "      <td>10.00</td>\n",
       "      <td>15</td>\n",
       "      <td>True</td>\n",
       "      <td>0.00</td>\n",
       "      <td>...</td>\n",
       "      <td>https://beniyizibyose.tk/#/</td>\n",
       "      <td>jean21101999@gmail.com</td>\n",
       "      <td>Feb 26, 2020</td>\n",
       "      <td>Feb 26, 2020</td>\n",
       "      <td>Everyone</td>\n",
       "      <td>https://beniyizibyose.tk/projects/</td>\n",
       "      <td>False</td>\n",
       "      <td>False</td>\n",
       "      <td>False</td>\n",
       "      <td>2021-06-15 20:19:35</td>\n",
       "    </tr>\n",
       "    <tr>\n",
       "      <th>1</th>\n",
       "      <td>Ampere Battery Info</td>\n",
       "      <td>com.webserveis.batteryinfo</td>\n",
       "      <td>Tools</td>\n",
       "      <td>4.40</td>\n",
       "      <td>64.00</td>\n",
       "      <td>5,000+</td>\n",
       "      <td>5000.00</td>\n",
       "      <td>7662</td>\n",
       "      <td>True</td>\n",
       "      <td>0.00</td>\n",
       "      <td>...</td>\n",
       "      <td>https://webserveis.netlify.app/</td>\n",
       "      <td>webserveis@gmail.com</td>\n",
       "      <td>May 21, 2020</td>\n",
       "      <td>May 06, 2021</td>\n",
       "      <td>Everyone</td>\n",
       "      <td>https://dev4phones.wordpress.com/licencia-de-uso/</td>\n",
       "      <td>True</td>\n",
       "      <td>False</td>\n",
       "      <td>False</td>\n",
       "      <td>2021-06-15 20:19:35</td>\n",
       "    </tr>\n",
       "    <tr>\n",
       "      <th>2</th>\n",
       "      <td>Vibook</td>\n",
       "      <td>com.doantiepvien.crm</td>\n",
       "      <td>Productivity</td>\n",
       "      <td>0.00</td>\n",
       "      <td>0.00</td>\n",
       "      <td>50+</td>\n",
       "      <td>50.00</td>\n",
       "      <td>58</td>\n",
       "      <td>True</td>\n",
       "      <td>0.00</td>\n",
       "      <td>...</td>\n",
       "      <td>NaN</td>\n",
       "      <td>vnacrewit@gmail.com</td>\n",
       "      <td>Aug 9, 2019</td>\n",
       "      <td>Aug 19, 2019</td>\n",
       "      <td>Everyone</td>\n",
       "      <td>https://www.vietnamairlines.com/vn/en/terms-an...</td>\n",
       "      <td>False</td>\n",
       "      <td>False</td>\n",
       "      <td>False</td>\n",
       "      <td>2021-06-15 20:19:35</td>\n",
       "    </tr>\n",
       "    <tr>\n",
       "      <th>3</th>\n",
       "      <td>Smart City Trichy Public Service Vehicles 17UC...</td>\n",
       "      <td>cst.stJoseph.ug17ucs548</td>\n",
       "      <td>Communication</td>\n",
       "      <td>5.00</td>\n",
       "      <td>5.00</td>\n",
       "      <td>10+</td>\n",
       "      <td>10.00</td>\n",
       "      <td>19</td>\n",
       "      <td>True</td>\n",
       "      <td>0.00</td>\n",
       "      <td>...</td>\n",
       "      <td>http://www.climatesmarttech.com/</td>\n",
       "      <td>climatesmarttech2@gmail.com</td>\n",
       "      <td>Sep 10, 2018</td>\n",
       "      <td>Oct 13, 2018</td>\n",
       "      <td>Everyone</td>\n",
       "      <td>NaN</td>\n",
       "      <td>True</td>\n",
       "      <td>False</td>\n",
       "      <td>False</td>\n",
       "      <td>2021-06-15 20:19:35</td>\n",
       "    </tr>\n",
       "    <tr>\n",
       "      <th>4</th>\n",
       "      <td>GROW.me</td>\n",
       "      <td>com.horodyski.grower</td>\n",
       "      <td>Tools</td>\n",
       "      <td>0.00</td>\n",
       "      <td>0.00</td>\n",
       "      <td>100+</td>\n",
       "      <td>100.00</td>\n",
       "      <td>478</td>\n",
       "      <td>True</td>\n",
       "      <td>0.00</td>\n",
       "      <td>...</td>\n",
       "      <td>http://www.horodyski.com.pl</td>\n",
       "      <td>rmilekhorodyski@gmail.com</td>\n",
       "      <td>Feb 21, 2020</td>\n",
       "      <td>Nov 12, 2018</td>\n",
       "      <td>Everyone</td>\n",
       "      <td>http://www.horodyski.com.pl</td>\n",
       "      <td>False</td>\n",
       "      <td>False</td>\n",
       "      <td>False</td>\n",
       "      <td>2021-06-15 20:19:35</td>\n",
       "    </tr>\n",
       "  </tbody>\n",
       "</table>\n",
       "<p>5 rows × 24 columns</p>\n",
       "</div>"
      ],
      "text/plain": [
       "                                            App Name  \\\n",
       "0                                            Gakondo   \n",
       "1                                Ampere Battery Info   \n",
       "2                                             Vibook   \n",
       "3  Smart City Trichy Public Service Vehicles 17UC...   \n",
       "4                                            GROW.me   \n",
       "\n",
       "                       App Id       Category  Rating  Rating Count Installs  \\\n",
       "0         com.ishakwe.gakondo      Adventure    0.00          0.00      10+   \n",
       "1  com.webserveis.batteryinfo          Tools    4.40         64.00   5,000+   \n",
       "2        com.doantiepvien.crm   Productivity    0.00          0.00      50+   \n",
       "3     cst.stJoseph.ug17ucs548  Communication    5.00          5.00      10+   \n",
       "4        com.horodyski.grower          Tools    0.00          0.00     100+   \n",
       "\n",
       "   Minimum Installs  Maximum Installs  Free  Price  ...  \\\n",
       "0             10.00                15  True   0.00  ...   \n",
       "1           5000.00              7662  True   0.00  ...   \n",
       "2             50.00                58  True   0.00  ...   \n",
       "3             10.00                19  True   0.00  ...   \n",
       "4            100.00               478  True   0.00  ...   \n",
       "\n",
       "                  Developer Website              Developer Email  \\\n",
       "0       https://beniyizibyose.tk/#/       jean21101999@gmail.com   \n",
       "1   https://webserveis.netlify.app/         webserveis@gmail.com   \n",
       "2                               NaN          vnacrewit@gmail.com   \n",
       "3  http://www.climatesmarttech.com/  climatesmarttech2@gmail.com   \n",
       "4       http://www.horodyski.com.pl    rmilekhorodyski@gmail.com   \n",
       "\n",
       "       Released  Last Updated Content Rating  \\\n",
       "0  Feb 26, 2020  Feb 26, 2020       Everyone   \n",
       "1  May 21, 2020  May 06, 2021       Everyone   \n",
       "2   Aug 9, 2019  Aug 19, 2019       Everyone   \n",
       "3  Sep 10, 2018  Oct 13, 2018       Everyone   \n",
       "4  Feb 21, 2020  Nov 12, 2018       Everyone   \n",
       "\n",
       "                                      Privacy Policy Ad Supported  \\\n",
       "0                 https://beniyizibyose.tk/projects/        False   \n",
       "1  https://dev4phones.wordpress.com/licencia-de-uso/         True   \n",
       "2  https://www.vietnamairlines.com/vn/en/terms-an...        False   \n",
       "3                                                NaN         True   \n",
       "4                        http://www.horodyski.com.pl        False   \n",
       "\n",
       "  In App Purchases Editors Choice         Scraped Time  \n",
       "0            False          False  2021-06-15 20:19:35  \n",
       "1            False          False  2021-06-15 20:19:35  \n",
       "2            False          False  2021-06-15 20:19:35  \n",
       "3            False          False  2021-06-15 20:19:35  \n",
       "4            False          False  2021-06-15 20:19:35  \n",
       "\n",
       "[5 rows x 24 columns]"
      ]
     },
     "execution_count": 22,
     "metadata": {},
     "output_type": "execute_result"
    }
   ],
   "source": [
    "df = pd.read_csv('Google-Playstore.csv')\n",
    "df.head()"
   ]
  },
  {
   "cell_type": "markdown",
   "id": "8b8468db",
   "metadata": {},
   "source": [
    "## Dữ liệu gồm có bao nhiêu dòng và bao nhiêu cột?"
   ]
  },
  {
   "cell_type": "code",
   "execution_count": 23,
   "id": "e10eb9f5",
   "metadata": {},
   "outputs": [
    {
     "name": "stdout",
     "output_type": "stream",
     "text": [
      "Có 2312944 dòng và 24 cột\n"
     ]
    }
   ],
   "source": [
    "num_rows = len(df)\n",
    "num_cols = len(df.columns)\n",
    "print(f'Có {num_rows} dòng và {num_cols} cột')"
   ]
  },
  {
   "cell_type": "markdown",
   "id": "f6c9c4ca",
   "metadata": {},
   "source": [
    "## Dữ liệu mỗi dòng có bị lặp không?"
   ]
  },
  {
   "cell_type": "code",
   "execution_count": 24,
   "id": "4c25e033",
   "metadata": {},
   "outputs": [
    {
     "name": "stdout",
     "output_type": "stream",
     "text": [
      "Có 0 dòng bị lặp\n"
     ]
    }
   ],
   "source": [
    "num_duplicated_rows = num_rows - len(df.duplicated(keep='first'))\n",
    "print(f'Có {num_duplicated_rows} dòng bị lặp')"
   ]
  },
  {
   "cell_type": "markdown",
   "id": "8741b471",
   "metadata": {},
   "source": [
    "## Mỗi dòng và mỗi cột có ý nghĩa gì?"
   ]
  },
  {
   "cell_type": "markdown",
   "id": "cc1b5575",
   "metadata": {},
   "source": [
    "Trích và dịch lại theo mô tả trên kaggle:\n",
    "\n",
    "Mỗi dòng chữa dữ liệu của ứng dụng với tổng số trên 600 ngàn gồm 24 thuộc tính sau: \n",
    "(Theo mô tả thì đây là dữ liệu các app trên Google Playstore, mỗi dòng là thông tin của một app, không có dòng có ý nghĩa khác.)\n",
    "- **App Name**: Tên ứng dụng\n",
    "- **App Id**: ID \n",
    "- **Category**: Thể loại\n",
    "- **Rating**: Xếp hạng\n",
    "- **Rating Count**: Số lượt xếp hạng\n",
    "- **Installs**: Số lượt cài đặt (xấp xỉ)\n",
    "- **Minimum Installs**: Số lượt cài đặt thấp nhất\n",
    "- **Maximum Installs**: Số lượt cài đặt cao nhất\n",
    "- **Free**: Ứng dụng có miễn phí hay không\n",
    "- **Price**: Giá tiền\n",
    "- **Currency**: Đơn vị tiền tệ\n",
    "- **Size**: Kích thước\n",
    "- **Minimum Android**: Phiên bản Android hỗ trợ tối thiểu\n",
    "- **Developer Id**: ID của nhà phát triển trong Google Playstore\n",
    "- **Developer Website**: Website của nhà phát triển \n",
    "- **Developer Email**: Email của nhà phát triển\n",
    "- **Released**: Ngày phát hành ứng dụng\n",
    "- **Last Updated**: Ngày cập nhật gần nhất\n",
    "- **Content Rating**: Xếp hạng nội dung\n",
    "- **Privacy Policy**: Chính sách quyền riêng tư từ nhà phát triển\n",
    "- **Ad Supported**: Hỗ trợ quảng cáo trong ứng dụng hay không\n",
    "- **In app purchases**: Hỗ trợ mua hàng trong ứng dụng\n",
    "- **Editor Choice**: Có nằm trong hạng mục \"Editors' choice\" hay không\n",
    "- **Scraped Time**: Thời gian thu thập thông tin ứng dụng"
   ]
  },
  {
   "cell_type": "markdown",
   "id": "828bb3ff",
   "metadata": {},
   "source": [
    "## Kiểu dữ liệu mỗi cột"
   ]
  },
  {
   "cell_type": "code",
   "execution_count": 25,
   "id": "cf2ad4aa",
   "metadata": {},
   "outputs": [
    {
     "data": {
      "text/plain": [
       "App Name              object\n",
       "App Id                object\n",
       "Category              object\n",
       "Rating               float64\n",
       "Rating Count         float64\n",
       "Installs              object\n",
       "Minimum Installs     float64\n",
       "Maximum Installs       int64\n",
       "Free                    bool\n",
       "Price                float64\n",
       "Currency              object\n",
       "Size                  object\n",
       "Minimum Android       object\n",
       "Developer Id          object\n",
       "Developer Website     object\n",
       "Developer Email       object\n",
       "Released              object\n",
       "Last Updated          object\n",
       "Content Rating        object\n",
       "Privacy Policy        object\n",
       "Ad Supported            bool\n",
       "In App Purchases        bool\n",
       "Editors Choice          bool\n",
       "Scraped Time          object\n",
       "dtype: object"
      ]
     },
     "execution_count": 25,
     "metadata": {},
     "output_type": "execute_result"
    }
   ],
   "source": [
    "df.dtypes"
   ]
  },
  {
   "cell_type": "markdown",
   "id": "4e00a098",
   "metadata": {},
   "source": [
    "**Các vấn đề nhận thấy**:\n",
    "- Thay giá trị `NaN` trong các cột \"Rating\", \"Rating Count\", \"Minimum Installs\" thành giá trị nào đó hợp lý.\n",
    "- 'Minimum Installs' và 'Rating Count' có dạng `float64`. Ta cần chuyển cột về dạng `int64`\n",
    "- 'Install' được giải thích là lượt tải xấp xỉ, là một số kèm dấu '+' (VD: 500+) nên được để dạng object. Vì đã có 'Minimum Installs' chính là phần số trong 'Install', nên ta có thể bỏ cột 'Install'\n",
    "- 'Size' là kích thước của ứng dụng, nhưng có kèm đơn vị đằng sau (k - Kb, M - Mb, G - Gb), nên về sau nếu có phần đặt câu hỏi liên quan đến cột này, có thể ta sẽ cần phải chuyển đổi về 1 đơn vị chuẩn, và bỏ đi 1 số giá trị chưa phù hợp\n",
    "- Các cột 'Released', 'Last Updated', 'Scraped Time' đang có dạng `object`. Ta cần chuyển về`datetime`"
   ]
  },
  {
   "cell_type": "markdown",
   "id": "400f3e53",
   "metadata": {},
   "source": [
    "## Tỷ lệ các giá trị thiếu"
   ]
  },
  {
   "cell_type": "code",
   "execution_count": 26,
   "id": "9ca529a9",
   "metadata": {},
   "outputs": [],
   "source": [
    "def missing_ratio(s):\n",
    "    return s.isnull().mean() * 100"
   ]
  },
  {
   "cell_type": "code",
   "execution_count": 27,
   "id": "41249ccf",
   "metadata": {},
   "outputs": [
    {
     "data": {
      "text/plain": [
       "App Name             0.00\n",
       "App Id               0.00\n",
       "Category             0.00\n",
       "Rating               0.99\n",
       "Rating Count         0.99\n",
       "Installs             0.00\n",
       "Minimum Installs     0.00\n",
       "Maximum Installs     0.00\n",
       "Free                 0.00\n",
       "Price                0.00\n",
       "Currency             0.01\n",
       "Size                 0.01\n",
       "Minimum Android      0.28\n",
       "Developer Id         0.00\n",
       "Developer Website   32.89\n",
       "Developer Email      0.00\n",
       "Released             3.07\n",
       "Last Updated         0.00\n",
       "Content Rating       0.00\n",
       "Privacy Policy      18.20\n",
       "Ad Supported         0.00\n",
       "In App Purchases     0.00\n",
       "Editors Choice       0.00\n",
       "Scraped Time         0.00\n",
       "dtype: float64"
      ]
     },
     "execution_count": 27,
     "metadata": {},
     "output_type": "execute_result"
    }
   ],
   "source": [
    "df.agg(missing_ratio)"
   ]
  },
  {
   "cell_type": "markdown",
   "id": "9b192425",
   "metadata": {},
   "source": [
    "Nhìn chung, các giá trị thiếu không nhiều, nên không cần phải bỏ đi cột nào có chứa quá nhiều giá trị thiếu"
   ]
  },
  {
   "cell_type": "markdown",
   "id": "fb448519",
   "metadata": {},
   "source": [
    "---"
   ]
  },
  {
   "cell_type": "markdown",
   "id": "4e371646",
   "metadata": {},
   "source": [
    "# Tiền xử lý"
   ]
  },
  {
   "cell_type": "markdown",
   "id": "61bdfe7c",
   "metadata": {},
   "source": [
    "## Bỏ cột Installs"
   ]
  },
  {
   "cell_type": "code",
   "execution_count": 32,
   "id": "00d93915",
   "metadata": {},
   "outputs": [],
   "source": [
    "df.drop(columns = 'Installs', inplace = True)"
   ]
  },
  {
   "cell_type": "markdown",
   "id": "7ca7bbb2",
   "metadata": {},
   "source": [
    "## Thay các giá trị NaN thành giá trị hợp lý"
   ]
  },
  {
   "cell_type": "markdown",
   "id": "9926eab2",
   "metadata": {},
   "source": [
    "Ta nhận thấy, ở 3 cột trên, giá trị nhỏ nhất có thể có là 0 (Không có lượt tải / đánh giá nào cả). Vì vậy, ta sẽ thay các giá trị NaN thành 0"
   ]
  },
  {
   "cell_type": "code",
   "execution_count": 28,
   "id": "9ebfa748",
   "metadata": {},
   "outputs": [],
   "source": [
    "df['Rating'] = df['Rating'].replace(np.nan, 0)\n",
    "df['Rating Count'] = df['Rating Count'].replace(np.nan, 0)\n",
    "df['Minimum Installs'] = df['Minimum Installs'].replace(np.nan, 0)"
   ]
  },
  {
   "cell_type": "markdown",
   "id": "924fe3bf",
   "metadata": {},
   "source": [
    "## Chuyển dtype của các cột 'Minimum Installs' và 'Rating Count' thành int64"
   ]
  },
  {
   "cell_type": "markdown",
   "id": "8952ea3e",
   "metadata": {},
   "source": [
    "Sau khi đã điều chỉnh các giá trị NaN thành 0, ta có thể chuyển dữ liệu 2 cột này thành int64"
   ]
  },
  {
   "cell_type": "code",
   "execution_count": 29,
   "id": "aaefc5b1",
   "metadata": {},
   "outputs": [],
   "source": [
    "df['Minimum Installs'] = df['Minimum Installs'].astype(np.int64)\n",
    "df['Rating Count'] = df['Rating Count'].astype(np.int64)"
   ]
  },
  {
   "cell_type": "markdown",
   "id": "d40ccb29",
   "metadata": {},
   "source": [
    "## Chuyển dtype của các cột 'Released', 'Last Updated', 'Scraped Time' thành datetime"
   ]
  },
  {
   "cell_type": "code",
   "execution_count": 34,
   "id": "46f97097",
   "metadata": {},
   "outputs": [],
   "source": [
    "df['Released'] = pd.to_datetime(df['Released'], format = '%b %d, %Y')\n",
    "df['Last Updated'] = pd.to_datetime(df['Last Updated'], format = '%b %d, %Y')\n",
    "df['Scraped Time'] = pd.to_datetime(df['Scraped Time'], format = '%Y-%m-%d %X')"
   ]
  },
  {
   "cell_type": "markdown",
   "id": "4837d7b6",
   "metadata": {},
   "source": [
    "Kiểm tra lại dtypes"
   ]
  },
  {
   "cell_type": "code",
   "execution_count": 35,
   "id": "4c79186c",
   "metadata": {},
   "outputs": [
    {
     "data": {
      "text/plain": [
       "App Name                     object\n",
       "App Id                       object\n",
       "Category                     object\n",
       "Rating                      float64\n",
       "Rating Count                  int64\n",
       "Minimum Installs              int64\n",
       "Maximum Installs              int64\n",
       "Free                           bool\n",
       "Price                       float64\n",
       "Currency                     object\n",
       "Size                         object\n",
       "Minimum Android              object\n",
       "Developer Id                 object\n",
       "Developer Website            object\n",
       "Developer Email              object\n",
       "Released             datetime64[ns]\n",
       "Last Updated         datetime64[ns]\n",
       "Content Rating               object\n",
       "Privacy Policy               object\n",
       "Ad Supported                   bool\n",
       "In App Purchases               bool\n",
       "Editors Choice                 bool\n",
       "Scraped Time         datetime64[ns]\n",
       "dtype: object"
      ]
     },
     "execution_count": 35,
     "metadata": {},
     "output_type": "execute_result"
    }
   ],
   "source": [
    "df.dtypes"
   ]
  },
  {
   "cell_type": "markdown",
   "id": "5ba7f929",
   "metadata": {},
   "source": [
    "# Quay lại bước khám phá dữ liệu"
   ]
  },
  {
   "cell_type": "markdown",
   "id": "26160756",
   "metadata": {},
   "source": [
    "## Với các cột có kiểu numeric và datetime ,các giá trị được phân bố như thế nào?"
   ]
  },
  {
   "cell_type": "code",
   "execution_count": 86,
   "id": "baa070e0",
   "metadata": {
    "scrolled": true
   },
   "outputs": [
    {
     "data": {
      "text/html": [
       "<div>\n",
       "<style scoped>\n",
       "    .dataframe tbody tr th:only-of-type {\n",
       "        vertical-align: middle;\n",
       "    }\n",
       "\n",
       "    .dataframe tbody tr th {\n",
       "        vertical-align: top;\n",
       "    }\n",
       "\n",
       "    .dataframe thead th {\n",
       "        text-align: right;\n",
       "    }\n",
       "</style>\n",
       "<table border=\"1\" class=\"dataframe\">\n",
       "  <thead>\n",
       "    <tr style=\"text-align: right;\">\n",
       "      <th></th>\n",
       "      <th>Rating</th>\n",
       "      <th>Rating Count</th>\n",
       "      <th>Minimum Installs</th>\n",
       "      <th>Maximum Installs</th>\n",
       "      <th>Price</th>\n",
       "      <th>Released</th>\n",
       "      <th>Last Updated</th>\n",
       "      <th>Scraped Time</th>\n",
       "    </tr>\n",
       "  </thead>\n",
       "  <tbody>\n",
       "    <tr>\n",
       "      <th>min</th>\n",
       "      <td>0.00</td>\n",
       "      <td>0</td>\n",
       "      <td>0</td>\n",
       "      <td>0</td>\n",
       "      <td>0.00</td>\n",
       "      <td>2010-01-28</td>\n",
       "      <td>2009-02-09</td>\n",
       "      <td>2021-06-15 20:19:35</td>\n",
       "    </tr>\n",
       "    <tr>\n",
       "      <th>max</th>\n",
       "      <td>5.00</td>\n",
       "      <td>138557570</td>\n",
       "      <td>10000000000</td>\n",
       "      <td>12057627016</td>\n",
       "      <td>400.00</td>\n",
       "      <td>2021-06-16</td>\n",
       "      <td>2021-06-16</td>\n",
       "      <td>2021-06-16 15:10:42</td>\n",
       "    </tr>\n",
       "  </tbody>\n",
       "</table>\n",
       "</div>"
      ],
      "text/plain": [
       "     Rating  Rating Count  Minimum Installs  Maximum Installs  Price  \\\n",
       "min    0.00             0                 0                 0   0.00   \n",
       "max    5.00     138557570       10000000000       12057627016 400.00   \n",
       "\n",
       "      Released Last Updated        Scraped Time  \n",
       "min 2010-01-28   2009-02-09 2021-06-15 20:19:35  \n",
       "max 2021-06-16   2021-06-16 2021-06-16 15:10:42  "
      ]
     },
     "execution_count": 86,
     "metadata": {},
     "output_type": "execute_result"
    }
   ],
   "source": [
    "num_cols = df.agg(lambda x: x.dtypes != object and x.dtypes != bool)\n",
    "num_cols = num_cols[num_cols].index.to_list()\n",
    "df[num_cols].agg([min, max])"
   ]
  },
  {
   "cell_type": "markdown",
   "id": "59e1b357",
   "metadata": {},
   "source": [
    "Dựa trên phân bố trên:\n",
    "- Theo cột \"Rating\", \"Rating Count\" thì có vẻ như có tận 25% các app không có đánh giá.\n",
    "\n",
    "- Có vẻ như đa phần các app đều free nên phân vị thứ 25, 50, 75 của \"Price\" là 0 (hoặc gần bằng 0)"
   ]
  },
  {
   "cell_type": "markdown",
   "id": "118fb464",
   "metadata": {},
   "source": [
    "## Với mỗi cột có kiểu dữ liệu dạng categorical, các giá trị được phân bố như thế nào?"
   ]
  },
  {
   "cell_type": "code",
   "execution_count": 37,
   "id": "c2a37541",
   "metadata": {},
   "outputs": [],
   "source": [
    "def num_diff_vals(s):\n",
    "    return s.nunique()\n",
    "def diff_vals(s):\n",
    "    return s.unique()"
   ]
  },
  {
   "cell_type": "code",
   "execution_count": 89,
   "id": "47b589c6",
   "metadata": {
    "scrolled": true
   },
   "outputs": [
    {
     "data": {
      "text/html": [
       "<div>\n",
       "<style scoped>\n",
       "    .dataframe tbody tr th:only-of-type {\n",
       "        vertical-align: middle;\n",
       "    }\n",
       "\n",
       "    .dataframe tbody tr th {\n",
       "        vertical-align: top;\n",
       "    }\n",
       "\n",
       "    .dataframe thead th {\n",
       "        text-align: right;\n",
       "    }\n",
       "</style>\n",
       "<table border=\"1\" class=\"dataframe\">\n",
       "  <thead>\n",
       "    <tr style=\"text-align: right;\">\n",
       "      <th></th>\n",
       "      <th>App Name</th>\n",
       "      <th>App Id</th>\n",
       "      <th>Category</th>\n",
       "      <th>Currency</th>\n",
       "      <th>Size</th>\n",
       "      <th>Minimum Android</th>\n",
       "      <th>Developer Id</th>\n",
       "      <th>Developer Website</th>\n",
       "      <th>Developer Email</th>\n",
       "      <th>Content Rating</th>\n",
       "      <th>Privacy Policy</th>\n",
       "    </tr>\n",
       "  </thead>\n",
       "  <tbody>\n",
       "    <tr>\n",
       "      <th>num_diff_vals</th>\n",
       "      <td>2177944</td>\n",
       "      <td>2312944</td>\n",
       "      <td>48</td>\n",
       "      <td>15</td>\n",
       "      <td>1657</td>\n",
       "      <td>154</td>\n",
       "      <td>758371</td>\n",
       "      <td>810440</td>\n",
       "      <td>950456</td>\n",
       "      <td>6</td>\n",
       "      <td>977743</td>\n",
       "    </tr>\n",
       "    <tr>\n",
       "      <th>diff_vals</th>\n",
       "      <td>[Gakondo, Ampere Battery Info, Vibook, Smart C...</td>\n",
       "      <td>[com.ishakwe.gakondo, com.webserveis.batteryin...</td>\n",
       "      <td>[Adventure, Tools, Productivity, Communication...</td>\n",
       "      <td>[USD, XXX, CAD, EUR, INR, nan, VND, GBP, BRL, ...</td>\n",
       "      <td>[10M, 2.9M, 3.7M, 1.8M, 6.2M, 46M, 2.5M, 16M, ...</td>\n",
       "      <td>[7.1 and up, 5.0 and up, 4.0.3 and up, 4.1 and...</td>\n",
       "      <td>[Jean Confident Irénée NIYIZIBYOSE, Webserveis...</td>\n",
       "      <td>[https://beniyizibyose.tk/#/, https://webserve...</td>\n",
       "      <td>[jean21101999@gmail.com, webserveis@gmail.com,...</td>\n",
       "      <td>[Everyone, Teen, Mature 17+, Everyone 10+, Adu...</td>\n",
       "      <td>[https://beniyizibyose.tk/projects/, https://d...</td>\n",
       "    </tr>\n",
       "  </tbody>\n",
       "</table>\n",
       "</div>"
      ],
      "text/plain": [
       "                                                        App Name  \\\n",
       "num_diff_vals                                            2177944   \n",
       "diff_vals      [Gakondo, Ampere Battery Info, Vibook, Smart C...   \n",
       "\n",
       "                                                          App Id  \\\n",
       "num_diff_vals                                            2312944   \n",
       "diff_vals      [com.ishakwe.gakondo, com.webserveis.batteryin...   \n",
       "\n",
       "                                                        Category  \\\n",
       "num_diff_vals                                                 48   \n",
       "diff_vals      [Adventure, Tools, Productivity, Communication...   \n",
       "\n",
       "                                                        Currency  \\\n",
       "num_diff_vals                                                 15   \n",
       "diff_vals      [USD, XXX, CAD, EUR, INR, nan, VND, GBP, BRL, ...   \n",
       "\n",
       "                                                            Size  \\\n",
       "num_diff_vals                                               1657   \n",
       "diff_vals      [10M, 2.9M, 3.7M, 1.8M, 6.2M, 46M, 2.5M, 16M, ...   \n",
       "\n",
       "                                                 Minimum Android  \\\n",
       "num_diff_vals                                                154   \n",
       "diff_vals      [7.1 and up, 5.0 and up, 4.0.3 and up, 4.1 and...   \n",
       "\n",
       "                                                    Developer Id  \\\n",
       "num_diff_vals                                             758371   \n",
       "diff_vals      [Jean Confident Irénée NIYIZIBYOSE, Webserveis...   \n",
       "\n",
       "                                               Developer Website  \\\n",
       "num_diff_vals                                             810440   \n",
       "diff_vals      [https://beniyizibyose.tk/#/, https://webserve...   \n",
       "\n",
       "                                                 Developer Email  \\\n",
       "num_diff_vals                                             950456   \n",
       "diff_vals      [jean21101999@gmail.com, webserveis@gmail.com,...   \n",
       "\n",
       "                                                  Content Rating  \\\n",
       "num_diff_vals                                                  6   \n",
       "diff_vals      [Everyone, Teen, Mature 17+, Everyone 10+, Adu...   \n",
       "\n",
       "                                                  Privacy Policy  \n",
       "num_diff_vals                                             977743  \n",
       "diff_vals      [https://beniyizibyose.tk/projects/, https://d...  "
      ]
     },
     "execution_count": 89,
     "metadata": {},
     "output_type": "execute_result"
    }
   ],
   "source": [
    "cate_cols = df.agg(lambda x: x.dtypes == object)\n",
    "cate_cols = cate_cols[cate_cols].index.to_list()\n",
    "df[cate_cols].agg([num_diff_vals, diff_vals])"
   ]
  },
  {
   "cell_type": "markdown",
   "id": "19528c98",
   "metadata": {},
   "source": [
    "## Với mỗi cột có kiểu dữ liệu dạng bool, các giá trị được phân bố như thế nào?"
   ]
  },
  {
   "cell_type": "code",
   "execution_count": 110,
   "id": "89a38aac",
   "metadata": {},
   "outputs": [],
   "source": [
    "def num_true_vals(s):\n",
    "    return s.value_counts()[True]\n",
    "def num_false_vals(s):\n",
    "    return s.value_counts()[False]"
   ]
  },
  {
   "cell_type": "code",
   "execution_count": 113,
   "id": "6769c8ec",
   "metadata": {},
   "outputs": [
    {
     "data": {
      "text/html": [
       "<div>\n",
       "<style scoped>\n",
       "    .dataframe tbody tr th:only-of-type {\n",
       "        vertical-align: middle;\n",
       "    }\n",
       "\n",
       "    .dataframe tbody tr th {\n",
       "        vertical-align: top;\n",
       "    }\n",
       "\n",
       "    .dataframe thead th {\n",
       "        text-align: right;\n",
       "    }\n",
       "</style>\n",
       "<table border=\"1\" class=\"dataframe\">\n",
       "  <thead>\n",
       "    <tr style=\"text-align: right;\">\n",
       "      <th></th>\n",
       "      <th>Free</th>\n",
       "      <th>Ad Supported</th>\n",
       "      <th>In App Purchases</th>\n",
       "      <th>Editors Choice</th>\n",
       "    </tr>\n",
       "  </thead>\n",
       "  <tbody>\n",
       "    <tr>\n",
       "      <th>num_true_vals</th>\n",
       "      <td>2267876</td>\n",
       "      <td>1150774</td>\n",
       "      <td>195309</td>\n",
       "      <td>853</td>\n",
       "    </tr>\n",
       "    <tr>\n",
       "      <th>num_false_vals</th>\n",
       "      <td>45068</td>\n",
       "      <td>1162170</td>\n",
       "      <td>2117635</td>\n",
       "      <td>2312091</td>\n",
       "    </tr>\n",
       "  </tbody>\n",
       "</table>\n",
       "</div>"
      ],
      "text/plain": [
       "                   Free  Ad Supported  In App Purchases  Editors Choice\n",
       "num_true_vals   2267876       1150774            195309             853\n",
       "num_false_vals    45068       1162170           2117635         2312091"
      ]
     },
     "execution_count": 113,
     "metadata": {},
     "output_type": "execute_result"
    }
   ],
   "source": [
    "bool_cols = df.agg(lambda x: x.dtypes == bool)\n",
    "bool_cols = bool_cols[bool_cols].index.to_list()\n",
    "df[bool_cols].agg([num_true_vals,num_false_vals])"
   ]
  },
  {
   "cell_type": "markdown",
   "id": "471b2416",
   "metadata": {},
   "source": [
    "---"
   ]
  },
  {
   "cell_type": "markdown",
   "id": "56692701",
   "metadata": {},
   "source": [
    "# Đặt câu hỏi"
   ]
  },
  {
   "cell_type": "markdown",
   "id": "b3e225d1",
   "metadata": {},
   "source": [
    "---"
   ]
  },
  {
   "cell_type": "markdown",
   "id": "704c19e1",
   "metadata": {},
   "source": [
    "# Trả lời câu hỏi"
   ]
  }
 ],
 "metadata": {
  "kernelspec": {
   "display_name": "Python 3 (ipykernel)",
   "language": "python",
   "name": "python3"
  },
  "language_info": {
   "codemirror_mode": {
    "name": "ipython",
    "version": 3
   },
   "file_extension": ".py",
   "mimetype": "text/x-python",
   "name": "python",
   "nbconvert_exporter": "python",
   "pygments_lexer": "ipython3",
   "version": "3.8.8"
  }
 },
 "nbformat": 4,
 "nbformat_minor": 5
}
